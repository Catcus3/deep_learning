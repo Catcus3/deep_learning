{
 "cells": [
  {
   "cell_type": "code",
   "execution_count": 18,
   "id": "cb0bcb76",
   "metadata": {},
   "outputs": [
    {
     "name": "stdout",
     "output_type": "stream",
     "text": [
      "PyTorch version: 2.5.1+cu121\n",
      "CUDA available: True\n",
      "CUDA version: 12.1\n",
      "GPU device: NVIDIA GeForce RTX 3050 Ti Laptop GPU\n",
      "GPU memory: 4.3 GB\n"
     ]
    }
   ],
   "source": [
    "import torch\n",
    "from torch import nn\n",
    "from torch.utils.data import Dataset, DataLoader\n",
    "import os\n",
    "import numpy as np\n",
    "import matplotlib.pyplot as plt\n",
    "from tqdm.auto import tqdm\n",
    "import math\n",
    "\n",
    "print(f\"PyTorch version: {torch.__version__}\")\n",
    "print(f\"CUDA available: {torch.cuda.is_available()}\")\n",
    "if torch.cuda.is_available():\n",
    "    print(f\"CUDA version: {torch.version.cuda}\")\n",
    "    print(f\"GPU device: {torch.cuda.get_device_name(0)}\")\n",
    "    print(f\"GPU memory: {torch.cuda.get_device_properties(0).total_memory / 1e9:.1f} GB\")"
   ]
  },
  {
   "cell_type": "code",
   "execution_count": 19,
   "id": "02334408",
   "metadata": {},
   "outputs": [],
   "source": [
    "class ModelNetCustomDataset(Dataset):\n",
    "    def __init__(self, train: bool, classes=None, debug=True):\n",
    "        self.debug = debug\n",
    "        \n",
    "        if train:\n",
    "            x = torch.load(\"../data/ModelNet_subset/train_x.pt\", weights_only=True)\n",
    "            y = torch.load(\"../data/ModelNet_subset/train_y.pt\", weights_only=True)\n",
    "        else:\n",
    "            x = torch.load(\"../data/ModelNet_subset/test_x.pt\", weights_only=True)\n",
    "            y = torch.load(\"../data/ModelNet_subset/test_y.pt\", weights_only=True)\n",
    "\n",
    "        # Load class names\n",
    "        raw_dir = r\"C:\\Users\\snevi\\OneDrive\\Documents\\coding\\AI\\deep_learning\\data\\ModelNet\\raw\"\n",
    "        self.class_names = sorted([\n",
    "            name for name in os.listdir(raw_dir)\n",
    "            if os.path.isdir(os.path.join(raw_dir, name))\n",
    "        ])\n",
    "\n",
    "        # Initialize mappings\n",
    "        self.class_mapping = None\n",
    "        self.reverse_mapping = None\n",
    "        self.original_classes = classes\n",
    "\n",
    "        if self.debug:\n",
    "            print(f\"Original data shapes: x={x.shape}, y={y.shape}\")\n",
    "            print(f\"Original label range: [{y.min()}, {y.max()}]\")\n",
    "            print(f\"Classes to filter: {classes}\")\n",
    "\n",
    "        # Filter classes FIRST, then standardize the filtered data\n",
    "        if classes is not None:\n",
    "            x, y = self.filter_classes(x, y, classes)\n",
    "            \n",
    "            if self.debug:\n",
    "                print(f\"After filtering: x={x.shape}, y={y.shape}\")\n",
    "                print(f\"Filtered label range: [{y.min()}, {y.max()}]\")\n",
    "\n",
    "            # Create mapping from original class IDs to new contiguous IDs\n",
    "            self.class_mapping = {original_id: new_id for new_id, original_id in enumerate(sorted(classes))}\n",
    "            self.reverse_mapping = {new_id: original_id for original_id, new_id in self.class_mapping.items()}\n",
    "            \n",
    "            if self.debug:\n",
    "                print(f\"Class mapping: {self.class_mapping}\")\n",
    "            \n",
    "            # Remap class IDs to be contiguous [0, 1, 2, ..., len(classes)-1]\n",
    "            y = self.remap_classes(y)\n",
    "            \n",
    "            if self.debug:\n",
    "                print(f\"After remapping: label range [{y.min()}, {y.max()}]\")\n",
    "                print(f\"Expected range: [0, {len(classes)-1}]\")\n",
    "\n",
    "        # Apply standardization to the (potentially filtered) data\n",
    "        self.x = self.standardise(x)\n",
    "        self.y = y\n",
    "        \n",
    "        if self.debug:\n",
    "            print(f\"Final dataset: x={self.x.shape}, y={self.y.shape}\")\n",
    "            print(f\"Final label range: [{self.y.min()}, {self.y.max()}]\")\n",
    "        \n",
    "    def remap_classes(self, y):\n",
    "        \"\"\"Remap original class IDs to contiguous range [0, 1, 2, ...]\"\"\"\n",
    "        y_remapped = torch.zeros_like(y)\n",
    "        for i in range(len(y)):\n",
    "            original_class = y[i].item()\n",
    "            if original_class not in self.class_mapping:\n",
    "                raise ValueError(f\"Class {original_class} not found in mapping {self.class_mapping}\")\n",
    "            new_class = self.class_mapping[original_class]\n",
    "            y_remapped[i] = new_class\n",
    "        return y_remapped\n",
    "\n",
    "    def standardise(self, x):\n",
    "        standardised_data = torch.zeros_like(x)\n",
    "        for i in range(x.shape[0]):\n",
    "            obj = x[i]\n",
    "            mean_x = obj.mean(dim=0)\n",
    "            std_x = obj.std()\n",
    "            standardised_data[i] = (obj - mean_x) / (std_x + 1e-8)\n",
    "        return standardised_data\n",
    "\n",
    "    def filter_classes(self, x, y, classes):\n",
    "        indices_to_keep = []\n",
    "        for idx in range(len(y)):\n",
    "            if y[idx].item() in classes:\n",
    "                indices_to_keep.append(idx)\n",
    "        \n",
    "        if len(indices_to_keep) == 0:\n",
    "            raise ValueError(f\"No samples found for classes {classes}\")\n",
    "        \n",
    "        x_selected = torch.index_select(x, dim=0, index=torch.tensor(indices_to_keep))\n",
    "        y_selected = torch.index_select(y, dim=0, index=torch.tensor(indices_to_keep))\n",
    "        return x_selected, y_selected\n",
    "\n",
    "    def __len__(self):\n",
    "        return len(self.x)\n",
    "    \n",
    "    def __getitem__(self, idx):\n",
    "        point_cloud = self.x[idx]\n",
    "        class_id = self.y[idx]\n",
    "\n",
    "        # Get original class name using reverse mapping\n",
    "        if self.reverse_mapping is not None:\n",
    "            original_class_id = self.reverse_mapping[class_id.item()]\n",
    "            label = self.class_names[original_class_id]\n",
    "        else:\n",
    "            label = self.class_names[class_id.item()]\n",
    "        \n",
    "        return point_cloud, class_id, label"
   ]
  },
  {
   "cell_type": "code",
   "execution_count": 20,
   "id": "d6185cf0",
   "metadata": {},
   "outputs": [],
   "source": [
    "# selected_classes = [0, 5, 6, 7, 8, 10, 19, 24, 26, 30, 32, 33, 34, 35, 37]\n",
    "# NUM_CLASSES = len(selected_classes)\n",
    "# train_dataset = ModelNetCustomDataset(train=True, classes=selected_classes, debug=False)\n",
    "# test_dataset = ModelNetCustomDataset(train=False, classes=selected_classes, debug=False)\n",
    "\n",
    "# BATCH_SIZE = 16  # Smaller for debugging\n",
    "# EPOCHS = 10\n",
    "# INPUT_SHAPE = (200, 3)\n",
    "\n",
    "# train_dataloader = DataLoader(train_dataset, batch_size=BATCH_SIZE, shuffle=True)\n",
    "# test_dataloader = DataLoader(test_dataset, batch_size=BATCH_SIZE, shuffle=False)\n",
    "\n",
    "# device = \"cuda\" if torch.cuda.is_available() else \"cpu\""
   ]
  },
  {
   "cell_type": "code",
   "execution_count": 21,
   "id": "2867475a",
   "metadata": {},
   "outputs": [],
   "source": [
    "#selected_classes = [0, 5, 6, 7, 8, 10, 19, 24, 26, 30, 32, 33, 34, 35, 37]\n",
    "all_classes = [i for i in range(0,40)]\n",
    "poor_classes = [24,39,1,21,36,12,23,3,10,15,11,38,29,13,27]\n",
    "selected_classes = [i for i in all_classes if i not in poor_classes]\n",
    "NUM_CLASSES = len(selected_classes)\n",
    "train_dataset = ModelNetCustomDataset(train=True, classes=selected_classes, debug=False)\n",
    "test_dataset = ModelNetCustomDataset(train=False, classes=selected_classes, debug=False)\n",
    "\n",
    "BATCH_SIZE = 32\n",
    "EPOCHS = 30\n",
    "INPUT_SHAPE = (200, 3)\n",
    "\n",
    "train_dataloader = DataLoader(train_dataset, batch_size=BATCH_SIZE, shuffle=True)\n",
    "test_dataloader = DataLoader(test_dataset, batch_size=BATCH_SIZE, shuffle=False)\n",
    "\n",
    "device = \"cuda\" if torch.cuda.is_available() else \"cpu\""
   ]
  },
  {
   "cell_type": "markdown",
   "id": "82c70c8d",
   "metadata": {},
   "source": [
    "## models"
   ]
  },
  {
   "cell_type": "code",
   "execution_count": 22,
   "id": "6aafea84",
   "metadata": {},
   "outputs": [
    {
     "name": "stdout",
     "output_type": "stream",
     "text": [
      "Model created with:\n",
      "   Input shape: 600 (flattened from (200, 3))\n",
      "   Hidden units: 128\n",
      "   Output classes: 25\n",
      "   Model parameters: 80,153\n"
     ]
    }
   ],
   "source": [
    "class SimpleBaseline(nn.Module):\n",
    "    def __init__(self, input_shape: int, hidden_units: int, output_shape: int):\n",
    "        super().__init__()\n",
    "        self.layer_stack = nn.Sequential(\n",
    "            nn.Flatten(), \n",
    "            nn.Linear(in_features=input_shape, out_features=hidden_units), \n",
    "            nn.ReLU(),\n",
    "            nn.Linear(in_features=hidden_units, out_features=output_shape)\n",
    "        )\n",
    "    \n",
    "    def forward(self, x): \n",
    "        return self.layer_stack(x)\n",
    "\n",
    "# Model parameters\n",
    "model = SimpleBaseline(\n",
    "    input_shape=INPUT_SHAPE[0] * INPUT_SHAPE[1],\n",
    "    hidden_units=128,\n",
    "    output_shape=NUM_CLASSES\n",
    ")\n",
    "\n",
    "print(f\"Model created with:\")\n",
    "print(f\"   Input shape: {INPUT_SHAPE[0] * INPUT_SHAPE[1]} (flattened from {INPUT_SHAPE})\")\n",
    "print(f\"   Hidden units: 128\")\n",
    "print(f\"   Output classes: {NUM_CLASSES}\")\n",
    "print(f\"   Model parameters: {sum(p.numel() for p in model.parameters()):,}\")"
   ]
  },
  {
   "cell_type": "code",
   "execution_count": 23,
   "id": "2707de3e",
   "metadata": {},
   "outputs": [],
   "source": [
    "class SingleHeadSelfAttention(nn.Module):\n",
    "    \"\"\"\n",
    "    x: (B, N, E)\n",
    "      E = embed_dim (input feature size per token)\n",
    "      d_k = query/key size\n",
    "      d_v = value size (can differ from d_k)\n",
    "    Returns: (B, N, out_dim) where out_dim defaults to d_v unless specified.\n",
    "    \"\"\"\n",
    "    def __init__(self,\n",
    "                 embed_dim: int,\n",
    "                 d_k: int,\n",
    "                 d_v: int,\n",
    "                 out_dim: int | None = None,\n",
    "                 p_drop: float = 0.0):\n",
    "        super().__init__()\n",
    "        self.q_proj = nn.Linear(embed_dim, d_k)\n",
    "        self.k_proj = nn.Linear(embed_dim, d_k)\n",
    "        self.v_proj = nn.Linear(embed_dim, d_v)\n",
    "\n",
    "        # if want to keep the same width as the rest of the model (e.g., embed_dim), set out_dim=embed_dim; otherwise it will output size d_v.\n",
    "        self.out_dim = d_v if out_dim is None else out_dim\n",
    "        self.out_proj = (\n",
    "            nn.Identity() if self.out_dim == d_v else nn.Linear(d_v, self.out_dim)\n",
    "        )\n",
    "\n",
    "        #/ torch.sqrt(torch.tensor(self.hidden_dim)) creates new CPU tensor every forward\n",
    "        self.scale = 1.0 / math.sqrt(d_k)  # scale by sqrt(d_k) (constant scaling factor)\n",
    "\n",
    "        #dropout for attention probabilities - randomly zeroes fraction p and rescales rest by 1/(1-p) (Pytorch inverted dropout)\n",
    "        #encourages model not to rely on single sharp attention pattern to improve generalisation\n",
    "        self.attn_drop = nn.Dropout(p_drop)\n",
    "\n",
    "        #feature dropout on per-token features produced by attention - randomly zeros elements of output vectors\n",
    "        self.proj_drop = nn.Dropout(p_drop)\n",
    "\n",
    "    def forward(self, x: torch.Tensor) -> torch.Tensor:\n",
    "        # x: (B, N, E)\n",
    "        q = self.q_proj(x)                     # (B, N, d_k)\n",
    "        k = self.k_proj(x)                     # (B, N, d_k)\n",
    "        v = self.v_proj(x)                     # (B, N, d_v)\n",
    "\n",
    "        #calculate attention weights\n",
    "        # k.T flips all dims, including batch -> only need to transpose last two dims\n",
    "        # k:(B,N,H) -> k.T:(H,N,B), but k.transpose(-2,-1): (B,H,N)\n",
    "        # (B,N,H) @ (B,H,N) -> (B,N,N)\n",
    "        scores = (q @ k.transpose(-2, -1)) * self.scale  # (B, N, N)\n",
    "        attn = torch.softmax(scores, dim=-1)             # (B, N, N)\n",
    "        attn = self.attn_drop(attn)\n",
    "\n",
    "        y = attn @ v                                     # (B, N, d_v)\n",
    "        y = self.out_proj(y)                             # (B, N, out_dim)\n",
    "        y = self.proj_drop(y)\n",
    "        return y"
   ]
  },
  {
   "cell_type": "code",
   "execution_count": 24,
   "id": "b77f9252",
   "metadata": {},
   "outputs": [],
   "source": [
    "class SingleHeadClassifier(nn.Module):\n",
    "    \"\"\"\n",
    "    Minimal single-head attention classifier for point clouds.\n",
    "    Input: (B, N, 3)\n",
    "\n",
    "    -- attn(d_k,d_v,out_dim) --> (B,N,out_dim)\n",
    "    -- mean pooling --> (B,out_dim)\n",
    "    -- linear --> (B, num_classes)\n",
    "\n",
    "    Output: (B, num_classes) logits\n",
    "    \"\"\"\n",
    "    def __init__(self, \n",
    "            num_classes:int,\n",
    "            embed_dim: int = 64,\n",
    "            d_k: int = 64,\n",
    "            d_v: int = 64,\n",
    "            out_dim: int = 64,\n",
    "            p_drop: float = 0.1):\n",
    "        \n",
    "        super().__init__()\n",
    "\n",
    "        #takes each point's raw coords (x,y,z) and lifts them into richer feature space of size embed_dim\n",
    "        #3 numbers too limited for attention to learn useful relations\n",
    "        #small MLP creates more expressive per-point features\n",
    "\n",
    "\n",
    "        self.embed=nn.Sequential(\n",
    "            nn.Linear(3,embed_dim),\n",
    "\n",
    "            #GELU = Gaussian Error Linear Unit = smooth activarion, like ReLU but with smoother graident\n",
    "            nn.GELU(),\n",
    "            nn.Linear(embed_dim,embed_dim)\n",
    "        )\n",
    "\n",
    "        self.attn = SingleHeadSelfAttention(\n",
    "            embed_dim=embed_dim, d_k=d_k, d_v=d_v, out_dim=out_dim, p_drop=p_drop\n",
    "        )\n",
    "\n",
    "        #if ever switch back to mean-only, change the head to nn.Linear(out_dim, num_classes)\n",
    "        self.head = nn.Linear(2 * out_dim, num_classes) \n",
    "\n",
    "    def forward(self, x):\n",
    "        x=self.embed(x)         # (B, N, embed_dim)\n",
    "        x = self.attn(x)            # (B, N, out_dim)\n",
    "\n",
    "        #mean pool over points, averages over N points\n",
    "        #symmetric reduction - permutation-invariant as reordering points does not change mean - important as point cloud is an unordered set\n",
    "        #smooth, noise tolerant summary\n",
    "        feat_mean = x.mean(dim=1)        # (B, out_dim) \n",
    "\n",
    "        #max pool over points, takes max over N points\n",
    "        #takes strongest activation per channel to pick out edge like features\n",
    "        feat_max = x.amax(dim=1)   # (B, out_dim)\n",
    "\n",
    "        #global pooling - fuses smooth global trends and extremes -> gives small accuracy boost\n",
    "        feat = torch.cat([feat_mean,feat_max],dim=-1) # (B, 2*out_dim)\n",
    "\n",
    "        #pooled feature goes through linear layer to produce class logits suitable for nn.CrossEntropyLoss\n",
    "        logits = self.head(feat)    # (B, num_classes)\n",
    "        return logits\n"
   ]
  },
  {
   "cell_type": "code",
   "execution_count": 25,
   "id": "61911b75",
   "metadata": {},
   "outputs": [],
   "source": [
    "attention_model = SingleHeadClassifier(\n",
    "    num_classes=NUM_CLASSES,\n",
    "    d_k=32, d_v=32, out_dim=32,     # small but effective starting point\n",
    "    p_drop=0.1\n",
    ").to(device)"
   ]
  },
  {
   "cell_type": "markdown",
   "id": "cc0857d6",
   "metadata": {},
   "source": [
    "## steps"
   ]
  },
  {
   "cell_type": "code",
   "execution_count": 26,
   "id": "de8385f7",
   "metadata": {},
   "outputs": [],
   "source": [
    "def accuracy_fn(y_pred,y_true):\n",
    "    \"\"\"\n",
    "    Calculate accuracy of predictions\n",
    "    Args:\n",
    "        y_pred: Predictions from model (logits)\n",
    "        y_true: True labels\n",
    "    Returns:\n",
    "        Accuracy as a percentage\n",
    "    \"\"\"\n",
    "    # Get predicted class indices by taking argmax along the last dimension\n",
    "    y_pred_indices = torch.argmax(y_pred, dim=1)\n",
    "    \n",
    "    # Compare with true labels and calculate accuracy\n",
    "    correct = (y_pred_indices == y_true).sum().item()\n",
    "    total = y_true.size(0)\n",
    "    \n",
    "    return correct / total * 100  # Return accuracy as percentage"
   ]
  },
  {
   "cell_type": "code",
   "execution_count": 27,
   "id": "f71592be",
   "metadata": {},
   "outputs": [],
   "source": [
    "def train_step(\n",
    "        model: nn.Module,\n",
    "        data_loader: DataLoader,\n",
    "        loss_fn: nn.Module,\n",
    "        optimiser: torch.optim.Optimizer,\n",
    "        accuracy_fn,\n",
    "        device: torch.device = device):\n",
    "\n",
    "    train_loss, train_acc = 0, 0\n",
    "    model.to(device)\n",
    "    model.train()\n",
    "    \n",
    "    print(f\"training loop on {device}...\")\n",
    "    \n",
    "    for batch, (X, y, names) in enumerate(data_loader):\n",
    "        \n",
    "        try:\n",
    "            # Move data to device\n",
    "            X, y = X.to(device), y.to(device)\n",
    "            \n",
    "            # Fix label shape\n",
    "            if y.dim() > 1:\n",
    "                y = y.squeeze()\n",
    "            \n",
    "            # Forward pass\n",
    "            y_pred = model(X)\n",
    "            \n",
    "            # Loss and accuracy\n",
    "            loss = loss_fn(y_pred, y)\n",
    "            acc = accuracy_fn(y_pred, y)\n",
    "            \n",
    "            train_loss += loss.item()\n",
    "            train_acc += acc\n",
    "            \n",
    "            # Backward\n",
    "            optimiser.zero_grad()\n",
    "            loss.backward()\n",
    "            \n",
    "            # Update\n",
    "            optimiser.step()\n",
    "\n",
    "            if batch % 400 == 0:\n",
    "                print(f\"TRAIN: Processed {batch * len(X)}/{len(data_loader.dataset)} samples\")\n",
    "            \n",
    "        except Exception as e:\n",
    "            print(f\"   ❌ Error in batch {batch + 1}: {e}\")\n",
    "            import traceback\n",
    "            traceback.print_exc()\n",
    "            break\n",
    "    \n",
    "    # Calculate averages\n",
    "    train_loss /= len(data_loader)\n",
    "    train_acc /= len(data_loader)\n",
    "    print(f\"Train loss: {train_loss:.5f} | Train accuracy: {train_acc:.2f}%\")\n",
    "    return train_loss, train_acc\n"
   ]
  },
  {
   "cell_type": "code",
   "execution_count": 28,
   "id": "9113c63b",
   "metadata": {},
   "outputs": [],
   "source": [
    "def test_step(\n",
    "        model: nn.Module,\n",
    "        data_loader: DataLoader,\n",
    "        loss_fn: nn.Module,\n",
    "        accuracy_fn,\n",
    "        device: torch.device = device\n",
    "):\n",
    "        test_loss, test_acc = 0, 0\n",
    "        model.to(device)\n",
    "        model.eval()  # Set model to evaluation mode\n",
    "        with torch.inference_mode():  # No gradients needed for inference\n",
    "            try:\n",
    "                for batch, (X, y, names) in enumerate(data_loader):\n",
    "                    X, y = X.to(device), y.to(device)\n",
    "\n",
    "                    if y.dim() > 1:\n",
    "                        y = y.squeeze()  # Converts [64, 1] to [64]\n",
    "                    \n",
    "                    y_pred = model(X)\n",
    "\n",
    "                    loss = loss_fn(y_pred, y)\n",
    "                    acc = accuracy_fn(y_pred, y)\n",
    "\n",
    "                    test_loss += loss.item()\n",
    "                    test_acc += acc\n",
    "\n",
    "                    if batch % 400 == 0:\n",
    "                        print(f\"Processed {batch * len(X)}/{len(data_loader.dataset)} samples\")\n",
    "            except Exception as e:\n",
    "                print(f\"   ❌ Error in batch {batch + 1}: {e}\")\n",
    "                import traceback\n",
    "                traceback.print_exc()\n",
    "\n",
    "            # Average loss per batch per epoch\n",
    "            test_loss /= len(data_loader)\n",
    "            test_acc /= len(data_loader)\n",
    "            print(f\"Test loss: {test_loss:.5f} | Test accuracy: {test_acc:.2f}%\")\n",
    "        return test_loss, test_acc"
   ]
  },
  {
   "cell_type": "code",
   "execution_count": 29,
   "id": "a0ef5c21",
   "metadata": {},
   "outputs": [],
   "source": [
    "def train_model(model,epochs):\n",
    "    train_accs,test_accs,train_losses,test_losses=[],[],[],[]\n",
    "    loss_fn= nn.CrossEntropyLoss()\n",
    "    optimiser = torch.optim.Adam(model.parameters(), lr=0.001)\n",
    "\n",
    "    for epoch in tqdm(range(epochs)):\n",
    "        print(f\"\\nEpoch {epoch+1}/{epochs}\")\n",
    "        \n",
    "        # Train step\n",
    "        train_loss, train_acc = train_step(\n",
    "            model=model,\n",
    "            data_loader=train_dataloader,\n",
    "            loss_fn=loss_fn,\n",
    "            optimiser=optimiser,\n",
    "            accuracy_fn=accuracy_fn,\n",
    "            device=device\n",
    "        )\n",
    "        \n",
    "        # Test step\n",
    "        test_loss, test_acc = test_step(\n",
    "            model=model,\n",
    "            data_loader=test_dataloader,\n",
    "            loss_fn=loss_fn,\n",
    "            accuracy_fn=accuracy_fn,\n",
    "            device=device\n",
    "        )\n",
    "        \n",
    "        # Store metrics\n",
    "        train_losses.append(train_loss)\n",
    "        train_accs.append(train_acc)\n",
    "        test_losses.append(test_loss)\n",
    "        test_accs.append(test_acc)\n",
    "    \n",
    "    return train_accs, test_accs, train_losses, test_losses\n"
   ]
  },
  {
   "cell_type": "code",
   "execution_count": 30,
   "id": "c2e56875",
   "metadata": {},
   "outputs": [],
   "source": [
    "def plot_acc_losses(\n",
    "        model_name: str,\n",
    "        train_accs: list,\n",
    "        test_accs: list,\n",
    "        train_losses: list,\n",
    "        test_losses: list,\n",
    "        epochs: int = 7\n",
    "):\n",
    "        f,(ax1,ax2)=plt.subplots(1,2)\n",
    "        f.set_size_inches(15,5)\n",
    "        ax1.plot(np.arange(1,epochs+1,1),test_accs,label=\"Test Accuracies\")\n",
    "        ax1.plot(np.arange(1,epochs+1,1),train_accs, label=\"Train Accuracies\")\n",
    "        ax1.set_title(f\"{model_name} Accuracies\")\n",
    "        ax1.legend()\n",
    "        ax1.set_ylabel(\"Accuracies (%)\")\n",
    "        ax1.set_xlabel(\"Epochs\")\n",
    "\n",
    "        ax2.plot(np.arange(1,epochs+1,1),test_losses, label=\"Test Losses\")\n",
    "        ax2.plot(np.arange(1,epochs+1,1),train_losses, label=\"Train Losses\")\n",
    "        ax2.set_title(f\"{model_name} Losses\")\n",
    "        ax2.legend()\n",
    "        ax2.set_ylabel(\"Losses\")\n",
    "        ax2.set_xlabel(\"Epochs\")\n",
    "    "
   ]
  },
  {
   "cell_type": "markdown",
   "id": "e50c2b8d",
   "metadata": {},
   "source": [
    "## test"
   ]
  },
  {
   "cell_type": "code",
   "execution_count": 35,
   "id": "0f5a3921",
   "metadata": {},
   "outputs": [
    {
     "name": "stderr",
     "output_type": "stream",
     "text": [
      "  0%|          | 0/10 [00:00<?, ?it/s]"
     ]
    },
    {
     "name": "stdout",
     "output_type": "stream",
     "text": [
      "\n",
      "Epoch 1/10\n",
      "training loop on cuda...\n",
      "TRAIN: Processed 0/7628 samples\n"
     ]
    },
    {
     "name": "stderr",
     "output_type": "stream",
     "text": [
      " 10%|█         | 1/10 [00:00<00:03,  2.45it/s]"
     ]
    },
    {
     "name": "stdout",
     "output_type": "stream",
     "text": [
      "Train loss: 0.03978 | Train accuracy: 99.26%\n",
      "Processed 0/1846 samples\n",
      "Test loss: 8.09283 | Test accuracy: 19.84%\n",
      "\n",
      "Epoch 2/10\n",
      "training loop on cuda...\n",
      "TRAIN: Processed 0/7628 samples\n"
     ]
    },
    {
     "name": "stderr",
     "output_type": "stream",
     "text": [
      " 20%|██        | 2/10 [00:00<00:03,  2.44it/s]"
     ]
    },
    {
     "name": "stdout",
     "output_type": "stream",
     "text": [
      "Train loss: 0.07233 | Train accuracy: 98.30%\n",
      "Processed 0/1846 samples\n",
      "Test loss: 8.14833 | Test accuracy: 20.19%\n",
      "\n",
      "Epoch 3/10\n",
      "training loop on cuda...\n",
      "TRAIN: Processed 0/7628 samples\n"
     ]
    },
    {
     "name": "stderr",
     "output_type": "stream",
     "text": [
      " 30%|███       | 3/10 [00:01<00:02,  2.47it/s]"
     ]
    },
    {
     "name": "stdout",
     "output_type": "stream",
     "text": [
      "Train loss: 0.03309 | Train accuracy: 99.48%\n",
      "Processed 0/1846 samples\n",
      "Test loss: 8.25172 | Test accuracy: 20.06%\n",
      "\n",
      "Epoch 4/10\n",
      "training loop on cuda...\n",
      "TRAIN: Processed 0/7628 samples\n"
     ]
    },
    {
     "name": "stderr",
     "output_type": "stream",
     "text": [
      " 40%|████      | 4/10 [00:01<00:02,  2.52it/s]"
     ]
    },
    {
     "name": "stdout",
     "output_type": "stream",
     "text": [
      "Train loss: 0.02364 | Train accuracy: 99.69%\n",
      "Processed 0/1846 samples\n",
      "Test loss: 8.25521 | Test accuracy: 20.03%\n",
      "\n",
      "Epoch 5/10\n",
      "training loop on cuda...\n",
      "TRAIN: Processed 0/7628 samples\n"
     ]
    },
    {
     "name": "stderr",
     "output_type": "stream",
     "text": [
      " 50%|█████     | 5/10 [00:02<00:02,  2.49it/s]"
     ]
    },
    {
     "name": "stdout",
     "output_type": "stream",
     "text": [
      "Train loss: 0.02129 | Train accuracy: 99.69%\n",
      "Processed 0/1846 samples\n",
      "Test loss: 8.31717 | Test accuracy: 20.33%\n",
      "\n",
      "Epoch 6/10\n",
      "training loop on cuda...\n",
      "TRAIN: Processed 0/7628 samples\n"
     ]
    },
    {
     "name": "stderr",
     "output_type": "stream",
     "text": [
      " 60%|██████    | 6/10 [00:02<00:01,  2.52it/s]"
     ]
    },
    {
     "name": "stdout",
     "output_type": "stream",
     "text": [
      "Train loss: 0.02015 | Train accuracy: 99.71%\n",
      "Processed 0/1846 samples\n",
      "Test loss: 8.38306 | Test accuracy: 20.25%\n",
      "\n",
      "Epoch 7/10\n",
      "training loop on cuda...\n",
      "TRAIN: Processed 0/7628 samples\n"
     ]
    },
    {
     "name": "stderr",
     "output_type": "stream",
     "text": [
      " 70%|███████   | 7/10 [00:02<00:01,  2.51it/s]"
     ]
    },
    {
     "name": "stdout",
     "output_type": "stream",
     "text": [
      "Train loss: 0.01928 | Train accuracy: 99.71%\n",
      "Processed 0/1846 samples\n",
      "Test loss: 8.46570 | Test accuracy: 20.46%\n",
      "\n",
      "Epoch 8/10\n",
      "training loop on cuda...\n",
      "TRAIN: Processed 0/7628 samples\n"
     ]
    },
    {
     "name": "stderr",
     "output_type": "stream",
     "text": [
      " 80%|████████  | 8/10 [00:03<00:00,  2.54it/s]"
     ]
    },
    {
     "name": "stdout",
     "output_type": "stream",
     "text": [
      "Train loss: 0.01841 | Train accuracy: 99.71%\n",
      "Processed 0/1846 samples\n",
      "Test loss: 8.53429 | Test accuracy: 20.12%\n",
      "\n",
      "Epoch 9/10\n",
      "training loop on cuda...\n",
      "TRAIN: Processed 0/7628 samples\n"
     ]
    },
    {
     "name": "stderr",
     "output_type": "stream",
     "text": [
      " 90%|█████████ | 9/10 [00:03<00:00,  2.56it/s]"
     ]
    },
    {
     "name": "stdout",
     "output_type": "stream",
     "text": [
      "Train loss: 0.01762 | Train accuracy: 99.75%\n",
      "Processed 0/1846 samples\n",
      "Test loss: 8.63286 | Test accuracy: 20.22%\n",
      "\n",
      "Epoch 10/10\n",
      "training loop on cuda...\n",
      "TRAIN: Processed 0/7628 samples\n"
     ]
    },
    {
     "name": "stderr",
     "output_type": "stream",
     "text": [
      "100%|██████████| 10/10 [00:03<00:00,  2.52it/s]"
     ]
    },
    {
     "name": "stdout",
     "output_type": "stream",
     "text": [
      "Train loss: 0.01672 | Train accuracy: 99.78%\n",
      "Processed 0/1846 samples\n",
      "Test loss: 8.74717 | Test accuracy: 20.03%\n"
     ]
    },
    {
     "name": "stderr",
     "output_type": "stream",
     "text": [
      "\n"
     ]
    }
   ],
   "source": [
    "(baseline_train_accs, baseline_test_accs,\n",
    "    baseline_train_losses, baseline_test_losses) = train_model(model, epochs=10)"
   ]
  },
  {
   "cell_type": "code",
   "execution_count": 36,
   "id": "4ee77b8c",
   "metadata": {},
   "outputs": [
    {
     "data": {
      "image/png": "[encoded data removed]",
      "text/plain": [
       "<Figure size 1500x500 with 2 Axes>"
      ]
     },
     "metadata": {},
     "output_type": "display_data"
    }
   ],
   "source": [
    "plot_acc_losses(\n",
    "    model_name=\"Baseline\",\n",
    "    train_accs=baseline_train_accs,\n",
    "    test_accs=baseline_test_accs,\n",
    "    train_losses=baseline_train_losses,\n",
    "    test_losses=baseline_test_losses,\n",
    "    epochs=10\n",
    ")"
   ]
  },
  {
   "cell_type": "code",
   "execution_count": 33,
   "id": "83d22a52",
   "metadata": {},
   "outputs": [
    {
     "name": "stderr",
     "output_type": "stream",
     "text": [
      "  0%|          | 0/30 [00:00<?, ?it/s]"
     ]
    },
    {
     "name": "stdout",
     "output_type": "stream",
     "text": [
      "\n",
      "Epoch 1/30\n",
      "training loop on cuda...\n",
      "TRAIN: Processed 0/7628 samples\n"
     ]
    },
    {
     "name": "stderr",
     "output_type": "stream",
     "text": [
      "  3%|▎         | 1/30 [00:01<00:29,  1.02s/it]"
     ]
    },
    {
     "name": "stdout",
     "output_type": "stream",
     "text": [
      "Train loss: 2.39460 | Train accuracy: 31.65%\n",
      "Processed 0/1846 samples\n",
      "Test loss: 2.05330 | Test accuracy: 40.46%\n",
      "\n",
      "Epoch 2/30\n",
      "training loop on cuda...\n",
      "TRAIN: Processed 0/7628 samples\n"
     ]
    },
    {
     "name": "stderr",
     "output_type": "stream",
     "text": [
      "  7%|▋         | 2/30 [00:01<00:25,  1.09it/s]"
     ]
    },
    {
     "name": "stdout",
     "output_type": "stream",
     "text": [
      "Train loss: 1.56242 | Train accuracy: 55.04%\n",
      "Processed 0/1846 samples\n",
      "Test loss: 1.85763 | Test accuracy: 44.77%\n",
      "\n",
      "Epoch 3/30\n",
      "training loop on cuda...\n",
      "TRAIN: Processed 0/7628 samples\n"
     ]
    },
    {
     "name": "stderr",
     "output_type": "stream",
     "text": [
      " 10%|█         | 3/30 [00:02<00:23,  1.16it/s]"
     ]
    },
    {
     "name": "stdout",
     "output_type": "stream",
     "text": [
      "Train loss: 1.39102 | Train accuracy: 58.26%\n",
      "Processed 0/1846 samples\n",
      "Test loss: 1.76130 | Test accuracy: 48.05%\n",
      "\n",
      "Epoch 4/30\n",
      "training loop on cuda...\n",
      "TRAIN: Processed 0/7628 samples\n"
     ]
    },
    {
     "name": "stderr",
     "output_type": "stream",
     "text": [
      " 13%|█▎        | 4/30 [00:03<00:22,  1.17it/s]"
     ]
    },
    {
     "name": "stdout",
     "output_type": "stream",
     "text": [
      "Train loss: 1.30622 | Train accuracy: 61.04%\n",
      "Processed 0/1846 samples\n",
      "Test loss: 1.77176 | Test accuracy: 46.91%\n",
      "\n",
      "Epoch 5/30\n",
      "training loop on cuda...\n",
      "TRAIN: Processed 0/7628 samples\n"
     ]
    },
    {
     "name": "stderr",
     "output_type": "stream",
     "text": [
      " 17%|█▋        | 5/30 [00:04<00:21,  1.15it/s]"
     ]
    },
    {
     "name": "stdout",
     "output_type": "stream",
     "text": [
      "Train loss: 1.22606 | Train accuracy: 63.33%\n",
      "Processed 0/1846 samples\n",
      "Test loss: 1.71544 | Test accuracy: 51.15%\n",
      "\n",
      "Epoch 6/30\n",
      "training loop on cuda...\n",
      "TRAIN: Processed 0/7628 samples\n"
     ]
    },
    {
     "name": "stderr",
     "output_type": "stream",
     "text": [
      " 20%|██        | 6/30 [00:05<00:20,  1.15it/s]"
     ]
    },
    {
     "name": "stdout",
     "output_type": "stream",
     "text": [
      "Train loss: 1.14285 | Train accuracy: 66.40%\n",
      "Processed 0/1846 samples\n",
      "Test loss: 1.76243 | Test accuracy: 49.68%\n",
      "\n",
      "Epoch 7/30\n",
      "training loop on cuda...\n",
      "TRAIN: Processed 0/7628 samples\n"
     ]
    },
    {
     "name": "stderr",
     "output_type": "stream",
     "text": [
      " 23%|██▎       | 7/30 [00:06<00:19,  1.16it/s]"
     ]
    },
    {
     "name": "stdout",
     "output_type": "stream",
     "text": [
      "Train loss: 1.07602 | Train accuracy: 68.77%\n",
      "Processed 0/1846 samples\n",
      "Test loss: 1.83467 | Test accuracy: 49.82%\n",
      "\n",
      "Epoch 8/30\n",
      "training loop on cuda...\n",
      "TRAIN: Processed 0/7628 samples\n"
     ]
    },
    {
     "name": "stderr",
     "output_type": "stream",
     "text": [
      " 27%|██▋       | 8/30 [00:06<00:19,  1.15it/s]"
     ]
    },
    {
     "name": "stdout",
     "output_type": "stream",
     "text": [
      "Train loss: 1.01868 | Train accuracy: 70.32%\n",
      "Processed 0/1846 samples\n",
      "Test loss: 1.92642 | Test accuracy: 49.27%\n",
      "\n",
      "Epoch 9/30\n",
      "training loop on cuda...\n",
      "TRAIN: Processed 0/7628 samples\n"
     ]
    },
    {
     "name": "stderr",
     "output_type": "stream",
     "text": [
      " 30%|███       | 9/30 [00:07<00:17,  1.18it/s]"
     ]
    },
    {
     "name": "stdout",
     "output_type": "stream",
     "text": [
      "Train loss: 0.96703 | Train accuracy: 71.84%\n",
      "Processed 0/1846 samples\n",
      "Test loss: 1.93477 | Test accuracy: 51.24%\n",
      "\n",
      "Epoch 10/30\n",
      "training loop on cuda...\n",
      "TRAIN: Processed 0/7628 samples\n"
     ]
    },
    {
     "name": "stderr",
     "output_type": "stream",
     "text": [
      " 33%|███▎      | 10/30 [00:08<00:16,  1.19it/s]"
     ]
    },
    {
     "name": "stdout",
     "output_type": "stream",
     "text": [
      "Train loss: 0.93006 | Train accuracy: 72.83%\n",
      "Processed 0/1846 samples\n",
      "Test loss: 2.01296 | Test accuracy: 48.63%\n",
      "\n",
      "Epoch 11/30\n",
      "training loop on cuda...\n",
      "TRAIN: Processed 0/7628 samples\n"
     ]
    },
    {
     "name": "stderr",
     "output_type": "stream",
     "text": [
      " 37%|███▋      | 11/30 [00:09<00:15,  1.20it/s]"
     ]
    },
    {
     "name": "stdout",
     "output_type": "stream",
     "text": [
      "Train loss: 0.89893 | Train accuracy: 73.84%\n",
      "Processed 0/1846 samples\n",
      "Test loss: 1.70992 | Test accuracy: 55.84%\n",
      "\n",
      "Epoch 12/30\n",
      "training loop on cuda...\n",
      "TRAIN: Processed 0/7628 samples\n"
     ]
    },
    {
     "name": "stderr",
     "output_type": "stream",
     "text": [
      " 40%|████      | 12/30 [00:10<00:14,  1.21it/s]"
     ]
    },
    {
     "name": "stdout",
     "output_type": "stream",
     "text": [
      "Train loss: 0.87436 | Train accuracy: 74.47%\n",
      "Processed 0/1846 samples\n",
      "Test loss: 2.38498 | Test accuracy: 47.84%\n",
      "\n",
      "Epoch 13/30\n",
      "training loop on cuda...\n",
      "TRAIN: Processed 0/7628 samples\n"
     ]
    },
    {
     "name": "stderr",
     "output_type": "stream",
     "text": [
      " 43%|████▎     | 13/30 [00:11<00:14,  1.21it/s]"
     ]
    },
    {
     "name": "stdout",
     "output_type": "stream",
     "text": [
      "Train loss: 0.85668 | Train accuracy: 74.89%\n",
      "Processed 0/1846 samples\n",
      "Test loss: 2.74593 | Test accuracy: 44.71%\n",
      "\n",
      "Epoch 14/30\n",
      "training loop on cuda...\n",
      "TRAIN: Processed 0/7628 samples\n"
     ]
    },
    {
     "name": "stderr",
     "output_type": "stream",
     "text": [
      " 47%|████▋     | 14/30 [00:11<00:13,  1.22it/s]"
     ]
    },
    {
     "name": "stdout",
     "output_type": "stream",
     "text": [
      "Train loss: 0.84025 | Train accuracy: 75.34%\n",
      "Processed 0/1846 samples\n",
      "Test loss: 2.28759 | Test accuracy: 50.39%\n",
      "\n",
      "Epoch 15/30\n",
      "training loop on cuda...\n",
      "TRAIN: Processed 0/7628 samples\n"
     ]
    },
    {
     "name": "stderr",
     "output_type": "stream",
     "text": [
      " 50%|█████     | 15/30 [00:12<00:12,  1.17it/s]"
     ]
    },
    {
     "name": "stdout",
     "output_type": "stream",
     "text": [
      "Train loss: 0.82262 | Train accuracy: 76.05%\n",
      "Processed 0/1846 samples\n",
      "Test loss: 2.06228 | Test accuracy: 52.68%\n",
      "\n",
      "Epoch 16/30\n",
      "training loop on cuda...\n",
      "TRAIN: Processed 0/7628 samples\n"
     ]
    },
    {
     "name": "stderr",
     "output_type": "stream",
     "text": [
      " 53%|█████▎    | 16/30 [00:13<00:11,  1.19it/s]"
     ]
    },
    {
     "name": "stdout",
     "output_type": "stream",
     "text": [
      "Train loss: 0.83301 | Train accuracy: 75.85%\n",
      "Processed 0/1846 samples\n",
      "Test loss: 2.95400 | Test accuracy: 45.76%\n",
      "\n",
      "Epoch 17/30\n",
      "training loop on cuda...\n",
      "TRAIN: Processed 0/7628 samples\n"
     ]
    },
    {
     "name": "stderr",
     "output_type": "stream",
     "text": [
      " 57%|█████▋    | 17/30 [00:14<00:10,  1.18it/s]"
     ]
    },
    {
     "name": "stdout",
     "output_type": "stream",
     "text": [
      "Train loss: 0.79603 | Train accuracy: 77.13%\n",
      "Processed 0/1846 samples\n",
      "Test loss: 1.90678 | Test accuracy: 57.41%\n",
      "\n",
      "Epoch 18/30\n",
      "training loop on cuda...\n",
      "TRAIN: Processed 0/7628 samples\n"
     ]
    },
    {
     "name": "stderr",
     "output_type": "stream",
     "text": [
      " 60%|██████    | 18/30 [00:15<00:10,  1.18it/s]"
     ]
    },
    {
     "name": "stdout",
     "output_type": "stream",
     "text": [
      "Train loss: 0.77858 | Train accuracy: 77.04%\n",
      "Processed 0/1846 samples\n",
      "Test loss: 2.15070 | Test accuracy: 52.35%\n",
      "\n",
      "Epoch 19/30\n",
      "training loop on cuda...\n",
      "TRAIN: Processed 0/7628 samples\n"
     ]
    },
    {
     "name": "stderr",
     "output_type": "stream",
     "text": [
      " 63%|██████▎   | 19/30 [00:16<00:09,  1.19it/s]"
     ]
    },
    {
     "name": "stdout",
     "output_type": "stream",
     "text": [
      "Train loss: 0.76132 | Train accuracy: 77.54%\n",
      "Processed 0/1846 samples\n",
      "Test loss: 2.18607 | Test accuracy: 54.17%\n",
      "\n",
      "Epoch 20/30\n",
      "training loop on cuda...\n",
      "TRAIN: Processed 0/7628 samples\n"
     ]
    },
    {
     "name": "stderr",
     "output_type": "stream",
     "text": [
      " 67%|██████▋   | 20/30 [00:17<00:08,  1.17it/s]"
     ]
    },
    {
     "name": "stdout",
     "output_type": "stream",
     "text": [
      "Train loss: 0.75642 | Train accuracy: 78.10%\n",
      "Processed 0/1846 samples\n",
      "Test loss: 2.12667 | Test accuracy: 55.86%\n",
      "\n",
      "Epoch 21/30\n",
      "training loop on cuda...\n",
      "TRAIN: Processed 0/7628 samples\n"
     ]
    },
    {
     "name": "stderr",
     "output_type": "stream",
     "text": [
      " 70%|███████   | 21/30 [00:17<00:07,  1.19it/s]"
     ]
    },
    {
     "name": "stdout",
     "output_type": "stream",
     "text": [
      "Train loss: 0.73571 | Train accuracy: 78.77%\n",
      "Processed 0/1846 samples\n",
      "Test loss: 2.45096 | Test accuracy: 53.58%\n",
      "\n",
      "Epoch 22/30\n",
      "training loop on cuda...\n",
      "TRAIN: Processed 0/7628 samples\n"
     ]
    },
    {
     "name": "stderr",
     "output_type": "stream",
     "text": [
      " 73%|███████▎  | 22/30 [00:18<00:06,  1.20it/s]"
     ]
    },
    {
     "name": "stdout",
     "output_type": "stream",
     "text": [
      "Train loss: 0.72642 | Train accuracy: 78.86%\n",
      "Processed 0/1846 samples\n",
      "Test loss: 2.19979 | Test accuracy: 54.49%\n",
      "\n",
      "Epoch 23/30\n",
      "training loop on cuda...\n",
      "TRAIN: Processed 0/7628 samples\n"
     ]
    },
    {
     "name": "stderr",
     "output_type": "stream",
     "text": [
      " 77%|███████▋  | 23/30 [00:19<00:06,  1.16it/s]"
     ]
    },
    {
     "name": "stdout",
     "output_type": "stream",
     "text": [
      "Train loss: 0.71206 | Train accuracy: 79.45%\n",
      "Processed 0/1846 samples\n",
      "Test loss: 1.81879 | Test accuracy: 58.53%\n",
      "\n",
      "Epoch 24/30\n",
      "training loop on cuda...\n",
      "TRAIN: Processed 0/7628 samples\n"
     ]
    },
    {
     "name": "stderr",
     "output_type": "stream",
     "text": [
      " 80%|████████  | 24/30 [00:20<00:05,  1.15it/s]"
     ]
    },
    {
     "name": "stdout",
     "output_type": "stream",
     "text": [
      "Train loss: 0.71225 | Train accuracy: 79.18%\n",
      "Processed 0/1846 samples\n",
      "Test loss: 2.65268 | Test accuracy: 51.64%\n",
      "\n",
      "Epoch 25/30\n",
      "training loop on cuda...\n",
      "TRAIN: Processed 0/7628 samples\n"
     ]
    },
    {
     "name": "stderr",
     "output_type": "stream",
     "text": [
      " 83%|████████▎ | 25/30 [00:21<00:04,  1.16it/s]"
     ]
    },
    {
     "name": "stdout",
     "output_type": "stream",
     "text": [
      "Train loss: 0.72338 | Train accuracy: 79.20%\n",
      "Processed 0/1846 samples\n",
      "Test loss: 1.79697 | Test accuracy: 57.96%\n",
      "\n",
      "Epoch 26/30\n",
      "training loop on cuda...\n",
      "TRAIN: Processed 0/7628 samples\n"
     ]
    },
    {
     "name": "stderr",
     "output_type": "stream",
     "text": [
      " 87%|████████▋ | 26/30 [00:22<00:03,  1.16it/s]"
     ]
    },
    {
     "name": "stdout",
     "output_type": "stream",
     "text": [
      "Train loss: 0.69856 | Train accuracy: 79.66%\n",
      "Processed 0/1846 samples\n",
      "Test loss: 1.84300 | Test accuracy: 60.04%\n",
      "\n",
      "Epoch 27/30\n",
      "training loop on cuda...\n",
      "TRAIN: Processed 0/7628 samples\n"
     ]
    },
    {
     "name": "stderr",
     "output_type": "stream",
     "text": [
      " 90%|█████████ | 27/30 [00:23<00:02,  1.16it/s]"
     ]
    },
    {
     "name": "stdout",
     "output_type": "stream",
     "text": [
      "Train loss: 0.67700 | Train accuracy: 80.27%\n",
      "Processed 0/1846 samples\n",
      "Test loss: 2.22139 | Test accuracy: 54.87%\n",
      "\n",
      "Epoch 28/30\n",
      "training loop on cuda...\n",
      "TRAIN: Processed 0/7628 samples\n"
     ]
    },
    {
     "name": "stderr",
     "output_type": "stream",
     "text": [
      " 93%|█████████▎| 28/30 [00:23<00:01,  1.15it/s]"
     ]
    },
    {
     "name": "stdout",
     "output_type": "stream",
     "text": [
      "Train loss: 0.68004 | Train accuracy: 80.63%\n",
      "Processed 0/1846 samples\n",
      "Test loss: 1.79224 | Test accuracy: 60.53%\n",
      "\n",
      "Epoch 29/30\n",
      "training loop on cuda...\n",
      "TRAIN: Processed 0/7628 samples\n"
     ]
    },
    {
     "name": "stderr",
     "output_type": "stream",
     "text": [
      " 97%|█████████▋| 29/30 [00:24<00:00,  1.13it/s]"
     ]
    },
    {
     "name": "stdout",
     "output_type": "stream",
     "text": [
      "Train loss: 0.67794 | Train accuracy: 80.28%\n",
      "Processed 0/1846 samples\n",
      "Test loss: 1.92038 | Test accuracy: 56.29%\n",
      "\n",
      "Epoch 30/30\n",
      "training loop on cuda...\n",
      "TRAIN: Processed 0/7628 samples\n"
     ]
    },
    {
     "name": "stderr",
     "output_type": "stream",
     "text": [
      "100%|██████████| 30/30 [00:25<00:00,  1.17it/s]"
     ]
    },
    {
     "name": "stdout",
     "output_type": "stream",
     "text": [
      "Train loss: 0.67006 | Train accuracy: 80.56%\n",
      "Processed 0/1846 samples\n",
      "Test loss: 1.64093 | Test accuracy: 60.04%\n"
     ]
    },
    {
     "name": "stderr",
     "output_type": "stream",
     "text": [
      "\n"
     ]
    }
   ],
   "source": [
    "(train_accs, test_accs,\n",
    " train_losses, test_losses) = train_model(attention_model, epochs=EPOCHS)"
   ]
  },
  {
   "cell_type": "code",
   "execution_count": 34,
   "id": "9350a549",
   "metadata": {},
   "outputs": [
    {
     "data": {
      "image/png": "[encoded data removed]",
      "text/plain": [
       "<Figure size 1500x500 with 2 Axes>"
      ]
     },
     "metadata": {},
     "output_type": "display_data"
    }
   ],
   "source": [
    "plot_acc_losses(\n",
    "    model_name=\"Single Head Self-Attention Classifier\",\n",
    "    train_accs=train_accs,\n",
    "    test_accs=test_accs,\n",
    "    train_losses=train_losses,\n",
    "    test_losses=test_losses,\n",
    "    epochs=EPOCHS\n",
    ")"
   ]
  }
 ],
 "metadata": {
  "kernelspec": {
   "display_name": "venv311",
   "language": "python",
   "name": "python3"
  },
  "language_info": {
   "codemirror_mode": {
    "name": "ipython",
    "version": 3
   },
   "file_extension": ".py",
   "mimetype": "text/x-python",
   "name": "python",
   "nbconvert_exporter": "python",
   "pygments_lexer": "ipython3",
   "version": "3.11.0"
  }
 },
 "nbformat": 4,
 "nbformat_minor": 5
}
