{
 "cells": [
  {
   "cell_type": "markdown",
   "id": "91c189d9",
   "metadata": {},
   "source": [
    "## import data and libraries"
   ]
  },
  {
   "cell_type": "code",
   "execution_count": 96,
   "id": "cb0bcb76",
   "metadata": {},
   "outputs": [
    {
     "name": "stdout",
     "output_type": "stream",
     "text": [
      "PyTorch version: 2.5.1+cu121\n",
      "CUDA available: True\n",
      "CUDA version: 12.1\n",
      "GPU device: NVIDIA GeForce RTX 3050 Ti Laptop GPU\n",
      "GPU memory: 4.3 GB\n"
     ]
    }
   ],
   "source": [
    "import torch\n",
    "from torch import nn\n",
    "from torch.utils.data import Dataset, DataLoader\n",
    "import os\n",
    "import numpy as np\n",
    "import matplotlib.pyplot as plt\n",
    "from tqdm.auto import tqdm\n",
    "import math\n",
    "\n",
    "print(f\"PyTorch version: {torch.__version__}\")\n",
    "print(f\"CUDA available: {torch.cuda.is_available()}\")\n",
    "if torch.cuda.is_available():\n",
    "    print(f\"CUDA version: {torch.version.cuda}\")\n",
    "    print(f\"GPU device: {torch.cuda.get_device_name(0)}\")\n",
    "    print(f\"GPU memory: {torch.cuda.get_device_properties(0).total_memory / 1e9:.1f} GB\")"
   ]
  },
  {
   "cell_type": "code",
   "execution_count": 97,
   "id": "02334408",
   "metadata": {},
   "outputs": [],
   "source": [
    "class ModelNetCustomDataset(Dataset):\n",
    "    def __init__(self, train: bool, classes=None, debug=True):\n",
    "        self.debug = debug\n",
    "        \n",
    "        if train:\n",
    "            x = torch.load(\"../data/ModelNet_subset/train_x.pt\", weights_only=True)\n",
    "            y = torch.load(\"../data/ModelNet_subset/train_y.pt\", weights_only=True)\n",
    "        else:\n",
    "            x = torch.load(\"../data/ModelNet_subset/test_x.pt\", weights_only=True)\n",
    "            y = torch.load(\"../data/ModelNet_subset/test_y.pt\", weights_only=True)\n",
    "\n",
    "        # Load class names\n",
    "        raw_dir = r\"C:\\Users\\snevi\\OneDrive\\Documents\\coding\\AI\\deep_learning\\data\\ModelNet\\raw\"\n",
    "        self.class_names = sorted([\n",
    "            name for name in os.listdir(raw_dir)\n",
    "            if os.path.isdir(os.path.join(raw_dir, name))\n",
    "        ])\n",
    "\n",
    "        # Initialize mappings\n",
    "        self.class_mapping = None\n",
    "        self.reverse_mapping = None\n",
    "        self.original_classes = classes\n",
    "\n",
    "        if self.debug:\n",
    "            print(f\"Original data shapes: x={x.shape}, y={y.shape}\")\n",
    "            print(f\"Original label range: [{y.min()}, {y.max()}]\")\n",
    "            print(f\"Classes to filter: {classes}\")\n",
    "\n",
    "        # Filter classes FIRST, then standardize the filtered data\n",
    "        if classes is not None:\n",
    "            x, y = self.filter_classes(x, y, classes)\n",
    "            \n",
    "            if self.debug:\n",
    "                print(f\"After filtering: x={x.shape}, y={y.shape}\")\n",
    "                print(f\"Filtered label range: [{y.min()}, {y.max()}]\")\n",
    "\n",
    "            # Create mapping from original class IDs to new contiguous IDs\n",
    "            self.class_mapping = {original_id: new_id for new_id, original_id in enumerate(sorted(classes))}\n",
    "            self.reverse_mapping = {new_id: original_id for original_id, new_id in self.class_mapping.items()}\n",
    "            \n",
    "            if self.debug:\n",
    "                print(f\"Class mapping: {self.class_mapping}\")\n",
    "            \n",
    "            # Remap class IDs to be contiguous [0, 1, 2, ..., len(classes)-1]\n",
    "            y = self.remap_classes(y)\n",
    "            \n",
    "            if self.debug:\n",
    "                print(f\"After remapping: label range [{y.min()}, {y.max()}]\")\n",
    "                print(f\"Expected range: [0, {len(classes)-1}]\")\n",
    "\n",
    "        # Apply standardization to the (potentially filtered) data\n",
    "        self.x = self.standardise(x)\n",
    "        self.y = y\n",
    "        \n",
    "        if self.debug:\n",
    "            print(f\"Final dataset: x={self.x.shape}, y={self.y.shape}\")\n",
    "            print(f\"Final label range: [{self.y.min()}, {self.y.max()}]\")\n",
    "        \n",
    "    def remap_classes(self, y):\n",
    "        \"\"\"Remap original class IDs to contiguous range [0, 1, 2, ...]\"\"\"\n",
    "        y_remapped = torch.zeros_like(y)\n",
    "        for i in range(len(y)):\n",
    "            original_class = y[i].item()\n",
    "            if original_class not in self.class_mapping:\n",
    "                raise ValueError(f\"Class {original_class} not found in mapping {self.class_mapping}\")\n",
    "            new_class = self.class_mapping[original_class]\n",
    "            y_remapped[i] = new_class\n",
    "        return y_remapped\n",
    "\n",
    "    def standardise(self, x):\n",
    "        standardised_data = torch.zeros_like(x)\n",
    "        for i in range(x.shape[0]):\n",
    "            obj = x[i]\n",
    "            mean_x = obj.mean(dim=0)\n",
    "            std_x = obj.std()\n",
    "            standardised_data[i] = (obj - mean_x) / (std_x + 1e-8)\n",
    "        return standardised_data\n",
    "\n",
    "    def filter_classes(self, x, y, classes):\n",
    "        indices_to_keep = []\n",
    "        for idx in range(len(y)):\n",
    "            if y[idx].item() in classes:\n",
    "                indices_to_keep.append(idx)\n",
    "        \n",
    "        if len(indices_to_keep) == 0:\n",
    "            raise ValueError(f\"No samples found for classes {classes}\")\n",
    "        \n",
    "        x_selected = torch.index_select(x, dim=0, index=torch.tensor(indices_to_keep))\n",
    "        y_selected = torch.index_select(y, dim=0, index=torch.tensor(indices_to_keep))\n",
    "        return x_selected, y_selected\n",
    "\n",
    "    def __len__(self):\n",
    "        return len(self.x)\n",
    "    \n",
    "    def __getitem__(self, idx):\n",
    "        point_cloud = self.x[idx]\n",
    "        class_id = self.y[idx]\n",
    "\n",
    "        # Get original class name using reverse mapping\n",
    "        if self.reverse_mapping is not None:\n",
    "            original_class_id = self.reverse_mapping[class_id.item()]\n",
    "            label = self.class_names[original_class_id]\n",
    "        else:\n",
    "            label = self.class_names[class_id.item()]\n",
    "        \n",
    "        return point_cloud, class_id, label"
   ]
  },
  {
   "cell_type": "markdown",
   "id": "cc0857d6",
   "metadata": {},
   "source": [
    "## steps"
   ]
  },
  {
   "cell_type": "code",
   "execution_count": 98,
   "id": "de8385f7",
   "metadata": {},
   "outputs": [],
   "source": [
    "def accuracy_fn(y_pred,y_true):\n",
    "    \"\"\"\n",
    "    Calculate accuracy of predictions\n",
    "    Args:\n",
    "        y_pred: Predictions from model (logits)\n",
    "        y_true: True labels\n",
    "    Returns:\n",
    "        Accuracy as a percentage\n",
    "    \"\"\"\n",
    "    # Get predicted class indices by taking argmax along the last dimension\n",
    "    y_pred_indices = torch.argmax(y_pred, dim=1)\n",
    "    \n",
    "    # Compare with true labels and calculate accuracy\n",
    "    correct = (y_pred_indices == y_true).sum().item()\n",
    "    total = y_true.size(0)\n",
    "    \n",
    "    return correct / total * 100  # Return accuracy as percentage"
   ]
  },
  {
   "cell_type": "code",
   "execution_count": null,
   "id": "f71592be",
   "metadata": {},
   "outputs": [],
   "source": [
    "def train_step(\n",
    "        model: nn.Module,\n",
    "        data_loader: DataLoader,\n",
    "        loss_fn: nn.Module,\n",
    "        optimiser: torch.optim.Optimizer,\n",
    "        accuracy_fn,\n",
    "        device: torch.device = device,\n",
    "        verbose: bool=True):\n",
    "\n",
    "    train_loss, train_acc = 0, 0\n",
    "    model.to(device)\n",
    "    model.train()\n",
    "    \n",
    "    #print(f\"training loop on {device}...\")\n",
    "    \n",
    "    for batch, (X, y, names) in enumerate(data_loader):\n",
    "        \n",
    "        try:\n",
    "            # Move data to device\n",
    "            X, y = X.to(device), y.to(device)\n",
    "            \n",
    "            # Fix label shape\n",
    "            if y.dim() > 1:\n",
    "                y = y.squeeze()\n",
    "            y=y.long()\n",
    "\n",
    "            # Forward pass\n",
    "            y_pred = model(X)\n",
    "            \n",
    "            # Loss and accuracy\n",
    "            loss = loss_fn(y_pred, y)\n",
    "            acc = accuracy_fn(y_pred, y)\n",
    "            \n",
    "            train_loss += loss.item()\n",
    "            train_acc += acc\n",
    "            \n",
    "            # Backward\n",
    "            optimiser.zero_grad()\n",
    "            loss.backward()\n",
    "            \n",
    "            # Update\n",
    "            optimiser.step()\n",
    "\n",
    "            # if batch % 400 == 0:\n",
    "            #     print(f\"TRAIN: Processed {batch * len(X)}/{len(data_loader.dataset)} samples\")\n",
    "            \n",
    "        except Exception as e:\n",
    "            print(f\"   Error in batch {batch + 1}: {e}\")\n",
    "            import traceback\n",
    "            traceback.print_exc()\n",
    "            break\n",
    "    \n",
    "    # Calculate averages\n",
    "    train_loss /= len(data_loader)\n",
    "    train_acc /= len(data_loader)\n",
    "    if verbose == True:\n",
    "        print(f\"Train loss: {train_loss:.5f} | Train accuracy: {train_acc:.2f}%\")\n",
    "    return train_loss, train_acc\n"
   ]
  },
  {
   "cell_type": "code",
   "execution_count": null,
   "id": "9113c63b",
   "metadata": {},
   "outputs": [],
   "source": [
    "def test_step(\n",
    "        model: nn.Module,\n",
    "        data_loader: DataLoader,\n",
    "        loss_fn: nn.Module,\n",
    "        accuracy_fn,\n",
    "        device: torch.device = device,\n",
    "        verbose: bool=True\n",
    "):\n",
    "        test_loss, test_acc = 0, 0\n",
    "        model.to(device)\n",
    "        model.eval()  # Set model to evaluation mode\n",
    "        with torch.inference_mode():  # No gradients needed for inference\n",
    "            try:\n",
    "                for batch, (X, y, names) in enumerate(data_loader):\n",
    "                    X, y = X.to(device), y.to(device)\n",
    "\n",
    "                    if y.dim() > 1:\n",
    "                        y = y.squeeze()  # Converts [64, 1] to [64]\n",
    "                    y=y.long()\n",
    "                    \n",
    "                    y_pred = model(X)\n",
    "\n",
    "                    loss = loss_fn(y_pred, y)\n",
    "                    acc = accuracy_fn(y_pred, y)\n",
    "\n",
    "                    test_loss += loss.item()\n",
    "                    test_acc += acc\n",
    "\n",
    "                    # if batch % 400 == 0:\n",
    "                    #     print(f\"Processed {batch * len(X)}/{len(data_loader.dataset)} samples\")\n",
    "            except Exception as e:\n",
    "                print(f\"   Error in batch {batch + 1}: {e}\")\n",
    "                import traceback\n",
    "                traceback.print_exc()\n",
    "\n",
    "            # Average loss per batch per epoch\n",
    "            test_loss /= len(data_loader)\n",
    "            test_acc /= len(data_loader)\n",
    "            if verbose == True:\n",
    "                print(f\"Test loss: {test_loss:.5f} | Test accuracy: {test_acc:.2f}%\")\n",
    "        return test_loss, test_acc"
   ]
  },
  {
   "cell_type": "code",
   "execution_count": null,
   "id": "a0ef5c21",
   "metadata": {},
   "outputs": [],
   "source": [
    "def train_model(model,epochs, verbose = True):\n",
    "    train_accs,test_accs,train_losses,test_losses=[],[],[],[]\n",
    "    loss_fn= nn.CrossEntropyLoss()\n",
    "    optimiser = torch.optim.Adam(model.parameters(), lr=1e-3, weight_decay=1e-4)  # Added weight decay for regularisation\n",
    "\n",
    "    # Use tqdm only if verbose is True\n",
    "    epoch_iterator = tqdm(range(epochs)) if verbose else range(epochs)\n",
    "    \n",
    "    for epoch in epoch_iterator:\n",
    "        if verbose:\n",
    "            print(f\"\\nEpoch {epoch+1}/{epochs}\")\n",
    "        \n",
    "        # Train step\n",
    "        train_loss, train_acc = train_step(\n",
    "            model=model,\n",
    "            data_loader=train_dataloader,\n",
    "            loss_fn=loss_fn,\n",
    "            optimiser=optimiser,\n",
    "            accuracy_fn=accuracy_fn,\n",
    "            device=device\n",
    "        )\n",
    "        \n",
    "        # Test step\n",
    "        test_loss, test_acc = test_step(\n",
    "            model=model,\n",
    "            data_loader=test_dataloader,\n",
    "            loss_fn=loss_fn,\n",
    "            accuracy_fn=accuracy_fn,\n",
    "            device=device\n",
    "        )\n",
    "        \n",
    "        # Store metrics\n",
    "        train_losses.append(train_loss)\n",
    "        train_accs.append(train_acc)\n",
    "        test_losses.append(test_loss)\n",
    "        test_accs.append(test_acc)\n",
    "\n",
    "    if not verbose:\n",
    "        print(f\"Final: Train Acc: {train_accs[-1]:.2f}%, Test Acc: {test_accs[-1]:.2f}%\")\n",
    "    \n",
    "    \n",
    "    return train_accs, test_accs, train_losses, test_losses\n"
   ]
  },
  {
   "cell_type": "code",
   "execution_count": 102,
   "id": "c2e56875",
   "metadata": {},
   "outputs": [],
   "source": [
    "def plot_acc_losses(\n",
    "        model_name: str,\n",
    "        train_accs: list,\n",
    "        test_accs: list,\n",
    "        train_losses: list,\n",
    "        test_losses: list,\n",
    "        epochs: int = 7\n",
    "):\n",
    "        f,(ax1,ax2)=plt.subplots(1,2)\n",
    "        f.set_size_inches(15,5)\n",
    "        ax1.plot(np.arange(1,epochs+1,1),test_accs,label=\"Test Accuracies\")\n",
    "        ax1.plot(np.arange(1,epochs+1,1),train_accs, label=\"Train Accuracies\")\n",
    "        ax1.set_title(f\"{model_name} Accuracies\")\n",
    "        ax1.legend()\n",
    "        ax1.set_ylabel(\"Accuracies (%)\")\n",
    "        ax1.set_xlabel(\"Epochs\")\n",
    "\n",
    "        ax2.plot(np.arange(1,epochs+1,1),test_losses, label=\"Test Losses\")\n",
    "        ax2.plot(np.arange(1,epochs+1,1),train_losses, label=\"Train Losses\")\n",
    "        ax2.set_title(f\"{model_name} Losses\")\n",
    "        ax2.legend()\n",
    "        ax2.set_ylabel(\"Losses\")\n",
    "        ax2.set_xlabel(\"Epochs\")\n",
    "    "
   ]
  },
  {
   "cell_type": "markdown",
   "id": "82c70c8d",
   "metadata": {},
   "source": [
    "## models"
   ]
  },
  {
   "attachments": {
    "image.png": {
     "image/png": "[encoded data removed]"
    }
   },
   "cell_type": "markdown",
   "id": "f00ab908",
   "metadata": {},
   "source": [
    "![image.png](attachment:image.png)"
   ]
  },
  {
   "cell_type": "markdown",
   "id": "344c2381",
   "metadata": {},
   "source": [
    "let $d_k = d_q = d_v = D$ to allow layers to stack"
   ]
  },
  {
   "attachments": {
    "image.png": {
     "image/png": "[encoded data removed]"
    }
   },
   "cell_type": "markdown",
   "id": "80e2373b",
   "metadata": {},
   "source": [
    "![image.png](attachment:image.png)"
   ]
  },
  {
   "cell_type": "markdown",
   "id": "f35eef33",
   "metadata": {},
   "source": [
    "Instead of one head, use h heads with smaller per-head width $d_h=d_{model}/h$. Each head learns different relational subspaces as each head has its own $W_Q, ~ W_K, ~ W_V$ - can capture diverse patterns eg local vs global. Typically choose, $d_{model}=h~x~d_h, ~ d_k=d_v=d_h$. \n",
    "Concatenate head outputs and project back to $d_{model}$."
   ]
  },
  {
   "cell_type": "code",
   "execution_count": 103,
   "id": "e8aa9056",
   "metadata": {},
   "outputs": [],
   "source": [
    "class MultiHeadAttention(nn.Module):\n",
    "    \"\"\"\n",
    "    x: (B, N, D)\n",
    "        N = num of features\n",
    "        D = dim of model\n",
    "    Returns: (B, N, D) where D = out_dim\n",
    "    \"\"\"\n",
    "    def __init__(self,\n",
    "            dim:int,\n",
    "            num_heads:int,\n",
    "            #p_drop: float = 0.0\n",
    "        ):\n",
    "        super().__init__()\n",
    "\n",
    "        self.dim=dim #dim of input\n",
    "        self.num_heads=num_heads\n",
    "        \n",
    "        self.d_k=dim//num_heads #D//h = Dimension of each head's key, query, and value\n",
    "\n",
    "        self.W_q=nn.Linear(dim,dim) \n",
    "        self.W_k=nn.Linear(dim,dim)\n",
    "        self.W_v=nn.Linear(dim,dim)\n",
    "\n",
    "        self.W_y=nn.Linear(dim,dim) #output transformation\n",
    "\n",
    "        # #dropout for attention probabilities - randomly zeroes fraction p and rescales rest by 1/(1-p) (Pytorch inverted dropout)\n",
    "        # #encourages model not to rely on single sharp attention pattern to improve generalisation\n",
    "        # self.attn_drop = nn.Dropout(p_drop)\n",
    "\n",
    "        # #feature dropout on per-token features produced by attention - randomly zeros elements of output vectors\n",
    "        # self.proj_drop = nn.Dropout(p_drop)\n",
    "\n",
    "    def split_heads(self,x):\n",
    "        batch,n,dim=x.size()\n",
    "        x_split=x.reshape(batch,n,self.num_heads,self.d_k).transpose(-3,-2)\n",
    "        #print('x ',x.shape)\n",
    "        #print('x spl', x_split.shape)\n",
    "        return x_split\n",
    "\n",
    "    def combine_heads(self,x_split):\n",
    "        batch,num_heads,n,d_k=x_split.size()\n",
    "        # x_final = x_split.reshape(batch,n,self.dim).transpose(-2,-1)\n",
    "        x_final = x_split.reshape(batch,n,self.dim)\n",
    "        # print(f\"x1 shape {x1.shape}\")\n",
    "        # x_final = x1.transpose(-2,-1)\n",
    "        #print(f\"x_final shape {x_final.shape}\")\n",
    "        return x_final\n",
    "\n",
    "    def scaled_dot_product_attention(self,q_split,k_split,v_split):\n",
    "        #calculate attention weights\n",
    "        # k.T flips all dims, including batch -> only need to transpose last two dims\n",
    "        # k:(B,N,D) -> k.T:(D,N,B)\n",
    "        # (B,N,D) @ (B,D,N) -> (B,N,N)\n",
    "\n",
    "        # #single head:\n",
    "        # scores = (q @ k.transpose(-2, -1)) * self.scale  # (B, N, N)\n",
    "        # attn = torch.softmax(scores, dim=-1)             # (B, N, N)\n",
    "        # attn = self.attn_drop(attn)\n",
    "        # y = attn @ v                                     # (B, N, D)\n",
    "        # y = self.proj_drop(y)\n",
    "\n",
    "        k_split_T = k_split.transpose(-2,-1)\n",
    "        #print('k spl t ',k_split_T.shape)\n",
    "        #print('q spl ', q_split.shape)  \n",
    "\n",
    "        attn_scores = torch.matmul(q_split,k_split_T) / math.sqrt(self.d_k)\n",
    "        attn_probs = torch.softmax(attn_scores,dim=-1)\n",
    "        y_split = torch.matmul(attn_probs,v_split)\n",
    "        #print(f\"y_split shape {y_split.shape}\")\n",
    "\n",
    "        return y_split\n",
    "\n",
    "    def forward(self, x: torch.Tensor) -> torch.Tensor:\n",
    "        # x: (B, N, E)\n",
    "        q_split = self.split_heads(self.W_q(x))                     # (B, N, D) -> (B, h, N, D/h)\n",
    "        k_split = self.split_heads(self.W_k(x))                     # (B, N, D) -> (B, h, N, D/h)\n",
    "        v_split = self.split_heads(self.W_v(x))                     # (B, N, D) -> (B, h, N, D/h)\n",
    "\n",
    "        y_split=self.scaled_dot_product_attention(q_split,k_split,v_split)\n",
    "        y=self.W_y(self.combine_heads(y_split))\n",
    "\n",
    "        return y"
   ]
  },
  {
   "cell_type": "code",
   "execution_count": 104,
   "id": "4c0714f7",
   "metadata": {},
   "outputs": [],
   "source": [
    "class MultiHeadClassifier(nn.Module):\n",
    "    \"\"\"\n",
    "    attention classifier for point clouds.\n",
    "    Input: (B, N, 3)\n",
    "\n",
    "    -- attn(d_k,d_v,out_dim) --> (B,N,D)\n",
    "    -- mean pooling --> (B,D)\n",
    "    -- linear --> (B, num_classes)\n",
    "\n",
    "    Output: (B, num_classes) logits\n",
    "    \"\"\"\n",
    "    def __init__(self, \n",
    "            num_classes:int,\n",
    "            embed_dim:int =64,\n",
    "            num_heads:int=8,\n",
    "            p_drop: float = 0.1):\n",
    "        \n",
    "        super().__init__()\n",
    "\n",
    "        #takes each point's raw coords (x,y,z) and lifts them into richer feature space of size embed_dim\n",
    "        #3 numbers too limited for attention to learn useful relations\n",
    "        #small MLP creates more expressive per-point features\n",
    "\n",
    "\n",
    "        self.embed=nn.Sequential(\n",
    "            nn.Linear(3,embed_dim),\n",
    "            nn.ReLU()\n",
    "        )\n",
    "\n",
    "        self.attn = MultiHeadAttention(\n",
    "            dim=embed_dim,\n",
    "            num_heads=num_heads\n",
    "        #,p_drop=p_drop\n",
    "        )\n",
    "\n",
    "        #if ever switch back to mean-only, change the head to nn.Linear(out_dim, num_classes)\n",
    "        self.head = nn.Linear(embed_dim, num_classes) \n",
    "\n",
    "    def forward(self, x):\n",
    "        x=self.embed(x)         # (B, N, embed_dim)\n",
    "        x=self.attn(x)            # (B, N, out_dim)\n",
    "\n",
    "        #mean pool over points, averages over N points\n",
    "        #symmetric reduction - permutation-invariant as reordering points does not change mean - important as point cloud is an unordered set\n",
    "        #smooth, noise tolerant summary\n",
    "        feat_mean = x.mean(dim=1)        # (B, D) \n",
    "\n",
    "        #max pool over points, takes max over N points\n",
    "        #takes strongest activation per channel to pick out edge like features\n",
    "        # feat_max = x.amax(dim=1)   # (B, out_dim)\n",
    "\n",
    "        #global pooling - fuses smooth global trends and extremes -> gives small accuracy boost\n",
    "        #feat = torch.cat([feat_mean,feat_max],dim=-1) # (B, 2*out_dim)\n",
    "\n",
    "        #pooled feature goes through linear layer to produce class logits suitable for nn.CrossEntropyLoss\n",
    "        logits = self.head(feat_mean)    # (B, num_classes)\n",
    "        return logits\n"
   ]
  },
  {
   "cell_type": "markdown",
   "id": "e50c2b8d",
   "metadata": {},
   "source": [
    "## test"
   ]
  },
  {
   "cell_type": "code",
   "execution_count": 105,
   "id": "de8c7477",
   "metadata": {},
   "outputs": [],
   "source": [
    "#selected_classes = [0, 5, 6, 7, 8, 10, 19, 24, 26, 30, 32, 33, 34, 35, 37]\n",
    "all_classes = [i for i in range(0,40)]\n",
    "poor_classes = [24,39,1,21,36,12,23,3,10,15,11,38,29,13,27]\n",
    "selected_classes = [i for i in all_classes if i not in poor_classes]\n",
    "NUM_CLASSES = len(selected_classes)\n",
    "train_dataset = ModelNetCustomDataset(train=True, classes=selected_classes, debug=False)\n",
    "test_dataset = ModelNetCustomDataset(train=False, classes=selected_classes, debug=False)\n",
    "\n",
    "BATCH_SIZE = 32\n",
    "EPOCHS = 20\n",
    "INPUT_SHAPE = (200, 3)\n",
    "\n",
    "train_dataloader = DataLoader(train_dataset, batch_size=BATCH_SIZE, shuffle=True)\n",
    "test_dataloader = DataLoader(test_dataset, batch_size=BATCH_SIZE, shuffle=False)\n",
    "\n",
    "device = \"cuda\" if torch.cuda.is_available() else \"cpu\""
   ]
  },
  {
   "cell_type": "code",
   "execution_count": 106,
   "id": "afadde2d",
   "metadata": {},
   "outputs": [],
   "source": [
    "# attention_model = MultiHeadClassifier(\n",
    "#     num_classes=NUM_CLASSES, embed_dim=128, num_heads=4,\n",
    "#     p_drop=0.1\n",
    "# ).to(device)"
   ]
  },
  {
   "cell_type": "code",
   "execution_count": 107,
   "id": "f052f541",
   "metadata": {},
   "outputs": [],
   "source": [
    "# (train_accs, test_accs,\n",
    "#  train_losses, test_losses) = train_model(attention_model, epochs=EPOCHS)"
   ]
  },
  {
   "cell_type": "code",
   "execution_count": 108,
   "id": "c0eb09b1",
   "metadata": {},
   "outputs": [],
   "source": [
    "# plot_acc_losses(\n",
    "#     model_name=\"Multi Head Attention Classifier\",\n",
    "#     train_accs=train_accs,\n",
    "#     test_accs=test_accs,\n",
    "#     train_losses=train_losses,\n",
    "#     test_losses=test_losses,\n",
    "#     epochs=EPOCHS\n",
    "# )"
   ]
  },
  {
   "cell_type": "code",
   "execution_count": 109,
   "id": "75e9918f",
   "metadata": {},
   "outputs": [],
   "source": [
    "import pandas as pd\n",
    "import itertools\n",
    "import time\n",
    "import os\n",
    "from datetime import timedelta\n",
    "import copy\n",
    "import seaborn as sns"
   ]
  },
  {
   "cell_type": "code",
   "execution_count": null,
   "id": "bae7b180",
   "metadata": {},
   "outputs": [
    {
     "name": "stdout",
     "output_type": "stream",
     "text": [
      "Starting grid search for MultiHeadClassifier...\n",
      "Total valid parameter combinations: 27\n"
     ]
    },
    {
     "name": "stderr",
     "output_type": "stream",
     "text": [
      "Grid Search Progress:   0%|          | 0/27 [00:00<?, ?it/s]"
     ]
    },
    {
     "name": "stdout",
     "output_type": "stream",
     "text": [
      "\n",
      "[1/27] Testing: E128_H4_D0.0_Ep20\n"
     ]
    },
    {
     "name": "stderr",
     "output_type": "stream",
     "text": []
    },
    {
     "name": "stdout",
     "output_type": "stream",
     "text": [
      "\n",
      "Epoch 1/20\n"
     ]
    },
    {
     "name": "stderr",
     "output_type": "stream",
     "text": []
    },
    {
     "name": "stdout",
     "output_type": "stream",
     "text": [
      "Train loss: 2.01771 | Train accuracy: 41.31%\n",
      "Test loss: 1.76783 | Test accuracy: 41.96%\n",
      "\n",
      "Epoch 2/20\n"
     ]
    },
    {
     "name": "stderr",
     "output_type": "stream",
     "text": []
    },
    {
     "name": "stdout",
     "output_type": "stream",
     "text": [
      "Train loss: 1.24332 | Train accuracy: 63.85%\n",
      "Test loss: 1.29555 | Test accuracy: 60.34%\n",
      "\n",
      "Epoch 3/20\n"
     ]
    },
    {
     "name": "stderr",
     "output_type": "stream",
     "text": []
    },
    {
     "name": "stdout",
     "output_type": "stream",
     "text": [
      "Train loss: 1.05376 | Train accuracy: 69.71%\n",
      "Test loss: 1.12049 | Test accuracy: 66.44%\n",
      "\n",
      "Epoch 4/20\n"
     ]
    },
    {
     "name": "stderr",
     "output_type": "stream",
     "text": []
    },
    {
     "name": "stdout",
     "output_type": "stream",
     "text": [
      "Train loss: 0.94919 | Train accuracy: 72.73%\n",
      "Test loss: 0.99481 | Test accuracy: 70.63%\n",
      "\n",
      "Epoch 5/20\n"
     ]
    },
    {
     "name": "stderr",
     "output_type": "stream",
     "text": []
    },
    {
     "name": "stdout",
     "output_type": "stream",
     "text": [
      "Train loss: 0.86545 | Train accuracy: 75.04%\n",
      "Test loss: 0.94854 | Test accuracy: 72.55%\n",
      "\n",
      "Epoch 6/20\n"
     ]
    },
    {
     "name": "stderr",
     "output_type": "stream",
     "text": []
    },
    {
     "name": "stdout",
     "output_type": "stream",
     "text": [
      "Train loss: 0.80236 | Train accuracy: 76.82%\n",
      "Test loss: 0.87003 | Test accuracy: 75.21%\n",
      "\n",
      "Epoch 7/20\n"
     ]
    },
    {
     "name": "stderr",
     "output_type": "stream",
     "text": []
    },
    {
     "name": "stdout",
     "output_type": "stream",
     "text": [
      "Train loss: 0.76900 | Train accuracy: 77.82%\n",
      "Test loss: 0.88887 | Test accuracy: 74.14%\n",
      "\n",
      "Epoch 8/20\n"
     ]
    },
    {
     "name": "stderr",
     "output_type": "stream",
     "text": []
    },
    {
     "name": "stdout",
     "output_type": "stream",
     "text": [
      "Train loss: 0.74061 | Train accuracy: 78.12%\n",
      "Test loss: 0.85946 | Test accuracy: 75.03%\n",
      "\n",
      "Epoch 9/20\n"
     ]
    },
    {
     "name": "stderr",
     "output_type": "stream",
     "text": []
    },
    {
     "name": "stdout",
     "output_type": "stream",
     "text": [
      "Train loss: 0.69638 | Train accuracy: 80.25%\n",
      "Test loss: 0.78924 | Test accuracy: 78.80%\n",
      "\n",
      "Epoch 10/20\n"
     ]
    },
    {
     "name": "stderr",
     "output_type": "stream",
     "text": []
    },
    {
     "name": "stdout",
     "output_type": "stream",
     "text": [
      "Train loss: 0.68935 | Train accuracy: 80.00%\n",
      "Test loss: 0.80647 | Test accuracy: 78.35%\n",
      "\n",
      "Epoch 11/20\n"
     ]
    },
    {
     "name": "stderr",
     "output_type": "stream",
     "text": []
    },
    {
     "name": "stdout",
     "output_type": "stream",
     "text": [
      "Train loss: 0.65762 | Train accuracy: 81.69%\n",
      "Test loss: 0.80699 | Test accuracy: 78.18%\n",
      "\n",
      "Epoch 12/20\n"
     ]
    },
    {
     "name": "stderr",
     "output_type": "stream",
     "text": []
    },
    {
     "name": "stdout",
     "output_type": "stream",
     "text": [
      "Train loss: 0.65152 | Train accuracy: 81.15%\n",
      "Test loss: 0.79420 | Test accuracy: 78.14%\n",
      "\n",
      "Epoch 13/20\n"
     ]
    },
    {
     "name": "stderr",
     "output_type": "stream",
     "text": []
    },
    {
     "name": "stdout",
     "output_type": "stream",
     "text": [
      "Train loss: 0.63247 | Train accuracy: 81.76%\n",
      "Test loss: 0.79722 | Test accuracy: 77.63%\n",
      "\n",
      "Epoch 14/20\n"
     ]
    },
    {
     "name": "stderr",
     "output_type": "stream",
     "text": []
    },
    {
     "name": "stdout",
     "output_type": "stream",
     "text": [
      "Train loss: 0.62316 | Train accuracy: 81.62%\n",
      "Test loss: 0.75963 | Test accuracy: 79.25%\n",
      "\n",
      "Epoch 15/20\n",
      "Train loss: 0.61777 | Train accuracy: 82.37%\n",
      "Test loss: 0.72410 | Test accuracy: 79.98%\n"
     ]
    },
    {
     "name": "stderr",
     "output_type": "stream",
     "text": []
    },
    {
     "name": "stdout",
     "output_type": "stream",
     "text": [
      "\n",
      "Epoch 16/20\n",
      "Train loss: 0.59703 | Train accuracy: 82.33%\n",
      "Test loss: 0.73340 | Test accuracy: 80.32%\n"
     ]
    },
    {
     "name": "stderr",
     "output_type": "stream",
     "text": []
    },
    {
     "name": "stdout",
     "output_type": "stream",
     "text": [
      "\n",
      "Epoch 17/20\n",
      "Train loss: 0.59328 | Train accuracy: 82.50%\n",
      "Test loss: 0.80946 | Test accuracy: 77.98%\n"
     ]
    },
    {
     "name": "stderr",
     "output_type": "stream",
     "text": []
    },
    {
     "name": "stdout",
     "output_type": "stream",
     "text": [
      "\n",
      "Epoch 18/20\n"
     ]
    },
    {
     "name": "stderr",
     "output_type": "stream",
     "text": [
      "\n"
     ]
    },
    {
     "name": "stdout",
     "output_type": "stream",
     "text": [
      "Train loss: 0.58898 | Train accuracy: 82.57%\n",
      "Test loss: 0.75108 | Test accuracy: 79.09%\n"
     ]
    },
    {
     "name": "stderr",
     "output_type": "stream",
     "text": [
      " 90%|█████████ | 18/20 [00:32<00:04,  2.15s/it]\u001b[A"
     ]
    },
    {
     "name": "stdout",
     "output_type": "stream",
     "text": [
      "\n",
      "Epoch 19/20\n",
      "Train loss: 0.57037 | Train accuracy: 83.20%\n",
      "Test loss: 0.75086 | Test accuracy: 79.22%\n"
     ]
    },
    {
     "name": "stderr",
     "output_type": "stream",
     "text": []
    },
    {
     "name": "stdout",
     "output_type": "stream",
     "text": [
      "\n",
      "Epoch 20/20\n",
      "Train loss: 0.55660 | Train accuracy: 83.88%\n",
      "Test loss: 0.76686 | Test accuracy: 79.87%\n"
     ]
    },
    {
     "name": "stderr",
     "output_type": "stream",
     "text": [
      "100%|██████████| 20/20 [00:37<00:00,  1.87s/it]\n",
      "C:\\Users\\snevi\\AppData\\Local\\Temp\\ipykernel_50412\\1811322310.py:82: FutureWarning: The behavior of DataFrame concatenation with empty or all-NA entries is deprecated. In a future version, this will no longer exclude empty or all-NA columns when determining the result dtypes. To retain the old behavior, exclude the relevant entries before the concat operation.\n",
      "  results_df = pd.concat([results_df, new_row], ignore_index=True)\n",
      "Grid Search Progress:   4%|▎         | 1/27 [00:37<16:11, 37.38s/it]"
     ]
    },
    {
     "name": "stdout",
     "output_type": "stream",
     "text": [
      "Results: Train Acc: 83.88%, Test Acc: 79.87%\n",
      "Time: 0:00:37\n",
      "\n",
      "[2/27] Testing: E128_H4_D0.1_Ep20\n"
     ]
    },
    {
     "name": "stderr",
     "output_type": "stream",
     "text": []
    },
    {
     "name": "stdout",
     "output_type": "stream",
     "text": [
      "\n",
      "Epoch 1/20\n"
     ]
    },
    {
     "name": "stderr",
     "output_type": "stream",
     "text": []
    },
    {
     "name": "stdout",
     "output_type": "stream",
     "text": [
      "Train loss: 1.94683 | Train accuracy: 42.06%\n",
      "Test loss: 1.51290 | Test accuracy: 54.27%\n",
      "\n",
      "Epoch 2/20\n"
     ]
    },
    {
     "name": "stderr",
     "output_type": "stream",
     "text": []
    },
    {
     "name": "stdout",
     "output_type": "stream",
     "text": [
      "Train loss: 1.09592 | Train accuracy: 68.32%\n",
      "Test loss: 1.14653 | Test accuracy: 64.60%\n",
      "\n",
      "Epoch 3/20\n",
      "Train loss: 0.93177 | Train accuracy: 73.34%\n"
     ]
    },
    {
     "name": "stderr",
     "output_type": "stream",
     "text": []
    },
    {
     "name": "stdout",
     "output_type": "stream",
     "text": [
      "Test loss: 1.06562 | Test accuracy: 67.20%\n",
      "\n",
      "Epoch 4/20\n",
      "Train loss: 0.83943 | Train accuracy: 76.12%\n"
     ]
    },
    {
     "name": "stderr",
     "output_type": "stream",
     "text": []
    },
    {
     "name": "stdout",
     "output_type": "stream",
     "text": [
      "Test loss: 0.99328 | Test accuracy: 70.92%\n",
      "\n",
      "Epoch 5/20\n",
      "Train loss: 0.80543 | Train accuracy: 77.14%\n"
     ]
    },
    {
     "name": "stderr",
     "output_type": "stream",
     "text": []
    },
    {
     "name": "stdout",
     "output_type": "stream",
     "text": [
      "Test loss: 0.94857 | Test accuracy: 73.06%\n",
      "\n",
      "Epoch 6/20\n",
      "Train loss: 0.74607 | Train accuracy: 78.38%\n",
      "Test loss: 0.85890 | Test accuracy: 75.58%\n"
     ]
    },
    {
     "name": "stderr",
     "output_type": "stream",
     "text": []
    },
    {
     "name": "stdout",
     "output_type": "stream",
     "text": [
      "\n",
      "Epoch 7/20\n",
      "Train loss: 0.71048 | Train accuracy: 79.27%\n"
     ]
    },
    {
     "name": "stderr",
     "output_type": "stream",
     "text": []
    },
    {
     "name": "stdout",
     "output_type": "stream",
     "text": [
      "Test loss: 0.87047 | Test accuracy: 76.28%\n",
      "\n",
      "Epoch 8/20\n",
      "Train loss: 0.68360 | Train accuracy: 80.43%\n"
     ]
    },
    {
     "name": "stderr",
     "output_type": "stream",
     "text": []
    },
    {
     "name": "stdout",
     "output_type": "stream",
     "text": [
      "Test loss: 0.90581 | Test accuracy: 74.83%\n",
      "\n",
      "Epoch 9/20\n",
      "Train loss: 0.67047 | Train accuracy: 80.53%\n"
     ]
    },
    {
     "name": "stderr",
     "output_type": "stream",
     "text": []
    },
    {
     "name": "stdout",
     "output_type": "stream",
     "text": [
      "Test loss: 0.79114 | Test accuracy: 77.65%\n",
      "\n",
      "Epoch 10/20\n",
      "Train loss: 0.64874 | Train accuracy: 80.81%\n"
     ]
    },
    {
     "name": "stderr",
     "output_type": "stream",
     "text": []
    },
    {
     "name": "stdout",
     "output_type": "stream",
     "text": [
      "Test loss: 0.80265 | Test accuracy: 78.32%\n",
      "\n",
      "Epoch 11/20\n",
      "Train loss: 0.65315 | Train accuracy: 81.47%\n"
     ]
    },
    {
     "name": "stderr",
     "output_type": "stream",
     "text": []
    },
    {
     "name": "stdout",
     "output_type": "stream",
     "text": [
      "Test loss: 0.74518 | Test accuracy: 79.89%\n",
      "\n",
      "Epoch 12/20\n",
      "Train loss: 0.62046 | Train accuracy: 81.85%\n"
     ]
    },
    {
     "name": "stderr",
     "output_type": "stream",
     "text": []
    },
    {
     "name": "stdout",
     "output_type": "stream",
     "text": [
      "Test loss: 0.74178 | Test accuracy: 79.92%\n",
      "\n",
      "Epoch 13/20\n",
      "Train loss: 0.62650 | Train accuracy: 81.96%\n"
     ]
    },
    {
     "name": "stderr",
     "output_type": "stream",
     "text": []
    },
    {
     "name": "stdout",
     "output_type": "stream",
     "text": [
      "Test loss: 0.77427 | Test accuracy: 77.87%\n",
      "\n",
      "Epoch 14/20\n",
      "Train loss: 0.60212 | Train accuracy: 82.55%\n"
     ]
    },
    {
     "name": "stderr",
     "output_type": "stream",
     "text": []
    },
    {
     "name": "stdout",
     "output_type": "stream",
     "text": [
      "Test loss: 0.74851 | Test accuracy: 79.17%\n",
      "\n",
      "Epoch 15/20\n",
      "Train loss: 0.58551 | Train accuracy: 83.11%\n",
      "Test loss: 0.78844 | Test accuracy: 78.04%\n"
     ]
    },
    {
     "name": "stderr",
     "output_type": "stream",
     "text": []
    },
    {
     "name": "stdout",
     "output_type": "stream",
     "text": [
      "\n",
      "Epoch 16/20\n",
      "Train loss: 0.59440 | Train accuracy: 82.99%\n"
     ]
    },
    {
     "name": "stderr",
     "output_type": "stream",
     "text": []
    },
    {
     "name": "stdout",
     "output_type": "stream",
     "text": [
      "Test loss: 0.78618 | Test accuracy: 78.26%\n",
      "\n",
      "Epoch 17/20\n",
      "Train loss: 0.57936 | Train accuracy: 83.10%\n"
     ]
    },
    {
     "name": "stderr",
     "output_type": "stream",
     "text": []
    },
    {
     "name": "stdout",
     "output_type": "stream",
     "text": [
      "Test loss: 0.75682 | Test accuracy: 79.04%\n",
      "\n",
      "Epoch 18/20\n",
      "Train loss: 0.56193 | Train accuracy: 83.51%\n"
     ]
    },
    {
     "name": "stderr",
     "output_type": "stream",
     "text": []
    },
    {
     "name": "stdout",
     "output_type": "stream",
     "text": [
      "Test loss: 0.71512 | Test accuracy: 80.97%\n",
      "\n",
      "Epoch 19/20\n",
      "Train loss: 0.55138 | Train accuracy: 83.83%\n"
     ]
    },
    {
     "name": "stderr",
     "output_type": "stream",
     "text": []
    },
    {
     "name": "stdout",
     "output_type": "stream",
     "text": [
      "Test loss: 0.71301 | Test accuracy: 80.11%\n",
      "\n",
      "Epoch 20/20\n"
     ]
    },
    {
     "name": "stderr",
     "output_type": "stream",
     "text": [
      "100%|██████████| 20/20 [01:05<00:00,  3.28s/it]\n",
      "Grid Search Progress:   7%|▋         | 2/27 [01:43<22:30, 54.02s/it]"
     ]
    },
    {
     "name": "stdout",
     "output_type": "stream",
     "text": [
      "Train loss: 0.54419 | Train accuracy: 83.42%\n",
      "Test loss: 0.69970 | Test accuracy: 80.16%\n",
      "Results: Train Acc: 83.42%, Test Acc: 80.16%\n",
      "Time: 0:01:05\n",
      "\n",
      "[3/27] Testing: E128_H4_D0.2_Ep20\n"
     ]
    },
    {
     "name": "stderr",
     "output_type": "stream",
     "text": []
    },
    {
     "name": "stdout",
     "output_type": "stream",
     "text": [
      "\n",
      "Epoch 1/20\n",
      "Train loss: 1.99488 | Train accuracy: 42.07%\n"
     ]
    },
    {
     "name": "stderr",
     "output_type": "stream",
     "text": []
    },
    {
     "name": "stdout",
     "output_type": "stream",
     "text": [
      "Test loss: 1.59946 | Test accuracy: 46.89%\n",
      "\n",
      "Epoch 2/20\n",
      "Train loss: 1.17094 | Train accuracy: 65.42%\n"
     ]
    },
    {
     "name": "stderr",
     "output_type": "stream",
     "text": []
    },
    {
     "name": "stdout",
     "output_type": "stream",
     "text": [
      "Test loss: 1.16857 | Test accuracy: 66.13%\n",
      "\n",
      "Epoch 3/20\n",
      "Train loss: 0.96999 | Train accuracy: 72.41%\n"
     ]
    },
    {
     "name": "stderr",
     "output_type": "stream",
     "text": []
    },
    {
     "name": "stdout",
     "output_type": "stream",
     "text": [
      "Test loss: 1.01851 | Test accuracy: 71.88%\n",
      "\n",
      "Epoch 4/20\n",
      "Train loss: 0.88129 | Train accuracy: 75.27%\n"
     ]
    },
    {
     "name": "stderr",
     "output_type": "stream",
     "text": []
    },
    {
     "name": "stdout",
     "output_type": "stream",
     "text": [
      "Test loss: 0.97009 | Test accuracy: 72.81%\n",
      "\n",
      "Epoch 5/20\n"
     ]
    },
    {
     "name": "stderr",
     "output_type": "stream",
     "text": [
      "\n"
     ]
    },
    {
     "name": "stdout",
     "output_type": "stream",
     "text": [
      "Train loss: 0.82872 | Train accuracy: 76.87%\n",
      "Test loss: 0.99892 | Test accuracy: 71.00%\n"
     ]
    },
    {
     "name": "stderr",
     "output_type": "stream",
     "text": [
      " 25%|██▌       | 5/20 [00:17<00:50,  3.34s/it]\u001b[A"
     ]
    },
    {
     "name": "stdout",
     "output_type": "stream",
     "text": [
      "\n",
      "Epoch 6/20\n",
      "Train loss: 0.79101 | Train accuracy: 77.99%\n"
     ]
    },
    {
     "name": "stderr",
     "output_type": "stream",
     "text": []
    },
    {
     "name": "stdout",
     "output_type": "stream",
     "text": [
      "Test loss: 0.90461 | Test accuracy: 74.73%\n",
      "\n",
      "Epoch 7/20\n",
      "Train loss: 0.76338 | Train accuracy: 78.55%\n",
      "Test loss: 0.86544 | Test accuracy: 75.10%\n"
     ]
    },
    {
     "name": "stderr",
     "output_type": "stream",
     "text": []
    },
    {
     "name": "stdout",
     "output_type": "stream",
     "text": [
      "\n",
      "Epoch 8/20\n",
      "Train loss: 0.73475 | Train accuracy: 79.22%\n",
      "Test loss: 0.87202 | Test accuracy: 75.56%\n"
     ]
    },
    {
     "name": "stderr",
     "output_type": "stream",
     "text": []
    },
    {
     "name": "stdout",
     "output_type": "stream",
     "text": [
      "\n",
      "Epoch 9/20\n",
      "Train loss: 0.71412 | Train accuracy: 79.99%\n"
     ]
    },
    {
     "name": "stderr",
     "output_type": "stream",
     "text": []
    },
    {
     "name": "stdout",
     "output_type": "stream",
     "text": [
      "Test loss: 0.82271 | Test accuracy: 77.38%\n",
      "\n",
      "Epoch 10/20\n",
      "Train loss: 0.68788 | Train accuracy: 80.32%\n"
     ]
    },
    {
     "name": "stderr",
     "output_type": "stream",
     "text": []
    },
    {
     "name": "stdout",
     "output_type": "stream",
     "text": [
      "Test loss: 0.92502 | Test accuracy: 74.39%\n",
      "\n",
      "Epoch 11/20\n",
      "Train loss: 0.68649 | Train accuracy: 80.16%\n"
     ]
    },
    {
     "name": "stderr",
     "output_type": "stream",
     "text": []
    },
    {
     "name": "stdout",
     "output_type": "stream",
     "text": [
      "Test loss: 0.77639 | Test accuracy: 78.87%\n",
      "\n",
      "Epoch 12/20\n",
      "Train loss: 0.65669 | Train accuracy: 81.24%\n"
     ]
    },
    {
     "name": "stderr",
     "output_type": "stream",
     "text": []
    },
    {
     "name": "stdout",
     "output_type": "stream",
     "text": [
      "Test loss: 0.74129 | Test accuracy: 78.77%\n",
      "\n",
      "Epoch 13/20\n",
      "Train loss: 0.63710 | Train accuracy: 81.58%\n"
     ]
    },
    {
     "name": "stderr",
     "output_type": "stream",
     "text": []
    },
    {
     "name": "stdout",
     "output_type": "stream",
     "text": [
      "Test loss: 0.76641 | Test accuracy: 78.17%\n",
      "\n",
      "Epoch 14/20\n"
     ]
    },
    {
     "name": "stderr",
     "output_type": "stream",
     "text": []
    },
    {
     "name": "stdout",
     "output_type": "stream",
     "text": [
      "Train loss: 0.62331 | Train accuracy: 81.93%\n",
      "Test loss: 0.73256 | Test accuracy: 79.38%\n",
      "\n",
      "Epoch 15/20\n",
      "Train loss: 0.61606 | Train accuracy: 82.07%\n"
     ]
    },
    {
     "name": "stderr",
     "output_type": "stream",
     "text": []
    },
    {
     "name": "stdout",
     "output_type": "stream",
     "text": [
      "Test loss: 0.75083 | Test accuracy: 78.11%\n",
      "\n",
      "Epoch 16/20\n"
     ]
    },
    {
     "name": "stderr",
     "output_type": "stream",
     "text": [
      "\n",
      " 80%|████████  | 16/20 [01:12<00:19,  4.79s/it]"
     ]
    },
    {
     "name": "stdout",
     "output_type": "stream",
     "text": [
      "Train loss: 0.59553 | Train accuracy: 82.74%\n",
      "Test loss: 0.78382 | Test accuracy: 77.95%\n"
     ]
    },
    {
     "name": "stderr",
     "output_type": "stream",
     "text": [
      "\u001b[A"
     ]
    },
    {
     "name": "stdout",
     "output_type": "stream",
     "text": [
      "\n",
      "Epoch 17/20\n",
      "Train loss: 0.58988 | Train accuracy: 82.61%\n",
      "Test loss: 0.68965 | Test accuracy: 80.13%\n"
     ]
    },
    {
     "name": "stderr",
     "output_type": "stream",
     "text": []
    },
    {
     "name": "stdout",
     "output_type": "stream",
     "text": [
      "\n",
      "Epoch 18/20\n"
     ]
    },
    {
     "name": "stderr",
     "output_type": "stream",
     "text": []
    },
    {
     "name": "stdout",
     "output_type": "stream",
     "text": [
      "Train loss: 0.59787 | Train accuracy: 82.70%\n",
      "Test loss: 0.70125 | Test accuracy: 79.83%\n",
      "\n",
      "Epoch 19/20\n"
     ]
    },
    {
     "name": "stderr",
     "output_type": "stream",
     "text": []
    },
    {
     "name": "stdout",
     "output_type": "stream",
     "text": [
      "Train loss: 0.57612 | Train accuracy: 83.28%\n",
      "Test loss: 0.71150 | Test accuracy: 79.76%\n",
      "\n",
      "Epoch 20/20\n"
     ]
    },
    {
     "name": "stderr",
     "output_type": "stream",
     "text": [
      "\n"
     ]
    },
    {
     "name": "stdout",
     "output_type": "stream",
     "text": [
      "Train loss: 0.56630 | Train accuracy: 83.47%\n",
      "Test loss: 0.73419 | Test accuracy: 79.70%\n"
     ]
    },
    {
     "name": "stderr",
     "output_type": "stream",
     "text": [
      "100%|██████████| 20/20 [01:21<00:00,  4.09s/it]\u001b[A\n",
      "Grid Search Progress:  11%|█         | 3/27 [03:04<26:41, 66.74s/it]"
     ]
    },
    {
     "name": "stdout",
     "output_type": "stream",
     "text": [
      "Results: Train Acc: 83.47%, Test Acc: 79.70%\n",
      "Time: 0:01:21\n",
      "\n",
      "[4/27] Testing: E128_H8_D0.0_Ep20\n"
     ]
    },
    {
     "name": "stderr",
     "output_type": "stream",
     "text": []
    },
    {
     "name": "stdout",
     "output_type": "stream",
     "text": [
      "\n",
      "Epoch 1/20\n",
      "Train loss: 2.10095 | Train accuracy: 37.30%\n"
     ]
    },
    {
     "name": "stderr",
     "output_type": "stream",
     "text": []
    },
    {
     "name": "stdout",
     "output_type": "stream",
     "text": [
      "Test loss: 1.55718 | Test accuracy: 48.52%\n",
      "\n",
      "Epoch 2/20\n",
      "Train loss: 1.16438 | Train accuracy: 65.23%\n"
     ]
    },
    {
     "name": "stderr",
     "output_type": "stream",
     "text": []
    },
    {
     "name": "stdout",
     "output_type": "stream",
     "text": [
      "Test loss: 1.18924 | Test accuracy: 65.45%\n",
      "\n",
      "Epoch 3/20\n",
      "Train loss: 0.93376 | Train accuracy: 73.16%\n"
     ]
    },
    {
     "name": "stderr",
     "output_type": "stream",
     "text": []
    },
    {
     "name": "stdout",
     "output_type": "stream",
     "text": [
      "Test loss: 1.02193 | Test accuracy: 69.80%\n",
      "\n",
      "Epoch 4/20\n",
      "Train loss: 0.84017 | Train accuracy: 75.25%\n"
     ]
    },
    {
     "name": "stderr",
     "output_type": "stream",
     "text": []
    },
    {
     "name": "stdout",
     "output_type": "stream",
     "text": [
      "Test loss: 0.97879 | Test accuracy: 70.42%\n",
      "\n",
      "Epoch 5/20\n",
      "Train loss: 0.77431 | Train accuracy: 77.88%\n"
     ]
    },
    {
     "name": "stderr",
     "output_type": "stream",
     "text": []
    },
    {
     "name": "stdout",
     "output_type": "stream",
     "text": [
      "Test loss: 0.91828 | Test accuracy: 72.84%\n",
      "\n",
      "Epoch 6/20\n",
      "Train loss: 0.73571 | Train accuracy: 78.71%\n"
     ]
    },
    {
     "name": "stderr",
     "output_type": "stream",
     "text": []
    },
    {
     "name": "stdout",
     "output_type": "stream",
     "text": [
      "Test loss: 0.84376 | Test accuracy: 76.37%\n",
      "\n",
      "Epoch 7/20\n",
      "Train loss: 0.69706 | Train accuracy: 79.59%\n"
     ]
    },
    {
     "name": "stderr",
     "output_type": "stream",
     "text": []
    },
    {
     "name": "stdout",
     "output_type": "stream",
     "text": [
      "Test loss: 0.91129 | Test accuracy: 72.86%\n",
      "\n",
      "Epoch 8/20\n",
      "Train loss: 0.67216 | Train accuracy: 79.94%\n"
     ]
    },
    {
     "name": "stderr",
     "output_type": "stream",
     "text": []
    },
    {
     "name": "stdout",
     "output_type": "stream",
     "text": [
      "Test loss: 0.84769 | Test accuracy: 77.15%\n",
      "\n",
      "Epoch 9/20\n",
      "Train loss: 0.63932 | Train accuracy: 81.22%\n"
     ]
    },
    {
     "name": "stderr",
     "output_type": "stream",
     "text": []
    },
    {
     "name": "stdout",
     "output_type": "stream",
     "text": [
      "Test loss: 0.82027 | Test accuracy: 79.14%\n",
      "\n",
      "Epoch 10/20\n",
      "Train loss: 0.61816 | Train accuracy: 81.38%\n"
     ]
    },
    {
     "name": "stderr",
     "output_type": "stream",
     "text": []
    },
    {
     "name": "stdout",
     "output_type": "stream",
     "text": [
      "Test loss: 0.83569 | Test accuracy: 76.91%\n",
      "\n",
      "Epoch 11/20\n",
      "Train loss: 0.58270 | Train accuracy: 82.72%\n"
     ]
    },
    {
     "name": "stderr",
     "output_type": "stream",
     "text": []
    },
    {
     "name": "stdout",
     "output_type": "stream",
     "text": [
      "Test loss: 0.83137 | Test accuracy: 77.77%\n",
      "\n",
      "Epoch 12/20\n",
      "Train loss: 0.57395 | Train accuracy: 82.96%\n"
     ]
    },
    {
     "name": "stderr",
     "output_type": "stream",
     "text": []
    },
    {
     "name": "stdout",
     "output_type": "stream",
     "text": [
      "Test loss: 0.75965 | Test accuracy: 79.93%\n",
      "\n",
      "Epoch 13/20\n",
      "Train loss: 0.56983 | Train accuracy: 82.85%\n"
     ]
    },
    {
     "name": "stderr",
     "output_type": "stream",
     "text": []
    },
    {
     "name": "stdout",
     "output_type": "stream",
     "text": [
      "Test loss: 0.73834 | Test accuracy: 80.78%\n",
      "\n",
      "Epoch 14/20\n",
      "Train loss: 0.54037 | Train accuracy: 83.61%\n"
     ]
    },
    {
     "name": "stderr",
     "output_type": "stream",
     "text": []
    },
    {
     "name": "stdout",
     "output_type": "stream",
     "text": [
      "Test loss: 0.77318 | Test accuracy: 79.06%\n",
      "\n",
      "Epoch 15/20\n",
      "Train loss: 0.54171 | Train accuracy: 83.80%\n"
     ]
    },
    {
     "name": "stderr",
     "output_type": "stream",
     "text": []
    },
    {
     "name": "stdout",
     "output_type": "stream",
     "text": [
      "Test loss: 0.75493 | Test accuracy: 78.92%\n",
      "\n",
      "Epoch 16/20\n",
      "Train loss: 0.51643 | Train accuracy: 84.46%\n"
     ]
    },
    {
     "name": "stderr",
     "output_type": "stream",
     "text": []
    },
    {
     "name": "stdout",
     "output_type": "stream",
     "text": [
      "Test loss: 0.79448 | Test accuracy: 79.07%\n",
      "\n",
      "Epoch 17/20\n",
      "Train loss: 0.49819 | Train accuracy: 84.36%\n"
     ]
    },
    {
     "name": "stderr",
     "output_type": "stream",
     "text": []
    },
    {
     "name": "stdout",
     "output_type": "stream",
     "text": [
      "Test loss: 0.68669 | Test accuracy: 83.37%\n",
      "\n",
      "Epoch 18/20\n",
      "Train loss: 0.51087 | Train accuracy: 84.31%\n"
     ]
    },
    {
     "name": "stderr",
     "output_type": "stream",
     "text": []
    },
    {
     "name": "stdout",
     "output_type": "stream",
     "text": [
      "Test loss: 0.70502 | Test accuracy: 82.19%\n",
      "\n",
      "Epoch 19/20\n",
      "Train loss: 0.48968 | Train accuracy: 85.64%\n"
     ]
    },
    {
     "name": "stderr",
     "output_type": "stream",
     "text": []
    },
    {
     "name": "stdout",
     "output_type": "stream",
     "text": [
      "Test loss: 0.71719 | Test accuracy: 81.72%\n",
      "\n",
      "Epoch 20/20\n",
      "Train loss: 0.47341 | Train accuracy: 85.45%\n"
     ]
    },
    {
     "name": "stderr",
     "output_type": "stream",
     "text": [
      "100%|██████████| 20/20 [01:59<00:00,  5.98s/it]\n",
      "Grid Search Progress:  15%|█▍        | 4/27 [05:04<33:34, 87.60s/it]"
     ]
    },
    {
     "name": "stdout",
     "output_type": "stream",
     "text": [
      "Test loss: 0.76087 | Test accuracy: 80.48%\n",
      "Results: Train Acc: 85.45%, Test Acc: 80.48%\n",
      "Time: 0:01:59\n",
      "\n",
      "[5/27] Testing: E128_H8_D0.1_Ep20\n"
     ]
    },
    {
     "name": "stderr",
     "output_type": "stream",
     "text": []
    },
    {
     "name": "stdout",
     "output_type": "stream",
     "text": [
      "\n",
      "Epoch 1/20\n",
      "Train loss: 1.99412 | Train accuracy: 41.82%\n"
     ]
    },
    {
     "name": "stderr",
     "output_type": "stream",
     "text": []
    },
    {
     "name": "stdout",
     "output_type": "stream",
     "text": [
      "Test loss: 1.51991 | Test accuracy: 48.42%\n",
      "\n",
      "Epoch 2/20\n",
      "Train loss: 1.10858 | Train accuracy: 68.31%\n"
     ]
    },
    {
     "name": "stderr",
     "output_type": "stream",
     "text": []
    },
    {
     "name": "stdout",
     "output_type": "stream",
     "text": [
      "Test loss: 1.04854 | Test accuracy: 69.13%\n",
      "\n",
      "Epoch 3/20\n",
      "Train loss: 0.89815 | Train accuracy: 74.37%\n"
     ]
    },
    {
     "name": "stderr",
     "output_type": "stream",
     "text": []
    },
    {
     "name": "stdout",
     "output_type": "stream",
     "text": [
      "Test loss: 1.00426 | Test accuracy: 71.83%\n",
      "\n",
      "Epoch 4/20\n",
      "Train loss: 0.81643 | Train accuracy: 76.48%\n"
     ]
    },
    {
     "name": "stderr",
     "output_type": "stream",
     "text": []
    },
    {
     "name": "stdout",
     "output_type": "stream",
     "text": [
      "Test loss: 1.03077 | Test accuracy: 70.34%\n",
      "\n",
      "Epoch 5/20\n",
      "Train loss: 0.76125 | Train accuracy: 77.94%\n"
     ]
    },
    {
     "name": "stderr",
     "output_type": "stream",
     "text": []
    },
    {
     "name": "stdout",
     "output_type": "stream",
     "text": [
      "Test loss: 0.86548 | Test accuracy: 76.88%\n",
      "\n",
      "Epoch 6/20\n",
      "Train loss: 0.74361 | Train accuracy: 77.92%\n"
     ]
    },
    {
     "name": "stderr",
     "output_type": "stream",
     "text": []
    },
    {
     "name": "stdout",
     "output_type": "stream",
     "text": [
      "Test loss: 0.88287 | Test accuracy: 72.75%\n",
      "\n",
      "Epoch 7/20\n",
      "Train loss: 0.69695 | Train accuracy: 79.85%\n"
     ]
    },
    {
     "name": "stderr",
     "output_type": "stream",
     "text": []
    },
    {
     "name": "stdout",
     "output_type": "stream",
     "text": [
      "Test loss: 0.84658 | Test accuracy: 74.02%\n",
      "\n",
      "Epoch 8/20\n",
      "Train loss: 0.66316 | Train accuracy: 80.74%\n"
     ]
    },
    {
     "name": "stderr",
     "output_type": "stream",
     "text": []
    },
    {
     "name": "stdout",
     "output_type": "stream",
     "text": [
      "Test loss: 0.91969 | Test accuracy: 72.67%\n",
      "\n",
      "Epoch 9/20\n",
      "Train loss: 0.63366 | Train accuracy: 81.53%\n"
     ]
    },
    {
     "name": "stderr",
     "output_type": "stream",
     "text": []
    },
    {
     "name": "stdout",
     "output_type": "stream",
     "text": [
      "Test loss: 0.74060 | Test accuracy: 79.28%\n",
      "\n",
      "Epoch 10/20\n",
      "Train loss: 0.60234 | Train accuracy: 82.00%\n"
     ]
    },
    {
     "name": "stderr",
     "output_type": "stream",
     "text": []
    },
    {
     "name": "stdout",
     "output_type": "stream",
     "text": [
      "Test loss: 0.72878 | Test accuracy: 80.54%\n",
      "\n",
      "Epoch 11/20\n",
      "Train loss: 0.58240 | Train accuracy: 82.38%\n"
     ]
    },
    {
     "name": "stderr",
     "output_type": "stream",
     "text": []
    },
    {
     "name": "stdout",
     "output_type": "stream",
     "text": [
      "Test loss: 0.82436 | Test accuracy: 77.01%\n",
      "\n",
      "Epoch 12/20\n",
      "Train loss: 0.56481 | Train accuracy: 83.30%\n"
     ]
    },
    {
     "name": "stderr",
     "output_type": "stream",
     "text": []
    },
    {
     "name": "stdout",
     "output_type": "stream",
     "text": [
      "Test loss: 0.78084 | Test accuracy: 77.68%\n",
      "\n",
      "Epoch 13/20\n",
      "Train loss: 0.55576 | Train accuracy: 83.12%\n"
     ]
    },
    {
     "name": "stderr",
     "output_type": "stream",
     "text": []
    },
    {
     "name": "stdout",
     "output_type": "stream",
     "text": [
      "Test loss: 0.70692 | Test accuracy: 80.32%\n",
      "\n",
      "Epoch 14/20\n",
      "Train loss: 0.55007 | Train accuracy: 83.01%\n"
     ]
    },
    {
     "name": "stderr",
     "output_type": "stream",
     "text": []
    },
    {
     "name": "stdout",
     "output_type": "stream",
     "text": [
      "Test loss: 0.75626 | Test accuracy: 78.81%\n",
      "\n",
      "Epoch 15/20\n",
      "Train loss: 0.53705 | Train accuracy: 83.98%\n"
     ]
    },
    {
     "name": "stderr",
     "output_type": "stream",
     "text": []
    },
    {
     "name": "stdout",
     "output_type": "stream",
     "text": [
      "Test loss: 0.74976 | Test accuracy: 78.52%\n",
      "\n",
      "Epoch 16/20\n",
      "Train loss: 0.52883 | Train accuracy: 83.77%\n"
     ]
    },
    {
     "name": "stderr",
     "output_type": "stream",
     "text": []
    },
    {
     "name": "stdout",
     "output_type": "stream",
     "text": [
      "Test loss: 0.66980 | Test accuracy: 81.75%\n",
      "\n",
      "Epoch 17/20\n",
      "Train loss: 0.51235 | Train accuracy: 84.52%\n"
     ]
    },
    {
     "name": "stderr",
     "output_type": "stream",
     "text": []
    },
    {
     "name": "stdout",
     "output_type": "stream",
     "text": [
      "Test loss: 0.67532 | Test accuracy: 82.43%\n",
      "\n",
      "Epoch 18/20\n",
      "Train loss: 0.49090 | Train accuracy: 84.85%\n"
     ]
    },
    {
     "name": "stderr",
     "output_type": "stream",
     "text": []
    },
    {
     "name": "stdout",
     "output_type": "stream",
     "text": [
      "Test loss: 0.67582 | Test accuracy: 80.54%\n",
      "\n",
      "Epoch 19/20\n",
      "Train loss: 0.49147 | Train accuracy: 84.50%\n"
     ]
    },
    {
     "name": "stderr",
     "output_type": "stream",
     "text": []
    },
    {
     "name": "stdout",
     "output_type": "stream",
     "text": [
      "Test loss: 0.68884 | Test accuracy: 81.68%\n",
      "\n",
      "Epoch 20/20\n",
      "Train loss: 0.48014 | Train accuracy: 85.44%\n"
     ]
    },
    {
     "name": "stderr",
     "output_type": "stream",
     "text": [
      "100%|██████████| 20/20 [02:36<00:00,  7.80s/it]\n",
      "Grid Search Progress:  19%|█▊        | 5/27 [07:40<41:10, 112.29s/it]"
     ]
    },
    {
     "name": "stdout",
     "output_type": "stream",
     "text": [
      "Test loss: 0.68400 | Test accuracy: 82.13%\n",
      "Results: Train Acc: 85.44%, Test Acc: 82.13%\n",
      "Time: 0:02:36\n",
      "\n",
      "[6/27] Testing: E128_H8_D0.2_Ep20\n"
     ]
    },
    {
     "name": "stderr",
     "output_type": "stream",
     "text": []
    },
    {
     "name": "stdout",
     "output_type": "stream",
     "text": [
      "\n",
      "Epoch 1/20\n",
      "Train loss: 2.06552 | Train accuracy: 37.72%\n"
     ]
    },
    {
     "name": "stderr",
     "output_type": "stream",
     "text": []
    },
    {
     "name": "stdout",
     "output_type": "stream",
     "text": [
      "Test loss: 1.55255 | Test accuracy: 49.28%\n",
      "\n",
      "Epoch 2/20\n",
      "Train loss: 1.11042 | Train accuracy: 66.66%\n"
     ]
    },
    {
     "name": "stderr",
     "output_type": "stream",
     "text": []
    },
    {
     "name": "stdout",
     "output_type": "stream",
     "text": [
      "Test loss: 1.13243 | Test accuracy: 63.35%\n",
      "\n",
      "Epoch 3/20\n",
      "Train loss: 0.89945 | Train accuracy: 74.33%\n"
     ]
    },
    {
     "name": "stderr",
     "output_type": "stream",
     "text": []
    },
    {
     "name": "stdout",
     "output_type": "stream",
     "text": [
      "Test loss: 0.98242 | Test accuracy: 70.90%\n",
      "\n",
      "Epoch 4/20\n",
      "Train loss: 0.80302 | Train accuracy: 77.41%\n"
     ]
    },
    {
     "name": "stderr",
     "output_type": "stream",
     "text": []
    },
    {
     "name": "stdout",
     "output_type": "stream",
     "text": [
      "Test loss: 0.93530 | Test accuracy: 72.08%\n",
      "\n",
      "Epoch 5/20\n",
      "Train loss: 0.75258 | Train accuracy: 78.67%\n"
     ]
    },
    {
     "name": "stderr",
     "output_type": "stream",
     "text": []
    },
    {
     "name": "stdout",
     "output_type": "stream",
     "text": [
      "Test loss: 0.88824 | Test accuracy: 74.38%\n",
      "\n",
      "Epoch 6/20\n",
      "Train loss: 0.71751 | Train accuracy: 79.72%\n"
     ]
    },
    {
     "name": "stderr",
     "output_type": "stream",
     "text": []
    },
    {
     "name": "stdout",
     "output_type": "stream",
     "text": [
      "Test loss: 0.92118 | Test accuracy: 73.86%\n",
      "\n",
      "Epoch 7/20\n",
      "Train loss: 0.69364 | Train accuracy: 80.23%\n"
     ]
    },
    {
     "name": "stderr",
     "output_type": "stream",
     "text": []
    },
    {
     "name": "stdout",
     "output_type": "stream",
     "text": [
      "Test loss: 0.79334 | Test accuracy: 77.39%\n",
      "\n",
      "Epoch 8/20\n",
      "Train loss: 0.65908 | Train accuracy: 81.19%\n"
     ]
    },
    {
     "name": "stderr",
     "output_type": "stream",
     "text": []
    },
    {
     "name": "stdout",
     "output_type": "stream",
     "text": [
      "Test loss: 0.78900 | Test accuracy: 77.71%\n",
      "\n",
      "Epoch 9/20\n",
      "Train loss: 0.62654 | Train accuracy: 82.41%\n"
     ]
    },
    {
     "name": "stderr",
     "output_type": "stream",
     "text": []
    },
    {
     "name": "stdout",
     "output_type": "stream",
     "text": [
      "Test loss: 0.76675 | Test accuracy: 77.79%\n",
      "\n",
      "Epoch 10/20\n",
      "Train loss: 0.61320 | Train accuracy: 82.11%\n"
     ]
    },
    {
     "name": "stderr",
     "output_type": "stream",
     "text": []
    },
    {
     "name": "stdout",
     "output_type": "stream",
     "text": [
      "Test loss: 0.77171 | Test accuracy: 78.60%\n",
      "\n",
      "Epoch 11/20\n",
      "Train loss: 0.57936 | Train accuracy: 83.33%\n"
     ]
    },
    {
     "name": "stderr",
     "output_type": "stream",
     "text": []
    },
    {
     "name": "stdout",
     "output_type": "stream",
     "text": [
      "Test loss: 0.69301 | Test accuracy: 81.48%\n",
      "\n",
      "Epoch 12/20\n",
      "Train loss: 0.56070 | Train accuracy: 83.82%\n"
     ]
    },
    {
     "name": "stderr",
     "output_type": "stream",
     "text": []
    },
    {
     "name": "stdout",
     "output_type": "stream",
     "text": [
      "Test loss: 0.71521 | Test accuracy: 80.08%\n",
      "\n",
      "Epoch 13/20\n",
      "Train loss: 0.55276 | Train accuracy: 83.93%\n"
     ]
    },
    {
     "name": "stderr",
     "output_type": "stream",
     "text": []
    },
    {
     "name": "stdout",
     "output_type": "stream",
     "text": [
      "Test loss: 0.67449 | Test accuracy: 82.10%\n",
      "\n",
      "Epoch 14/20\n",
      "Train loss: 0.53816 | Train accuracy: 84.54%\n"
     ]
    },
    {
     "name": "stderr",
     "output_type": "stream",
     "text": []
    },
    {
     "name": "stdout",
     "output_type": "stream",
     "text": [
      "Test loss: 0.71335 | Test accuracy: 80.80%\n",
      "\n",
      "Epoch 15/20\n",
      "Train loss: 0.52338 | Train accuracy: 84.56%\n"
     ]
    },
    {
     "name": "stderr",
     "output_type": "stream",
     "text": []
    },
    {
     "name": "stdout",
     "output_type": "stream",
     "text": [
      "Test loss: 0.71059 | Test accuracy: 79.70%\n",
      "\n",
      "Epoch 16/20\n",
      "Train loss: 0.51436 | Train accuracy: 84.70%\n"
     ]
    },
    {
     "name": "stderr",
     "output_type": "stream",
     "text": []
    },
    {
     "name": "stdout",
     "output_type": "stream",
     "text": [
      "Test loss: 0.75515 | Test accuracy: 78.70%\n",
      "\n",
      "Epoch 17/20\n",
      "Train loss: 0.50068 | Train accuracy: 85.66%\n"
     ]
    },
    {
     "name": "stderr",
     "output_type": "stream",
     "text": []
    },
    {
     "name": "stdout",
     "output_type": "stream",
     "text": [
      "Test loss: 0.67577 | Test accuracy: 81.56%\n",
      "\n",
      "Epoch 18/20\n",
      "Train loss: 0.49524 | Train accuracy: 85.12%\n"
     ]
    },
    {
     "name": "stderr",
     "output_type": "stream",
     "text": []
    },
    {
     "name": "stdout",
     "output_type": "stream",
     "text": [
      "Test loss: 0.67405 | Test accuracy: 81.73%\n",
      "\n",
      "Epoch 19/20\n",
      "Train loss: 0.48269 | Train accuracy: 85.49%\n"
     ]
    },
    {
     "name": "stderr",
     "output_type": "stream",
     "text": []
    },
    {
     "name": "stdout",
     "output_type": "stream",
     "text": [
      "Test loss: 0.65032 | Test accuracy: 83.05%\n",
      "\n",
      "Epoch 20/20\n",
      "Train loss: 0.47449 | Train accuracy: 85.53%\n"
     ]
    },
    {
     "name": "stderr",
     "output_type": "stream",
     "text": [
      "100%|██████████| 20/20 [02:19<00:00,  6.98s/it]\n",
      "Grid Search Progress:  22%|██▏       | 6/27 [10:00<42:33, 121.60s/it]"
     ]
    },
    {
     "name": "stdout",
     "output_type": "stream",
     "text": [
      "Test loss: 0.70327 | Test accuracy: 80.99%\n",
      "Results: Train Acc: 85.53%, Test Acc: 80.99%\n",
      "Time: 0:02:19\n",
      "\n",
      "[7/27] Testing: E128_H16_D0.0_Ep20\n"
     ]
    },
    {
     "name": "stderr",
     "output_type": "stream",
     "text": []
    },
    {
     "name": "stdout",
     "output_type": "stream",
     "text": [
      "\n",
      "Epoch 1/20\n",
      "Train loss: 2.02031 | Train accuracy: 40.39%\n"
     ]
    },
    {
     "name": "stderr",
     "output_type": "stream",
     "text": []
    },
    {
     "name": "stdout",
     "output_type": "stream",
     "text": [
      "Test loss: 1.55666 | Test accuracy: 51.40%\n",
      "\n",
      "Epoch 2/20\n",
      "Train loss: 1.14423 | Train accuracy: 66.85%\n"
     ]
    },
    {
     "name": "stderr",
     "output_type": "stream",
     "text": []
    },
    {
     "name": "stdout",
     "output_type": "stream",
     "text": [
      "Test loss: 1.24499 | Test accuracy: 63.08%\n",
      "\n",
      "Epoch 3/20\n",
      "Train loss: 0.90076 | Train accuracy: 74.32%\n"
     ]
    },
    {
     "name": "stderr",
     "output_type": "stream",
     "text": []
    },
    {
     "name": "stdout",
     "output_type": "stream",
     "text": [
      "Test loss: 1.00588 | Test accuracy: 70.67%\n",
      "\n",
      "Epoch 4/20\n",
      "Train loss: 0.78055 | Train accuracy: 77.91%\n"
     ]
    },
    {
     "name": "stderr",
     "output_type": "stream",
     "text": []
    },
    {
     "name": "stdout",
     "output_type": "stream",
     "text": [
      "Test loss: 0.90315 | Test accuracy: 73.80%\n",
      "\n",
      "Epoch 5/20\n",
      "Train loss: 0.72597 | Train accuracy: 79.34%\n"
     ]
    },
    {
     "name": "stderr",
     "output_type": "stream",
     "text": []
    },
    {
     "name": "stdout",
     "output_type": "stream",
     "text": [
      "Test loss: 0.88767 | Test accuracy: 75.63%\n",
      "\n",
      "Epoch 6/20\n",
      "Train loss: 0.66508 | Train accuracy: 80.98%\n"
     ]
    },
    {
     "name": "stderr",
     "output_type": "stream",
     "text": []
    },
    {
     "name": "stdout",
     "output_type": "stream",
     "text": [
      "Test loss: 0.79462 | Test accuracy: 77.60%\n",
      "\n",
      "Epoch 7/20\n",
      "Train loss: 0.63977 | Train accuracy: 81.62%\n"
     ]
    },
    {
     "name": "stderr",
     "output_type": "stream",
     "text": []
    },
    {
     "name": "stdout",
     "output_type": "stream",
     "text": [
      "Test loss: 0.76772 | Test accuracy: 78.13%\n",
      "\n",
      "Epoch 8/20\n",
      "Train loss: 0.61282 | Train accuracy: 82.47%\n"
     ]
    },
    {
     "name": "stderr",
     "output_type": "stream",
     "text": []
    },
    {
     "name": "stdout",
     "output_type": "stream",
     "text": [
      "Test loss: 0.73681 | Test accuracy: 78.25%\n",
      "\n",
      "Epoch 9/20\n",
      "Train loss: 0.57929 | Train accuracy: 82.91%\n"
     ]
    },
    {
     "name": "stderr",
     "output_type": "stream",
     "text": []
    },
    {
     "name": "stdout",
     "output_type": "stream",
     "text": [
      "Test loss: 0.74999 | Test accuracy: 78.43%\n",
      "\n",
      "Epoch 10/20\n",
      "Train loss: 0.55758 | Train accuracy: 83.47%\n"
     ]
    },
    {
     "name": "stderr",
     "output_type": "stream",
     "text": []
    },
    {
     "name": "stdout",
     "output_type": "stream",
     "text": [
      "Test loss: 0.72903 | Test accuracy: 79.40%\n",
      "\n",
      "Epoch 11/20\n",
      "Train loss: 0.54338 | Train accuracy: 83.65%\n"
     ]
    },
    {
     "name": "stderr",
     "output_type": "stream",
     "text": []
    },
    {
     "name": "stdout",
     "output_type": "stream",
     "text": [
      "Test loss: 0.66385 | Test accuracy: 81.85%\n",
      "\n",
      "Epoch 12/20\n",
      "Train loss: 0.51517 | Train accuracy: 84.83%\n"
     ]
    },
    {
     "name": "stderr",
     "output_type": "stream",
     "text": []
    },
    {
     "name": "stdout",
     "output_type": "stream",
     "text": [
      "Test loss: 0.68135 | Test accuracy: 80.91%\n",
      "\n",
      "Epoch 13/20\n",
      "Train loss: 0.50545 | Train accuracy: 85.03%\n"
     ]
    },
    {
     "name": "stderr",
     "output_type": "stream",
     "text": []
    },
    {
     "name": "stdout",
     "output_type": "stream",
     "text": [
      "Test loss: 0.65636 | Test accuracy: 81.48%\n",
      "\n",
      "Epoch 14/20\n",
      "Train loss: 0.48413 | Train accuracy: 85.59%\n"
     ]
    },
    {
     "name": "stderr",
     "output_type": "stream",
     "text": []
    },
    {
     "name": "stdout",
     "output_type": "stream",
     "text": [
      "Test loss: 0.65466 | Test accuracy: 82.37%\n",
      "\n",
      "Epoch 15/20\n",
      "Train loss: 0.45924 | Train accuracy: 86.07%\n"
     ]
    },
    {
     "name": "stderr",
     "output_type": "stream",
     "text": []
    },
    {
     "name": "stdout",
     "output_type": "stream",
     "text": [
      "Test loss: 0.67988 | Test accuracy: 79.75%\n",
      "\n",
      "Epoch 16/20\n",
      "Train loss: 0.45556 | Train accuracy: 86.38%\n"
     ]
    },
    {
     "name": "stderr",
     "output_type": "stream",
     "text": []
    },
    {
     "name": "stdout",
     "output_type": "stream",
     "text": [
      "Test loss: 0.62548 | Test accuracy: 83.25%\n",
      "\n",
      "Epoch 17/20\n",
      "Train loss: 0.44628 | Train accuracy: 86.34%\n"
     ]
    },
    {
     "name": "stderr",
     "output_type": "stream",
     "text": []
    },
    {
     "name": "stdout",
     "output_type": "stream",
     "text": [
      "Test loss: 0.66030 | Test accuracy: 82.40%\n",
      "\n",
      "Epoch 18/20\n",
      "Train loss: 0.44285 | Train accuracy: 86.52%\n"
     ]
    },
    {
     "name": "stderr",
     "output_type": "stream",
     "text": []
    },
    {
     "name": "stdout",
     "output_type": "stream",
     "text": [
      "Test loss: 0.64709 | Test accuracy: 81.59%\n",
      "\n",
      "Epoch 19/20\n",
      "Train loss: 0.43168 | Train accuracy: 87.12%\n"
     ]
    },
    {
     "name": "stderr",
     "output_type": "stream",
     "text": []
    },
    {
     "name": "stdout",
     "output_type": "stream",
     "text": [
      "Test loss: 0.60703 | Test accuracy: 83.07%\n",
      "\n",
      "Epoch 20/20\n",
      "Train loss: 0.41422 | Train accuracy: 87.49%\n"
     ]
    },
    {
     "name": "stderr",
     "output_type": "stream",
     "text": [
      "100%|██████████| 20/20 [02:36<00:00,  7.82s/it]\n",
      "Grid Search Progress:  26%|██▌       | 7/27 [12:36<44:20, 133.01s/it]"
     ]
    },
    {
     "name": "stdout",
     "output_type": "stream",
     "text": [
      "Test loss: 0.64006 | Test accuracy: 82.47%\n",
      "Results: Train Acc: 87.49%, Test Acc: 82.47%\n",
      "Time: 0:02:36\n",
      "\n",
      "[8/27] Testing: E128_H16_D0.1_Ep20\n"
     ]
    },
    {
     "name": "stderr",
     "output_type": "stream",
     "text": []
    },
    {
     "name": "stdout",
     "output_type": "stream",
     "text": [
      "\n",
      "Epoch 1/20\n",
      "Train loss: 2.12514 | Train accuracy: 37.98%\n"
     ]
    },
    {
     "name": "stderr",
     "output_type": "stream",
     "text": []
    },
    {
     "name": "stdout",
     "output_type": "stream",
     "text": [
      "Test loss: 1.63825 | Test accuracy: 47.20%\n",
      "\n",
      "Epoch 2/20\n",
      "Train loss: 1.17775 | Train accuracy: 65.42%\n"
     ]
    },
    {
     "name": "stderr",
     "output_type": "stream",
     "text": []
    },
    {
     "name": "stdout",
     "output_type": "stream",
     "text": [
      "Test loss: 1.19131 | Test accuracy: 60.34%\n",
      "\n",
      "Epoch 3/20\n",
      "Train loss: 0.93813 | Train accuracy: 72.48%\n"
     ]
    },
    {
     "name": "stderr",
     "output_type": "stream",
     "text": []
    },
    {
     "name": "stdout",
     "output_type": "stream",
     "text": [
      "Test loss: 0.99220 | Test accuracy: 71.61%\n",
      "\n",
      "Epoch 4/20\n",
      "Train loss: 0.78544 | Train accuracy: 77.85%\n"
     ]
    },
    {
     "name": "stderr",
     "output_type": "stream",
     "text": []
    },
    {
     "name": "stdout",
     "output_type": "stream",
     "text": [
      "Test loss: 0.85525 | Test accuracy: 76.50%\n",
      "\n",
      "Epoch 5/20\n",
      "Train loss: 0.72858 | Train accuracy: 79.14%\n"
     ]
    },
    {
     "name": "stderr",
     "output_type": "stream",
     "text": []
    },
    {
     "name": "stdout",
     "output_type": "stream",
     "text": [
      "Test loss: 0.87578 | Test accuracy: 76.40%\n",
      "\n",
      "Epoch 6/20\n",
      "Train loss: 0.67998 | Train accuracy: 80.65%\n"
     ]
    },
    {
     "name": "stderr",
     "output_type": "stream",
     "text": []
    },
    {
     "name": "stdout",
     "output_type": "stream",
     "text": [
      "Test loss: 0.84373 | Test accuracy: 75.26%\n",
      "\n",
      "Epoch 7/20\n",
      "Train loss: 0.64474 | Train accuracy: 81.39%\n"
     ]
    },
    {
     "name": "stderr",
     "output_type": "stream",
     "text": []
    },
    {
     "name": "stdout",
     "output_type": "stream",
     "text": [
      "Test loss: 0.78035 | Test accuracy: 78.97%\n",
      "\n",
      "Epoch 8/20\n",
      "Train loss: 0.60122 | Train accuracy: 82.82%\n"
     ]
    },
    {
     "name": "stderr",
     "output_type": "stream",
     "text": []
    },
    {
     "name": "stdout",
     "output_type": "stream",
     "text": [
      "Test loss: 0.77959 | Test accuracy: 77.55%\n",
      "\n",
      "Epoch 9/20\n",
      "Train loss: 0.57626 | Train accuracy: 83.14%\n"
     ]
    },
    {
     "name": "stderr",
     "output_type": "stream",
     "text": []
    },
    {
     "name": "stdout",
     "output_type": "stream",
     "text": [
      "Test loss: 0.72514 | Test accuracy: 79.89%\n",
      "\n",
      "Epoch 10/20\n",
      "Train loss: 0.55742 | Train accuracy: 83.83%\n"
     ]
    },
    {
     "name": "stderr",
     "output_type": "stream",
     "text": []
    },
    {
     "name": "stdout",
     "output_type": "stream",
     "text": [
      "Test loss: 0.71114 | Test accuracy: 79.52%\n",
      "\n",
      "Epoch 11/20\n",
      "Train loss: 0.53142 | Train accuracy: 84.87%\n"
     ]
    },
    {
     "name": "stderr",
     "output_type": "stream",
     "text": []
    },
    {
     "name": "stdout",
     "output_type": "stream",
     "text": [
      "Test loss: 0.67294 | Test accuracy: 81.31%\n",
      "\n",
      "Epoch 12/20\n",
      "Train loss: 0.51685 | Train accuracy: 84.94%\n"
     ]
    },
    {
     "name": "stderr",
     "output_type": "stream",
     "text": []
    },
    {
     "name": "stdout",
     "output_type": "stream",
     "text": [
      "Test loss: 0.69989 | Test accuracy: 81.49%\n",
      "\n",
      "Epoch 13/20\n",
      "Train loss: 0.49758 | Train accuracy: 85.40%\n"
     ]
    },
    {
     "name": "stderr",
     "output_type": "stream",
     "text": []
    },
    {
     "name": "stdout",
     "output_type": "stream",
     "text": [
      "Test loss: 0.69248 | Test accuracy: 80.90%\n",
      "\n",
      "Epoch 14/20\n",
      "Train loss: 0.48140 | Train accuracy: 85.86%\n"
     ]
    },
    {
     "name": "stderr",
     "output_type": "stream",
     "text": []
    },
    {
     "name": "stdout",
     "output_type": "stream",
     "text": [
      "Test loss: 0.72418 | Test accuracy: 78.88%\n",
      "\n",
      "Epoch 15/20\n",
      "Train loss: 0.46060 | Train accuracy: 86.34%\n"
     ]
    },
    {
     "name": "stderr",
     "output_type": "stream",
     "text": []
    },
    {
     "name": "stdout",
     "output_type": "stream",
     "text": [
      "Test loss: 0.65440 | Test accuracy: 81.56%\n",
      "\n",
      "Epoch 16/20\n",
      "Train loss: 0.45048 | Train accuracy: 86.75%\n"
     ]
    },
    {
     "name": "stderr",
     "output_type": "stream",
     "text": []
    },
    {
     "name": "stdout",
     "output_type": "stream",
     "text": [
      "Test loss: 0.63531 | Test accuracy: 82.58%\n",
      "\n",
      "Epoch 17/20\n",
      "Train loss: 0.44449 | Train accuracy: 87.01%\n"
     ]
    },
    {
     "name": "stderr",
     "output_type": "stream",
     "text": []
    },
    {
     "name": "stdout",
     "output_type": "stream",
     "text": [
      "Test loss: 0.61838 | Test accuracy: 83.15%\n",
      "\n",
      "Epoch 18/20\n",
      "Train loss: 0.43065 | Train accuracy: 87.08%\n"
     ]
    },
    {
     "name": "stderr",
     "output_type": "stream",
     "text": []
    },
    {
     "name": "stdout",
     "output_type": "stream",
     "text": [
      "Test loss: 0.66966 | Test accuracy: 80.99%\n",
      "\n",
      "Epoch 19/20\n",
      "Train loss: 0.41794 | Train accuracy: 87.32%\n"
     ]
    },
    {
     "name": "stderr",
     "output_type": "stream",
     "text": []
    },
    {
     "name": "stdout",
     "output_type": "stream",
     "text": [
      "Test loss: 0.70622 | Test accuracy: 81.62%\n",
      "\n",
      "Epoch 20/20\n",
      "Train loss: 0.41099 | Train accuracy: 87.84%\n"
     ]
    },
    {
     "name": "stderr",
     "output_type": "stream",
     "text": [
      "100%|██████████| 20/20 [02:14<00:00,  6.74s/it]\n",
      "Grid Search Progress:  30%|██▉       | 8/27 [14:51<42:18, 133.58s/it]"
     ]
    },
    {
     "name": "stdout",
     "output_type": "stream",
     "text": [
      "Test loss: 0.66220 | Test accuracy: 81.83%\n",
      "Results: Train Acc: 87.84%, Test Acc: 81.83%\n",
      "Time: 0:02:14\n",
      "\n",
      "[9/27] Testing: E128_H16_D0.2_Ep20\n"
     ]
    },
    {
     "name": "stderr",
     "output_type": "stream",
     "text": []
    },
    {
     "name": "stdout",
     "output_type": "stream",
     "text": [
      "\n",
      "Epoch 1/20\n",
      "Train loss: 2.07633 | Train accuracy: 37.54%\n"
     ]
    },
    {
     "name": "stderr",
     "output_type": "stream",
     "text": []
    },
    {
     "name": "stdout",
     "output_type": "stream",
     "text": [
      "Test loss: 1.55080 | Test accuracy: 49.16%\n",
      "\n",
      "Epoch 2/20\n",
      "Train loss: 1.10227 | Train accuracy: 67.23%\n"
     ]
    },
    {
     "name": "stderr",
     "output_type": "stream",
     "text": []
    },
    {
     "name": "stdout",
     "output_type": "stream",
     "text": [
      "Test loss: 1.14258 | Test accuracy: 62.46%\n",
      "\n",
      "Epoch 3/20\n",
      "Train loss: 0.83856 | Train accuracy: 75.10%\n"
     ]
    },
    {
     "name": "stderr",
     "output_type": "stream",
     "text": []
    },
    {
     "name": "stdout",
     "output_type": "stream",
     "text": [
      "Test loss: 0.97568 | Test accuracy: 70.58%\n",
      "\n",
      "Epoch 4/20\n",
      "Train loss: 0.73467 | Train accuracy: 78.54%\n"
     ]
    },
    {
     "name": "stderr",
     "output_type": "stream",
     "text": []
    },
    {
     "name": "stdout",
     "output_type": "stream",
     "text": [
      "Test loss: 0.82028 | Test accuracy: 77.40%\n",
      "\n",
      "Epoch 5/20\n",
      "Train loss: 0.68543 | Train accuracy: 80.51%\n"
     ]
    },
    {
     "name": "stderr",
     "output_type": "stream",
     "text": []
    },
    {
     "name": "stdout",
     "output_type": "stream",
     "text": [
      "Test loss: 0.80579 | Test accuracy: 78.39%\n",
      "\n",
      "Epoch 6/20\n",
      "Train loss: 0.65102 | Train accuracy: 80.58%\n"
     ]
    },
    {
     "name": "stderr",
     "output_type": "stream",
     "text": []
    },
    {
     "name": "stdout",
     "output_type": "stream",
     "text": [
      "Test loss: 0.78453 | Test accuracy: 78.58%\n",
      "\n",
      "Epoch 7/20\n",
      "Train loss: 0.63056 | Train accuracy: 81.35%\n"
     ]
    },
    {
     "name": "stderr",
     "output_type": "stream",
     "text": []
    },
    {
     "name": "stdout",
     "output_type": "stream",
     "text": [
      "Test loss: 0.82528 | Test accuracy: 77.98%\n",
      "\n",
      "Epoch 8/20\n",
      "Train loss: 0.59044 | Train accuracy: 82.37%\n"
     ]
    },
    {
     "name": "stderr",
     "output_type": "stream",
     "text": []
    },
    {
     "name": "stdout",
     "output_type": "stream",
     "text": [
      "Test loss: 0.72088 | Test accuracy: 79.98%\n",
      "\n",
      "Epoch 9/20\n",
      "Train loss: 0.55707 | Train accuracy: 83.29%\n"
     ]
    },
    {
     "name": "stderr",
     "output_type": "stream",
     "text": []
    },
    {
     "name": "stdout",
     "output_type": "stream",
     "text": [
      "Test loss: 0.72281 | Test accuracy: 79.98%\n",
      "\n",
      "Epoch 10/20\n",
      "Train loss: 0.53822 | Train accuracy: 83.52%\n"
     ]
    },
    {
     "name": "stderr",
     "output_type": "stream",
     "text": []
    },
    {
     "name": "stdout",
     "output_type": "stream",
     "text": [
      "Test loss: 0.79885 | Test accuracy: 77.71%\n",
      "\n",
      "Epoch 11/20\n",
      "Train loss: 0.50611 | Train accuracy: 84.73%\n"
     ]
    },
    {
     "name": "stderr",
     "output_type": "stream",
     "text": []
    },
    {
     "name": "stdout",
     "output_type": "stream",
     "text": [
      "Test loss: 0.73904 | Test accuracy: 78.67%\n",
      "\n",
      "Epoch 12/20\n",
      "Train loss: 0.49242 | Train accuracy: 85.17%\n"
     ]
    },
    {
     "name": "stderr",
     "output_type": "stream",
     "text": []
    },
    {
     "name": "stdout",
     "output_type": "stream",
     "text": [
      "Test loss: 0.68006 | Test accuracy: 81.73%\n",
      "\n",
      "Epoch 13/20\n",
      "Train loss: 0.48879 | Train accuracy: 84.89%\n"
     ]
    },
    {
     "name": "stderr",
     "output_type": "stream",
     "text": []
    },
    {
     "name": "stdout",
     "output_type": "stream",
     "text": [
      "Test loss: 0.64568 | Test accuracy: 81.91%\n",
      "\n",
      "Epoch 14/20\n",
      "Train loss: 0.46750 | Train accuracy: 85.73%\n"
     ]
    },
    {
     "name": "stderr",
     "output_type": "stream",
     "text": []
    },
    {
     "name": "stdout",
     "output_type": "stream",
     "text": [
      "Test loss: 0.70319 | Test accuracy: 79.97%\n",
      "\n",
      "Epoch 15/20\n",
      "Train loss: 0.45541 | Train accuracy: 86.36%\n"
     ]
    },
    {
     "name": "stderr",
     "output_type": "stream",
     "text": []
    },
    {
     "name": "stdout",
     "output_type": "stream",
     "text": [
      "Test loss: 0.64368 | Test accuracy: 82.80%\n",
      "\n",
      "Epoch 16/20\n",
      "Train loss: 0.44696 | Train accuracy: 86.53%\n"
     ]
    },
    {
     "name": "stderr",
     "output_type": "stream",
     "text": []
    },
    {
     "name": "stdout",
     "output_type": "stream",
     "text": [
      "Test loss: 0.64959 | Test accuracy: 82.59%\n",
      "\n",
      "Epoch 17/20\n",
      "Train loss: 0.42967 | Train accuracy: 86.84%\n"
     ]
    },
    {
     "name": "stderr",
     "output_type": "stream",
     "text": []
    },
    {
     "name": "stdout",
     "output_type": "stream",
     "text": [
      "Test loss: 0.63308 | Test accuracy: 82.32%\n",
      "\n",
      "Epoch 18/20\n",
      "Train loss: 0.41900 | Train accuracy: 87.46%\n"
     ]
    },
    {
     "name": "stderr",
     "output_type": "stream",
     "text": []
    },
    {
     "name": "stdout",
     "output_type": "stream",
     "text": [
      "Test loss: 0.72384 | Test accuracy: 80.67%\n",
      "\n",
      "Epoch 19/20\n",
      "Train loss: 0.42567 | Train accuracy: 86.96%\n"
     ]
    },
    {
     "name": "stderr",
     "output_type": "stream",
     "text": []
    },
    {
     "name": "stdout",
     "output_type": "stream",
     "text": [
      "Test loss: 0.63717 | Test accuracy: 83.26%\n",
      "\n",
      "Epoch 20/20\n",
      "Train loss: 0.39870 | Train accuracy: 87.98%\n"
     ]
    },
    {
     "name": "stderr",
     "output_type": "stream",
     "text": [
      "100%|██████████| 20/20 [01:33<00:00,  4.67s/it]\n",
      "Grid Search Progress:  33%|███▎      | 9/27 [16:25<36:18, 121.05s/it]"
     ]
    },
    {
     "name": "stdout",
     "output_type": "stream",
     "text": [
      "Test loss: 0.61939 | Test accuracy: 84.34%\n",
      "Results: Train Acc: 87.98%, Test Acc: 84.34%\n",
      "Time: 0:01:33\n",
      "\n",
      "[10/27] Testing: E256_H4_D0.0_Ep20\n"
     ]
    },
    {
     "name": "stderr",
     "output_type": "stream",
     "text": []
    },
    {
     "name": "stdout",
     "output_type": "stream",
     "text": [
      "\n",
      "Epoch 1/20\n",
      "Train loss: 1.69204 | Train accuracy: 50.00%\n"
     ]
    },
    {
     "name": "stderr",
     "output_type": "stream",
     "text": []
    },
    {
     "name": "stdout",
     "output_type": "stream",
     "text": [
      "Test loss: 1.48514 | Test accuracy: 54.49%\n",
      "\n",
      "Epoch 2/20\n",
      "Train loss: 1.14428 | Train accuracy: 66.31%\n"
     ]
    },
    {
     "name": "stderr",
     "output_type": "stream",
     "text": []
    },
    {
     "name": "stdout",
     "output_type": "stream",
     "text": [
      "Test loss: 1.30480 | Test accuracy: 61.08%\n",
      "\n",
      "Epoch 3/20\n",
      "Train loss: 1.02073 | Train accuracy: 70.44%\n"
     ]
    },
    {
     "name": "stderr",
     "output_type": "stream",
     "text": []
    },
    {
     "name": "stdout",
     "output_type": "stream",
     "text": [
      "Test loss: 1.18628 | Test accuracy: 64.02%\n",
      "\n",
      "Epoch 4/20\n",
      "Train loss: 0.92239 | Train accuracy: 73.17%\n"
     ]
    },
    {
     "name": "stderr",
     "output_type": "stream",
     "text": []
    },
    {
     "name": "stdout",
     "output_type": "stream",
     "text": [
      "Test loss: 0.97803 | Test accuracy: 73.24%\n",
      "\n",
      "Epoch 5/20\n",
      "Train loss: 0.86886 | Train accuracy: 75.40%\n"
     ]
    },
    {
     "name": "stderr",
     "output_type": "stream",
     "text": []
    },
    {
     "name": "stdout",
     "output_type": "stream",
     "text": [
      "Test loss: 1.00309 | Test accuracy: 71.87%\n",
      "\n",
      "Epoch 6/20\n",
      "Train loss: 0.83387 | Train accuracy: 75.99%\n"
     ]
    },
    {
     "name": "stderr",
     "output_type": "stream",
     "text": []
    },
    {
     "name": "stdout",
     "output_type": "stream",
     "text": [
      "Test loss: 0.87517 | Test accuracy: 75.74%\n",
      "\n",
      "Epoch 7/20\n",
      "Train loss: 0.75190 | Train accuracy: 78.87%\n"
     ]
    },
    {
     "name": "stderr",
     "output_type": "stream",
     "text": []
    },
    {
     "name": "stdout",
     "output_type": "stream",
     "text": [
      "Test loss: 0.95279 | Test accuracy: 72.65%\n",
      "\n",
      "Epoch 8/20\n",
      "Train loss: 0.72492 | Train accuracy: 79.27%\n"
     ]
    },
    {
     "name": "stderr",
     "output_type": "stream",
     "text": []
    },
    {
     "name": "stdout",
     "output_type": "stream",
     "text": [
      "Test loss: 0.86623 | Test accuracy: 75.52%\n",
      "\n",
      "Epoch 9/20\n",
      "Train loss: 0.68897 | Train accuracy: 80.39%\n"
     ]
    },
    {
     "name": "stderr",
     "output_type": "stream",
     "text": []
    },
    {
     "name": "stdout",
     "output_type": "stream",
     "text": [
      "Test loss: 0.96472 | Test accuracy: 72.13%\n",
      "\n",
      "Epoch 10/20\n",
      "Train loss: 0.69403 | Train accuracy: 79.89%\n"
     ]
    },
    {
     "name": "stderr",
     "output_type": "stream",
     "text": []
    },
    {
     "name": "stdout",
     "output_type": "stream",
     "text": [
      "Test loss: 0.90446 | Test accuracy: 74.13%\n",
      "\n",
      "Epoch 11/20\n",
      "Train loss: 0.65272 | Train accuracy: 80.92%\n"
     ]
    },
    {
     "name": "stderr",
     "output_type": "stream",
     "text": []
    },
    {
     "name": "stdout",
     "output_type": "stream",
     "text": [
      "Test loss: 0.80948 | Test accuracy: 77.90%\n",
      "\n",
      "Epoch 12/20\n",
      "Train loss: 0.63744 | Train accuracy: 81.21%\n"
     ]
    },
    {
     "name": "stderr",
     "output_type": "stream",
     "text": []
    },
    {
     "name": "stdout",
     "output_type": "stream",
     "text": [
      "Test loss: 0.74207 | Test accuracy: 79.46%\n",
      "\n",
      "Epoch 13/20\n",
      "Train loss: 0.61889 | Train accuracy: 81.89%\n"
     ]
    },
    {
     "name": "stderr",
     "output_type": "stream",
     "text": []
    },
    {
     "name": "stdout",
     "output_type": "stream",
     "text": [
      "Test loss: 0.73864 | Test accuracy: 79.06%\n",
      "\n",
      "Epoch 14/20\n",
      "Train loss: 0.59198 | Train accuracy: 82.83%\n"
     ]
    },
    {
     "name": "stderr",
     "output_type": "stream",
     "text": []
    },
    {
     "name": "stdout",
     "output_type": "stream",
     "text": [
      "Test loss: 0.78860 | Test accuracy: 77.95%\n",
      "\n",
      "Epoch 15/20\n",
      "Train loss: 0.59053 | Train accuracy: 82.68%\n"
     ]
    },
    {
     "name": "stderr",
     "output_type": "stream",
     "text": []
    },
    {
     "name": "stdout",
     "output_type": "stream",
     "text": [
      "Test loss: 0.76424 | Test accuracy: 78.82%\n",
      "\n",
      "Epoch 16/20\n",
      "Train loss: 0.58622 | Train accuracy: 82.54%\n"
     ]
    },
    {
     "name": "stderr",
     "output_type": "stream",
     "text": []
    },
    {
     "name": "stdout",
     "output_type": "stream",
     "text": [
      "Test loss: 0.69402 | Test accuracy: 81.46%\n",
      "\n",
      "Epoch 17/20\n",
      "Train loss: 0.55155 | Train accuracy: 84.10%\n"
     ]
    },
    {
     "name": "stderr",
     "output_type": "stream",
     "text": []
    },
    {
     "name": "stdout",
     "output_type": "stream",
     "text": [
      "Test loss: 0.75615 | Test accuracy: 78.65%\n",
      "\n",
      "Epoch 18/20\n",
      "Train loss: 0.55031 | Train accuracy: 83.62%\n"
     ]
    },
    {
     "name": "stderr",
     "output_type": "stream",
     "text": []
    },
    {
     "name": "stdout",
     "output_type": "stream",
     "text": [
      "Test loss: 0.78368 | Test accuracy: 78.54%\n",
      "\n",
      "Epoch 19/20\n",
      "Train loss: 0.56123 | Train accuracy: 83.63%\n"
     ]
    },
    {
     "name": "stderr",
     "output_type": "stream",
     "text": []
    },
    {
     "name": "stdout",
     "output_type": "stream",
     "text": [
      "Test loss: 0.69777 | Test accuracy: 81.15%\n",
      "\n",
      "Epoch 20/20\n",
      "Train loss: 0.52262 | Train accuracy: 84.27%\n"
     ]
    },
    {
     "name": "stderr",
     "output_type": "stream",
     "text": [
      "100%|██████████| 20/20 [01:00<00:00,  3.00s/it]\n",
      "Grid Search Progress:  37%|███▋      | 10/27 [17:25<28:57, 102.22s/it]"
     ]
    },
    {
     "name": "stdout",
     "output_type": "stream",
     "text": [
      "Test loss: 0.68279 | Test accuracy: 81.86%\n",
      "Results: Train Acc: 84.27%, Test Acc: 81.86%\n",
      "Time: 0:01:00\n",
      "\n",
      "[11/27] Testing: E256_H4_D0.1_Ep20\n"
     ]
    },
    {
     "name": "stderr",
     "output_type": "stream",
     "text": []
    },
    {
     "name": "stdout",
     "output_type": "stream",
     "text": [
      "\n",
      "Epoch 1/20\n",
      "Train loss: 1.81600 | Train accuracy: 47.06%\n"
     ]
    },
    {
     "name": "stderr",
     "output_type": "stream",
     "text": []
    },
    {
     "name": "stdout",
     "output_type": "stream",
     "text": [
      "Test loss: 1.53557 | Test accuracy: 55.13%\n",
      "\n",
      "Epoch 2/20\n",
      "Train loss: 1.16413 | Train accuracy: 66.72%\n"
     ]
    },
    {
     "name": "stderr",
     "output_type": "stream",
     "text": []
    },
    {
     "name": "stdout",
     "output_type": "stream",
     "text": [
      "Test loss: 1.13763 | Test accuracy: 67.29%\n",
      "\n",
      "Epoch 3/20\n",
      "Train loss: 0.96075 | Train accuracy: 73.19%\n"
     ]
    },
    {
     "name": "stderr",
     "output_type": "stream",
     "text": []
    },
    {
     "name": "stdout",
     "output_type": "stream",
     "text": [
      "Test loss: 1.04093 | Test accuracy: 71.82%\n",
      "\n",
      "Epoch 4/20\n",
      "Train loss: 0.85280 | Train accuracy: 75.58%\n"
     ]
    },
    {
     "name": "stderr",
     "output_type": "stream",
     "text": []
    },
    {
     "name": "stdout",
     "output_type": "stream",
     "text": [
      "Test loss: 0.94431 | Test accuracy: 74.04%\n",
      "\n",
      "Epoch 5/20\n",
      "Train loss: 0.80067 | Train accuracy: 77.04%\n"
     ]
    },
    {
     "name": "stderr",
     "output_type": "stream",
     "text": []
    },
    {
     "name": "stdout",
     "output_type": "stream",
     "text": [
      "Test loss: 0.87712 | Test accuracy: 73.76%\n",
      "\n",
      "Epoch 6/20\n",
      "Train loss: 0.74557 | Train accuracy: 78.90%\n"
     ]
    },
    {
     "name": "stderr",
     "output_type": "stream",
     "text": []
    },
    {
     "name": "stdout",
     "output_type": "stream",
     "text": [
      "Test loss: 0.85705 | Test accuracy: 74.40%\n",
      "\n",
      "Epoch 7/20\n",
      "Train loss: 0.72268 | Train accuracy: 79.82%\n"
     ]
    },
    {
     "name": "stderr",
     "output_type": "stream",
     "text": []
    },
    {
     "name": "stdout",
     "output_type": "stream",
     "text": [
      "Test loss: 0.84430 | Test accuracy: 75.33%\n",
      "\n",
      "Epoch 8/20\n",
      "Train loss: 0.69977 | Train accuracy: 79.62%\n"
     ]
    },
    {
     "name": "stderr",
     "output_type": "stream",
     "text": []
    },
    {
     "name": "stdout",
     "output_type": "stream",
     "text": [
      "Test loss: 0.82884 | Test accuracy: 75.29%\n",
      "\n",
      "Epoch 9/20\n",
      "Train loss: 0.66384 | Train accuracy: 80.36%\n"
     ]
    },
    {
     "name": "stderr",
     "output_type": "stream",
     "text": []
    },
    {
     "name": "stdout",
     "output_type": "stream",
     "text": [
      "Test loss: 0.85490 | Test accuracy: 75.01%\n",
      "\n",
      "Epoch 10/20\n",
      "Train loss: 0.64651 | Train accuracy: 80.92%\n"
     ]
    },
    {
     "name": "stderr",
     "output_type": "stream",
     "text": []
    },
    {
     "name": "stdout",
     "output_type": "stream",
     "text": [
      "Test loss: 0.82821 | Test accuracy: 78.02%\n",
      "\n",
      "Epoch 11/20\n",
      "Train loss: 0.64163 | Train accuracy: 80.85%\n"
     ]
    },
    {
     "name": "stderr",
     "output_type": "stream",
     "text": []
    },
    {
     "name": "stdout",
     "output_type": "stream",
     "text": [
      "Test loss: 0.80208 | Test accuracy: 77.49%\n",
      "\n",
      "Epoch 12/20\n",
      "Train loss: 0.62604 | Train accuracy: 81.32%\n"
     ]
    },
    {
     "name": "stderr",
     "output_type": "stream",
     "text": []
    },
    {
     "name": "stdout",
     "output_type": "stream",
     "text": [
      "Test loss: 0.73789 | Test accuracy: 78.79%\n",
      "\n",
      "Epoch 13/20\n",
      "Train loss: 0.60254 | Train accuracy: 82.49%\n"
     ]
    },
    {
     "name": "stderr",
     "output_type": "stream",
     "text": []
    },
    {
     "name": "stdout",
     "output_type": "stream",
     "text": [
      "Test loss: 0.81207 | Test accuracy: 77.23%\n",
      "\n",
      "Epoch 14/20\n",
      "Train loss: 0.59603 | Train accuracy: 81.96%\n"
     ]
    },
    {
     "name": "stderr",
     "output_type": "stream",
     "text": []
    },
    {
     "name": "stdout",
     "output_type": "stream",
     "text": [
      "Test loss: 0.82769 | Test accuracy: 76.96%\n",
      "\n",
      "Epoch 15/20\n",
      "Train loss: 0.58416 | Train accuracy: 82.29%\n"
     ]
    },
    {
     "name": "stderr",
     "output_type": "stream",
     "text": []
    },
    {
     "name": "stdout",
     "output_type": "stream",
     "text": [
      "Test loss: 0.77823 | Test accuracy: 77.87%\n",
      "\n",
      "Epoch 16/20\n",
      "Train loss: 0.55968 | Train accuracy: 83.22%\n"
     ]
    },
    {
     "name": "stderr",
     "output_type": "stream",
     "text": []
    },
    {
     "name": "stdout",
     "output_type": "stream",
     "text": [
      "Test loss: 0.79596 | Test accuracy: 76.76%\n",
      "\n",
      "Epoch 17/20\n",
      "Train loss: 0.56202 | Train accuracy: 82.97%\n"
     ]
    },
    {
     "name": "stderr",
     "output_type": "stream",
     "text": []
    },
    {
     "name": "stdout",
     "output_type": "stream",
     "text": [
      "Test loss: 0.77548 | Test accuracy: 78.09%\n",
      "\n",
      "Epoch 18/20\n",
      "Train loss: 0.54018 | Train accuracy: 83.56%\n"
     ]
    },
    {
     "name": "stderr",
     "output_type": "stream",
     "text": []
    },
    {
     "name": "stdout",
     "output_type": "stream",
     "text": [
      "Test loss: 0.67488 | Test accuracy: 80.18%\n",
      "\n",
      "Epoch 19/20\n",
      "Train loss: 0.54799 | Train accuracy: 83.15%\n"
     ]
    },
    {
     "name": "stderr",
     "output_type": "stream",
     "text": []
    },
    {
     "name": "stdout",
     "output_type": "stream",
     "text": [
      "Test loss: 0.70744 | Test accuracy: 79.73%\n",
      "\n",
      "Epoch 20/20\n",
      "Train loss: 0.52439 | Train accuracy: 84.00%\n"
     ]
    },
    {
     "name": "stderr",
     "output_type": "stream",
     "text": [
      "100%|██████████| 20/20 [00:59<00:00,  2.98s/it]\n",
      "Grid Search Progress:  41%|████      | 11/27 [18:24<23:46, 89.16s/it] "
     ]
    },
    {
     "name": "stdout",
     "output_type": "stream",
     "text": [
      "Test loss: 0.70099 | Test accuracy: 79.32%\n",
      "Results: Train Acc: 84.00%, Test Acc: 79.32%\n",
      "Time: 0:00:59\n",
      "\n",
      "[12/27] Testing: E256_H4_D0.2_Ep20\n"
     ]
    },
    {
     "name": "stderr",
     "output_type": "stream",
     "text": []
    },
    {
     "name": "stdout",
     "output_type": "stream",
     "text": [
      "\n",
      "Epoch 1/20\n",
      "Train loss: 1.79537 | Train accuracy: 46.72%\n"
     ]
    },
    {
     "name": "stderr",
     "output_type": "stream",
     "text": []
    },
    {
     "name": "stdout",
     "output_type": "stream",
     "text": [
      "Test loss: 1.37954 | Test accuracy: 57.13%\n",
      "\n",
      "Epoch 2/20\n",
      "Train loss: 1.09451 | Train accuracy: 68.57%\n"
     ]
    },
    {
     "name": "stderr",
     "output_type": "stream",
     "text": []
    },
    {
     "name": "stdout",
     "output_type": "stream",
     "text": [
      "Test loss: 1.11302 | Test accuracy: 66.59%\n",
      "\n",
      "Epoch 3/20\n",
      "Train loss: 0.94954 | Train accuracy: 72.78%\n"
     ]
    },
    {
     "name": "stderr",
     "output_type": "stream",
     "text": []
    },
    {
     "name": "stdout",
     "output_type": "stream",
     "text": [
      "Test loss: 0.93503 | Test accuracy: 76.07%\n",
      "\n",
      "Epoch 4/20\n",
      "Train loss: 0.84379 | Train accuracy: 75.41%\n"
     ]
    },
    {
     "name": "stderr",
     "output_type": "stream",
     "text": []
    },
    {
     "name": "stdout",
     "output_type": "stream",
     "text": [
      "Test loss: 1.03602 | Test accuracy: 68.33%\n",
      "\n",
      "Epoch 5/20\n",
      "Train loss: 0.81434 | Train accuracy: 76.53%\n"
     ]
    },
    {
     "name": "stderr",
     "output_type": "stream",
     "text": []
    },
    {
     "name": "stdout",
     "output_type": "stream",
     "text": [
      "Test loss: 0.89000 | Test accuracy: 74.58%\n",
      "\n",
      "Epoch 6/20\n",
      "Train loss: 0.77315 | Train accuracy: 77.51%\n"
     ]
    },
    {
     "name": "stderr",
     "output_type": "stream",
     "text": []
    },
    {
     "name": "stdout",
     "output_type": "stream",
     "text": [
      "Test loss: 0.84560 | Test accuracy: 76.50%\n",
      "\n",
      "Epoch 7/20\n",
      "Train loss: 0.72413 | Train accuracy: 78.49%\n"
     ]
    },
    {
     "name": "stderr",
     "output_type": "stream",
     "text": []
    },
    {
     "name": "stdout",
     "output_type": "stream",
     "text": [
      "Test loss: 0.84341 | Test accuracy: 77.04%\n",
      "\n",
      "Epoch 8/20\n",
      "Train loss: 0.67559 | Train accuracy: 80.00%\n"
     ]
    },
    {
     "name": "stderr",
     "output_type": "stream",
     "text": []
    },
    {
     "name": "stdout",
     "output_type": "stream",
     "text": [
      "Test loss: 0.80595 | Test accuracy: 76.22%\n",
      "\n",
      "Epoch 9/20\n",
      "Train loss: 0.66475 | Train accuracy: 80.79%\n"
     ]
    },
    {
     "name": "stderr",
     "output_type": "stream",
     "text": []
    },
    {
     "name": "stdout",
     "output_type": "stream",
     "text": [
      "Test loss: 0.80735 | Test accuracy: 79.06%\n",
      "\n",
      "Epoch 10/20\n",
      "Train loss: 0.63551 | Train accuracy: 81.02%\n"
     ]
    },
    {
     "name": "stderr",
     "output_type": "stream",
     "text": []
    },
    {
     "name": "stdout",
     "output_type": "stream",
     "text": [
      "Test loss: 0.80419 | Test accuracy: 77.17%\n",
      "\n",
      "Epoch 11/20\n",
      "Train loss: 0.61667 | Train accuracy: 81.85%\n"
     ]
    },
    {
     "name": "stderr",
     "output_type": "stream",
     "text": []
    },
    {
     "name": "stdout",
     "output_type": "stream",
     "text": [
      "Test loss: 0.91624 | Test accuracy: 75.44%\n",
      "\n",
      "Epoch 12/20\n",
      "Train loss: 0.59822 | Train accuracy: 82.24%\n"
     ]
    },
    {
     "name": "stderr",
     "output_type": "stream",
     "text": []
    },
    {
     "name": "stdout",
     "output_type": "stream",
     "text": [
      "Test loss: 0.78424 | Test accuracy: 78.78%\n",
      "\n",
      "Epoch 13/20\n",
      "Train loss: 0.58508 | Train accuracy: 82.61%\n"
     ]
    },
    {
     "name": "stderr",
     "output_type": "stream",
     "text": []
    },
    {
     "name": "stdout",
     "output_type": "stream",
     "text": [
      "Test loss: 0.78678 | Test accuracy: 80.00%\n",
      "\n",
      "Epoch 14/20\n",
      "Train loss: 0.57895 | Train accuracy: 82.42%\n"
     ]
    },
    {
     "name": "stderr",
     "output_type": "stream",
     "text": []
    },
    {
     "name": "stdout",
     "output_type": "stream",
     "text": [
      "Test loss: 0.77434 | Test accuracy: 80.43%\n",
      "\n",
      "Epoch 15/20\n",
      "Train loss: 0.55499 | Train accuracy: 83.38%\n"
     ]
    },
    {
     "name": "stderr",
     "output_type": "stream",
     "text": []
    },
    {
     "name": "stdout",
     "output_type": "stream",
     "text": [
      "Test loss: 0.77347 | Test accuracy: 78.92%\n",
      "\n",
      "Epoch 16/20\n",
      "Train loss: 0.55392 | Train accuracy: 83.58%\n"
     ]
    },
    {
     "name": "stderr",
     "output_type": "stream",
     "text": []
    },
    {
     "name": "stdout",
     "output_type": "stream",
     "text": [
      "Test loss: 0.75008 | Test accuracy: 81.21%\n",
      "\n",
      "Epoch 17/20\n",
      "Train loss: 0.55382 | Train accuracy: 83.37%\n"
     ]
    },
    {
     "name": "stderr",
     "output_type": "stream",
     "text": []
    },
    {
     "name": "stdout",
     "output_type": "stream",
     "text": [
      "Test loss: 0.77432 | Test accuracy: 79.19%\n",
      "\n",
      "Epoch 18/20\n",
      "Train loss: 0.52297 | Train accuracy: 84.42%\n"
     ]
    },
    {
     "name": "stderr",
     "output_type": "stream",
     "text": []
    },
    {
     "name": "stdout",
     "output_type": "stream",
     "text": [
      "Test loss: 0.71006 | Test accuracy: 82.18%\n",
      "\n",
      "Epoch 19/20\n",
      "Train loss: 0.53668 | Train accuracy: 84.00%\n"
     ]
    },
    {
     "name": "stderr",
     "output_type": "stream",
     "text": []
    },
    {
     "name": "stdout",
     "output_type": "stream",
     "text": [
      "Test loss: 0.73506 | Test accuracy: 81.83%\n",
      "\n",
      "Epoch 20/20\n",
      "Train loss: 0.52348 | Train accuracy: 84.44%\n"
     ]
    },
    {
     "name": "stderr",
     "output_type": "stream",
     "text": [
      "100%|██████████| 20/20 [01:03<00:00,  3.16s/it]\n",
      "Grid Search Progress:  44%|████▍     | 12/27 [19:27<20:18, 81.26s/it]"
     ]
    },
    {
     "name": "stdout",
     "output_type": "stream",
     "text": [
      "Test loss: 0.75296 | Test accuracy: 81.22%\n",
      "Results: Train Acc: 84.44%, Test Acc: 81.22%\n",
      "Time: 0:01:03\n",
      "\n",
      "[13/27] Testing: E256_H8_D0.0_Ep20\n"
     ]
    },
    {
     "name": "stderr",
     "output_type": "stream",
     "text": []
    },
    {
     "name": "stdout",
     "output_type": "stream",
     "text": [
      "\n",
      "Epoch 1/20\n",
      "Train loss: 1.62556 | Train accuracy: 52.40%\n"
     ]
    },
    {
     "name": "stderr",
     "output_type": "stream",
     "text": []
    },
    {
     "name": "stdout",
     "output_type": "stream",
     "text": [
      "Test loss: 1.22173 | Test accuracy: 61.78%\n",
      "\n",
      "Epoch 2/20\n",
      "Train loss: 0.91624 | Train accuracy: 72.72%\n"
     ]
    },
    {
     "name": "stderr",
     "output_type": "stream",
     "text": []
    },
    {
     "name": "stdout",
     "output_type": "stream",
     "text": [
      "Test loss: 1.00316 | Test accuracy: 69.55%\n",
      "\n",
      "Epoch 3/20\n",
      "Train loss: 0.80114 | Train accuracy: 76.10%\n"
     ]
    },
    {
     "name": "stderr",
     "output_type": "stream",
     "text": []
    },
    {
     "name": "stdout",
     "output_type": "stream",
     "text": [
      "Test loss: 0.96645 | Test accuracy: 70.33%\n",
      "\n",
      "Epoch 4/20\n",
      "Train loss: 0.70382 | Train accuracy: 79.35%\n"
     ]
    },
    {
     "name": "stderr",
     "output_type": "stream",
     "text": []
    },
    {
     "name": "stdout",
     "output_type": "stream",
     "text": [
      "Test loss: 0.81094 | Test accuracy: 76.31%\n",
      "\n",
      "Epoch 5/20\n",
      "Train loss: 0.67222 | Train accuracy: 80.11%\n"
     ]
    },
    {
     "name": "stderr",
     "output_type": "stream",
     "text": []
    },
    {
     "name": "stdout",
     "output_type": "stream",
     "text": [
      "Test loss: 0.76162 | Test accuracy: 79.16%\n",
      "\n",
      "Epoch 6/20\n",
      "Train loss: 0.63091 | Train accuracy: 81.19%\n"
     ]
    },
    {
     "name": "stderr",
     "output_type": "stream",
     "text": []
    },
    {
     "name": "stdout",
     "output_type": "stream",
     "text": [
      "Test loss: 0.79175 | Test accuracy: 77.28%\n",
      "\n",
      "Epoch 7/20\n",
      "Train loss: 0.60028 | Train accuracy: 82.07%\n"
     ]
    },
    {
     "name": "stderr",
     "output_type": "stream",
     "text": []
    },
    {
     "name": "stdout",
     "output_type": "stream",
     "text": [
      "Test loss: 0.72386 | Test accuracy: 79.16%\n",
      "\n",
      "Epoch 8/20\n",
      "Train loss: 0.60818 | Train accuracy: 82.04%\n"
     ]
    },
    {
     "name": "stderr",
     "output_type": "stream",
     "text": []
    },
    {
     "name": "stdout",
     "output_type": "stream",
     "text": [
      "Test loss: 0.68713 | Test accuracy: 80.29%\n",
      "\n",
      "Epoch 9/20\n",
      "Train loss: 0.54969 | Train accuracy: 83.24%\n"
     ]
    },
    {
     "name": "stderr",
     "output_type": "stream",
     "text": []
    },
    {
     "name": "stdout",
     "output_type": "stream",
     "text": [
      "Test loss: 0.72677 | Test accuracy: 78.82%\n",
      "\n",
      "Epoch 10/20\n",
      "Train loss: 0.53062 | Train accuracy: 83.93%\n"
     ]
    },
    {
     "name": "stderr",
     "output_type": "stream",
     "text": []
    },
    {
     "name": "stdout",
     "output_type": "stream",
     "text": [
      "Test loss: 0.71246 | Test accuracy: 79.84%\n",
      "\n",
      "Epoch 11/20\n",
      "Train loss: 0.51692 | Train accuracy: 84.29%\n"
     ]
    },
    {
     "name": "stderr",
     "output_type": "stream",
     "text": []
    },
    {
     "name": "stdout",
     "output_type": "stream",
     "text": [
      "Test loss: 0.75046 | Test accuracy: 78.06%\n",
      "\n",
      "Epoch 12/20\n",
      "Train loss: 0.51019 | Train accuracy: 84.96%\n"
     ]
    },
    {
     "name": "stderr",
     "output_type": "stream",
     "text": []
    },
    {
     "name": "stdout",
     "output_type": "stream",
     "text": [
      "Test loss: 0.66508 | Test accuracy: 80.89%\n",
      "\n",
      "Epoch 13/20\n",
      "Train loss: 0.48664 | Train accuracy: 85.29%\n"
     ]
    },
    {
     "name": "stderr",
     "output_type": "stream",
     "text": []
    },
    {
     "name": "stdout",
     "output_type": "stream",
     "text": [
      "Test loss: 0.70919 | Test accuracy: 80.00%\n",
      "\n",
      "Epoch 14/20\n",
      "Train loss: 0.47672 | Train accuracy: 85.36%\n"
     ]
    },
    {
     "name": "stderr",
     "output_type": "stream",
     "text": []
    },
    {
     "name": "stdout",
     "output_type": "stream",
     "text": [
      "Test loss: 0.65970 | Test accuracy: 82.29%\n",
      "\n",
      "Epoch 15/20\n",
      "Train loss: 0.46818 | Train accuracy: 85.74%\n"
     ]
    },
    {
     "name": "stderr",
     "output_type": "stream",
     "text": []
    },
    {
     "name": "stdout",
     "output_type": "stream",
     "text": [
      "Test loss: 0.65486 | Test accuracy: 80.58%\n",
      "\n",
      "Epoch 16/20\n",
      "Train loss: 0.47216 | Train accuracy: 85.66%\n"
     ]
    },
    {
     "name": "stderr",
     "output_type": "stream",
     "text": []
    },
    {
     "name": "stdout",
     "output_type": "stream",
     "text": [
      "Test loss: 0.62949 | Test accuracy: 82.43%\n",
      "\n",
      "Epoch 17/20\n",
      "Train loss: 0.46124 | Train accuracy: 85.61%\n"
     ]
    },
    {
     "name": "stderr",
     "output_type": "stream",
     "text": []
    },
    {
     "name": "stdout",
     "output_type": "stream",
     "text": [
      "Test loss: 0.70936 | Test accuracy: 81.02%\n",
      "\n",
      "Epoch 18/20\n",
      "Train loss: 0.46281 | Train accuracy: 85.93%\n"
     ]
    },
    {
     "name": "stderr",
     "output_type": "stream",
     "text": []
    },
    {
     "name": "stdout",
     "output_type": "stream",
     "text": [
      "Test loss: 0.61751 | Test accuracy: 82.78%\n",
      "\n",
      "Epoch 19/20\n",
      "Train loss: 0.43521 | Train accuracy: 86.40%\n"
     ]
    },
    {
     "name": "stderr",
     "output_type": "stream",
     "text": []
    },
    {
     "name": "stdout",
     "output_type": "stream",
     "text": [
      "Test loss: 0.62754 | Test accuracy: 81.83%\n",
      "\n",
      "Epoch 20/20\n",
      "Train loss: 0.42492 | Train accuracy: 86.79%\n"
     ]
    },
    {
     "name": "stderr",
     "output_type": "stream",
     "text": [
      "100%|██████████| 20/20 [01:23<00:00,  4.19s/it]\n",
      "Grid Search Progress:  48%|████▊     | 13/27 [20:51<19:08, 82.06s/it]"
     ]
    },
    {
     "name": "stdout",
     "output_type": "stream",
     "text": [
      "Test loss: 0.63517 | Test accuracy: 81.56%\n",
      "Results: Train Acc: 86.79%, Test Acc: 81.56%\n",
      "Time: 0:01:23\n",
      "\n",
      "[14/27] Testing: E256_H8_D0.1_Ep20\n"
     ]
    },
    {
     "name": "stderr",
     "output_type": "stream",
     "text": []
    },
    {
     "name": "stdout",
     "output_type": "stream",
     "text": [
      "\n",
      "Epoch 1/20\n",
      "Train loss: 1.57969 | Train accuracy: 53.60%\n"
     ]
    },
    {
     "name": "stderr",
     "output_type": "stream",
     "text": []
    },
    {
     "name": "stdout",
     "output_type": "stream",
     "text": [
      "Test loss: 1.08042 | Test accuracy: 67.32%\n",
      "\n",
      "Epoch 2/20\n",
      "Train loss: 0.89522 | Train accuracy: 73.44%\n"
     ]
    },
    {
     "name": "stderr",
     "output_type": "stream",
     "text": []
    },
    {
     "name": "stdout",
     "output_type": "stream",
     "text": [
      "Test loss: 0.88866 | Test accuracy: 74.24%\n",
      "\n",
      "Epoch 3/20\n",
      "Train loss: 0.76186 | Train accuracy: 77.72%\n"
     ]
    },
    {
     "name": "stderr",
     "output_type": "stream",
     "text": []
    },
    {
     "name": "stdout",
     "output_type": "stream",
     "text": [
      "Test loss: 0.82098 | Test accuracy: 75.36%\n",
      "\n",
      "Epoch 4/20\n",
      "Train loss: 0.68171 | Train accuracy: 80.10%\n"
     ]
    },
    {
     "name": "stderr",
     "output_type": "stream",
     "text": []
    },
    {
     "name": "stdout",
     "output_type": "stream",
     "text": [
      "Test loss: 0.75445 | Test accuracy: 79.20%\n",
      "\n",
      "Epoch 5/20\n",
      "Train loss: 0.63827 | Train accuracy: 81.26%\n"
     ]
    },
    {
     "name": "stderr",
     "output_type": "stream",
     "text": []
    },
    {
     "name": "stdout",
     "output_type": "stream",
     "text": [
      "Test loss: 0.80553 | Test accuracy: 77.62%\n",
      "\n",
      "Epoch 6/20\n",
      "Train loss: 0.59827 | Train accuracy: 81.98%\n"
     ]
    },
    {
     "name": "stderr",
     "output_type": "stream",
     "text": []
    },
    {
     "name": "stdout",
     "output_type": "stream",
     "text": [
      "Test loss: 0.74437 | Test accuracy: 78.93%\n",
      "\n",
      "Epoch 7/20\n",
      "Train loss: 0.57503 | Train accuracy: 82.95%\n"
     ]
    },
    {
     "name": "stderr",
     "output_type": "stream",
     "text": []
    },
    {
     "name": "stdout",
     "output_type": "stream",
     "text": [
      "Test loss: 0.82655 | Test accuracy: 76.44%\n",
      "\n",
      "Epoch 8/20\n",
      "Train loss: 0.61081 | Train accuracy: 82.81%\n"
     ]
    },
    {
     "name": "stderr",
     "output_type": "stream",
     "text": []
    },
    {
     "name": "stdout",
     "output_type": "stream",
     "text": [
      "Test loss: 0.69813 | Test accuracy: 81.22%\n",
      "\n",
      "Epoch 9/20\n",
      "Train loss: 0.53074 | Train accuracy: 84.03%\n"
     ]
    },
    {
     "name": "stderr",
     "output_type": "stream",
     "text": []
    },
    {
     "name": "stdout",
     "output_type": "stream",
     "text": [
      "Test loss: 0.72037 | Test accuracy: 79.88%\n",
      "\n",
      "Epoch 10/20\n",
      "Train loss: 0.53108 | Train accuracy: 84.34%\n"
     ]
    },
    {
     "name": "stderr",
     "output_type": "stream",
     "text": []
    },
    {
     "name": "stdout",
     "output_type": "stream",
     "text": [
      "Test loss: 0.66484 | Test accuracy: 81.24%\n",
      "\n",
      "Epoch 11/20\n",
      "Train loss: 0.50266 | Train accuracy: 84.46%\n"
     ]
    },
    {
     "name": "stderr",
     "output_type": "stream",
     "text": []
    },
    {
     "name": "stdout",
     "output_type": "stream",
     "text": [
      "Test loss: 0.65708 | Test accuracy: 81.80%\n",
      "\n",
      "Epoch 12/20\n",
      "Train loss: 0.49874 | Train accuracy: 84.86%\n"
     ]
    },
    {
     "name": "stderr",
     "output_type": "stream",
     "text": []
    },
    {
     "name": "stdout",
     "output_type": "stream",
     "text": [
      "Test loss: 0.72338 | Test accuracy: 80.36%\n",
      "\n",
      "Epoch 13/20\n",
      "Train loss: 0.50548 | Train accuracy: 84.35%\n"
     ]
    },
    {
     "name": "stderr",
     "output_type": "stream",
     "text": []
    },
    {
     "name": "stdout",
     "output_type": "stream",
     "text": [
      "Test loss: 0.68509 | Test accuracy: 83.28%\n",
      "\n",
      "Epoch 14/20\n",
      "Train loss: 0.48042 | Train accuracy: 85.62%\n"
     ]
    },
    {
     "name": "stderr",
     "output_type": "stream",
     "text": []
    },
    {
     "name": "stdout",
     "output_type": "stream",
     "text": [
      "Test loss: 0.65653 | Test accuracy: 82.47%\n",
      "\n",
      "Epoch 15/20\n",
      "Train loss: 0.46871 | Train accuracy: 85.19%\n"
     ]
    },
    {
     "name": "stderr",
     "output_type": "stream",
     "text": []
    },
    {
     "name": "stdout",
     "output_type": "stream",
     "text": [
      "Test loss: 0.64792 | Test accuracy: 82.32%\n",
      "\n",
      "Epoch 16/20\n",
      "Train loss: 0.44912 | Train accuracy: 86.28%\n"
     ]
    },
    {
     "name": "stderr",
     "output_type": "stream",
     "text": []
    },
    {
     "name": "stdout",
     "output_type": "stream",
     "text": [
      "Test loss: 0.81017 | Test accuracy: 78.04%\n",
      "\n",
      "Epoch 17/20\n",
      "Train loss: 0.45482 | Train accuracy: 86.03%\n"
     ]
    },
    {
     "name": "stderr",
     "output_type": "stream",
     "text": []
    },
    {
     "name": "stdout",
     "output_type": "stream",
     "text": [
      "Test loss: 0.64698 | Test accuracy: 82.61%\n",
      "\n",
      "Epoch 18/20\n",
      "Train loss: 0.43863 | Train accuracy: 86.55%\n"
     ]
    },
    {
     "name": "stderr",
     "output_type": "stream",
     "text": []
    },
    {
     "name": "stdout",
     "output_type": "stream",
     "text": [
      "Test loss: 0.64304 | Test accuracy: 82.14%\n",
      "\n",
      "Epoch 19/20\n",
      "Train loss: 0.42676 | Train accuracy: 86.75%\n"
     ]
    },
    {
     "name": "stderr",
     "output_type": "stream",
     "text": []
    },
    {
     "name": "stdout",
     "output_type": "stream",
     "text": [
      "Test loss: 0.61643 | Test accuracy: 84.39%\n",
      "\n",
      "Epoch 20/20\n",
      "Train loss: 0.42072 | Train accuracy: 87.01%\n"
     ]
    },
    {
     "name": "stderr",
     "output_type": "stream",
     "text": [
      "100%|██████████| 20/20 [01:25<00:00,  4.28s/it]\n",
      "Grid Search Progress:  52%|█████▏    | 14/27 [22:17<18:00, 83.14s/it]"
     ]
    },
    {
     "name": "stdout",
     "output_type": "stream",
     "text": [
      "Test loss: 0.62673 | Test accuracy: 83.13%\n",
      "Results: Train Acc: 87.01%, Test Acc: 83.13%\n",
      "Time: 0:01:25\n",
      "\n",
      "[15/27] Testing: E256_H8_D0.2_Ep20\n"
     ]
    },
    {
     "name": "stderr",
     "output_type": "stream",
     "text": []
    },
    {
     "name": "stdout",
     "output_type": "stream",
     "text": [
      "\n",
      "Epoch 1/20\n",
      "Train loss: 1.61635 | Train accuracy: 52.57%\n"
     ]
    },
    {
     "name": "stderr",
     "output_type": "stream",
     "text": []
    },
    {
     "name": "stdout",
     "output_type": "stream",
     "text": [
      "Test loss: 1.14853 | Test accuracy: 66.30%\n",
      "\n",
      "Epoch 2/20\n",
      "Train loss: 0.87387 | Train accuracy: 74.69%\n"
     ]
    },
    {
     "name": "stderr",
     "output_type": "stream",
     "text": []
    },
    {
     "name": "stdout",
     "output_type": "stream",
     "text": [
      "Test loss: 0.89511 | Test accuracy: 74.56%\n",
      "\n",
      "Epoch 3/20\n",
      "Train loss: 0.77737 | Train accuracy: 78.40%\n"
     ]
    },
    {
     "name": "stderr",
     "output_type": "stream",
     "text": []
    },
    {
     "name": "stdout",
     "output_type": "stream",
     "text": [
      "Test loss: 0.82940 | Test accuracy: 76.10%\n",
      "\n",
      "Epoch 4/20\n",
      "Train loss: 0.70318 | Train accuracy: 79.30%\n"
     ]
    },
    {
     "name": "stderr",
     "output_type": "stream",
     "text": []
    },
    {
     "name": "stdout",
     "output_type": "stream",
     "text": [
      "Test loss: 0.87155 | Test accuracy: 75.35%\n",
      "\n",
      "Epoch 5/20\n",
      "Train loss: 0.66234 | Train accuracy: 81.09%\n"
     ]
    },
    {
     "name": "stderr",
     "output_type": "stream",
     "text": []
    },
    {
     "name": "stdout",
     "output_type": "stream",
     "text": [
      "Test loss: 0.78322 | Test accuracy: 78.49%\n",
      "\n",
      "Epoch 6/20\n",
      "Train loss: 0.61024 | Train accuracy: 82.01%\n"
     ]
    },
    {
     "name": "stderr",
     "output_type": "stream",
     "text": []
    },
    {
     "name": "stdout",
     "output_type": "stream",
     "text": [
      "Test loss: 0.81145 | Test accuracy: 76.59%\n",
      "\n",
      "Epoch 7/20\n",
      "Train loss: 0.57832 | Train accuracy: 83.08%\n"
     ]
    },
    {
     "name": "stderr",
     "output_type": "stream",
     "text": []
    },
    {
     "name": "stdout",
     "output_type": "stream",
     "text": [
      "Test loss: 0.82146 | Test accuracy: 74.68%\n",
      "\n",
      "Epoch 8/20\n",
      "Train loss: 0.56919 | Train accuracy: 83.18%\n"
     ]
    },
    {
     "name": "stderr",
     "output_type": "stream",
     "text": []
    },
    {
     "name": "stdout",
     "output_type": "stream",
     "text": [
      "Test loss: 0.69974 | Test accuracy: 79.56%\n",
      "\n",
      "Epoch 9/20\n",
      "Train loss: 0.56085 | Train accuracy: 83.19%\n"
     ]
    },
    {
     "name": "stderr",
     "output_type": "stream",
     "text": []
    },
    {
     "name": "stdout",
     "output_type": "stream",
     "text": [
      "Test loss: 0.67803 | Test accuracy: 81.70%\n",
      "\n",
      "Epoch 10/20\n",
      "Train loss: 0.51751 | Train accuracy: 84.24%\n"
     ]
    },
    {
     "name": "stderr",
     "output_type": "stream",
     "text": []
    },
    {
     "name": "stdout",
     "output_type": "stream",
     "text": [
      "Test loss: 0.61622 | Test accuracy: 83.34%\n",
      "\n",
      "Epoch 11/20\n",
      "Train loss: 0.49792 | Train accuracy: 85.43%\n"
     ]
    },
    {
     "name": "stderr",
     "output_type": "stream",
     "text": []
    },
    {
     "name": "stdout",
     "output_type": "stream",
     "text": [
      "Test loss: 0.62763 | Test accuracy: 82.02%\n",
      "\n",
      "Epoch 12/20\n",
      "Train loss: 0.48922 | Train accuracy: 85.72%\n"
     ]
    },
    {
     "name": "stderr",
     "output_type": "stream",
     "text": []
    },
    {
     "name": "stdout",
     "output_type": "stream",
     "text": [
      "Test loss: 0.61757 | Test accuracy: 83.99%\n",
      "\n",
      "Epoch 13/20\n",
      "Train loss: 0.46543 | Train accuracy: 86.04%\n"
     ]
    },
    {
     "name": "stderr",
     "output_type": "stream",
     "text": []
    },
    {
     "name": "stdout",
     "output_type": "stream",
     "text": [
      "Test loss: 0.61108 | Test accuracy: 84.18%\n",
      "\n",
      "Epoch 14/20\n",
      "Train loss: 0.45101 | Train accuracy: 86.41%\n"
     ]
    },
    {
     "name": "stderr",
     "output_type": "stream",
     "text": []
    },
    {
     "name": "stdout",
     "output_type": "stream",
     "text": [
      "Test loss: 0.55070 | Test accuracy: 84.82%\n",
      "\n",
      "Epoch 15/20\n",
      "Train loss: 0.44886 | Train accuracy: 86.63%\n"
     ]
    },
    {
     "name": "stderr",
     "output_type": "stream",
     "text": []
    },
    {
     "name": "stdout",
     "output_type": "stream",
     "text": [
      "Test loss: 0.65664 | Test accuracy: 82.58%\n",
      "\n",
      "Epoch 16/20\n",
      "Train loss: 0.44961 | Train accuracy: 86.15%\n"
     ]
    },
    {
     "name": "stderr",
     "output_type": "stream",
     "text": []
    },
    {
     "name": "stdout",
     "output_type": "stream",
     "text": [
      "Test loss: 0.56728 | Test accuracy: 84.31%\n",
      "\n",
      "Epoch 17/20\n",
      "Train loss: 0.45462 | Train accuracy: 86.39%\n"
     ]
    },
    {
     "name": "stderr",
     "output_type": "stream",
     "text": []
    },
    {
     "name": "stdout",
     "output_type": "stream",
     "text": [
      "Test loss: 0.63121 | Test accuracy: 82.77%\n",
      "\n",
      "Epoch 18/20\n",
      "Train loss: 0.43045 | Train accuracy: 86.96%\n"
     ]
    },
    {
     "name": "stderr",
     "output_type": "stream",
     "text": []
    },
    {
     "name": "stdout",
     "output_type": "stream",
     "text": [
      "Test loss: 0.58336 | Test accuracy: 83.64%\n",
      "\n",
      "Epoch 19/20\n",
      "Train loss: 0.40001 | Train accuracy: 87.81%\n"
     ]
    },
    {
     "name": "stderr",
     "output_type": "stream",
     "text": []
    },
    {
     "name": "stdout",
     "output_type": "stream",
     "text": [
      "Test loss: 0.55399 | Test accuracy: 85.58%\n",
      "\n",
      "Epoch 20/20\n",
      "Train loss: 0.41608 | Train accuracy: 87.47%\n"
     ]
    },
    {
     "name": "stderr",
     "output_type": "stream",
     "text": [
      "100%|██████████| 20/20 [01:21<00:00,  4.07s/it]\n",
      "Grid Search Progress:  56%|█████▌    | 15/27 [23:38<16:31, 82.65s/it]"
     ]
    },
    {
     "name": "stdout",
     "output_type": "stream",
     "text": [
      "Test loss: 0.62642 | Test accuracy: 82.80%\n",
      "Results: Train Acc: 87.47%, Test Acc: 82.80%\n",
      "Time: 0:01:21\n",
      "\n",
      "[16/27] Testing: E256_H16_D0.0_Ep20\n"
     ]
    },
    {
     "name": "stderr",
     "output_type": "stream",
     "text": []
    },
    {
     "name": "stdout",
     "output_type": "stream",
     "text": [
      "\n",
      "Epoch 1/20\n",
      "Train loss: 1.68657 | Train accuracy: 50.31%\n"
     ]
    },
    {
     "name": "stderr",
     "output_type": "stream",
     "text": []
    },
    {
     "name": "stdout",
     "output_type": "stream",
     "text": [
      "Test loss: 1.14851 | Test accuracy: 66.07%\n",
      "\n",
      "Epoch 2/20\n",
      "Train loss: 0.91286 | Train accuracy: 73.51%\n"
     ]
    },
    {
     "name": "stderr",
     "output_type": "stream",
     "text": []
    },
    {
     "name": "stdout",
     "output_type": "stream",
     "text": [
      "Test loss: 0.90563 | Test accuracy: 75.24%\n",
      "\n",
      "Epoch 3/20\n",
      "Train loss: 0.77143 | Train accuracy: 78.26%\n"
     ]
    },
    {
     "name": "stderr",
     "output_type": "stream",
     "text": []
    },
    {
     "name": "stdout",
     "output_type": "stream",
     "text": [
      "Test loss: 0.80409 | Test accuracy: 76.08%\n",
      "\n",
      "Epoch 4/20\n",
      "Train loss: 0.68345 | Train accuracy: 80.33%\n"
     ]
    },
    {
     "name": "stderr",
     "output_type": "stream",
     "text": []
    },
    {
     "name": "stdout",
     "output_type": "stream",
     "text": [
      "Test loss: 0.77230 | Test accuracy: 77.63%\n",
      "\n",
      "Epoch 5/20\n",
      "Train loss: 0.63770 | Train accuracy: 81.26%\n"
     ]
    },
    {
     "name": "stderr",
     "output_type": "stream",
     "text": []
    },
    {
     "name": "stdout",
     "output_type": "stream",
     "text": [
      "Test loss: 0.74506 | Test accuracy: 78.43%\n",
      "\n",
      "Epoch 6/20\n",
      "Train loss: 0.60764 | Train accuracy: 82.64%\n"
     ]
    },
    {
     "name": "stderr",
     "output_type": "stream",
     "text": []
    },
    {
     "name": "stdout",
     "output_type": "stream",
     "text": [
      "Test loss: 0.68507 | Test accuracy: 80.62%\n",
      "\n",
      "Epoch 7/20\n",
      "Train loss: 0.55551 | Train accuracy: 83.91%\n"
     ]
    },
    {
     "name": "stderr",
     "output_type": "stream",
     "text": []
    },
    {
     "name": "stdout",
     "output_type": "stream",
     "text": [
      "Test loss: 0.63760 | Test accuracy: 81.46%\n",
      "\n",
      "Epoch 8/20\n",
      "Train loss: 0.52610 | Train accuracy: 84.23%\n"
     ]
    },
    {
     "name": "stderr",
     "output_type": "stream",
     "text": []
    },
    {
     "name": "stdout",
     "output_type": "stream",
     "text": [
      "Test loss: 0.70415 | Test accuracy: 79.89%\n",
      "\n",
      "Epoch 9/20\n",
      "Train loss: 0.49588 | Train accuracy: 85.93%\n"
     ]
    },
    {
     "name": "stderr",
     "output_type": "stream",
     "text": []
    },
    {
     "name": "stdout",
     "output_type": "stream",
     "text": [
      "Test loss: 0.60765 | Test accuracy: 82.89%\n",
      "\n",
      "Epoch 10/20\n",
      "Train loss: 0.45819 | Train accuracy: 86.71%\n"
     ]
    },
    {
     "name": "stderr",
     "output_type": "stream",
     "text": []
    },
    {
     "name": "stdout",
     "output_type": "stream",
     "text": [
      "Test loss: 0.61741 | Test accuracy: 82.69%\n",
      "\n",
      "Epoch 11/20\n",
      "Train loss: 0.44164 | Train accuracy: 86.98%\n"
     ]
    },
    {
     "name": "stderr",
     "output_type": "stream",
     "text": []
    },
    {
     "name": "stdout",
     "output_type": "stream",
     "text": [
      "Test loss: 0.63779 | Test accuracy: 81.91%\n",
      "\n",
      "Epoch 12/20\n",
      "Train loss: 0.43623 | Train accuracy: 86.92%\n"
     ]
    },
    {
     "name": "stderr",
     "output_type": "stream",
     "text": []
    },
    {
     "name": "stdout",
     "output_type": "stream",
     "text": [
      "Test loss: 0.62012 | Test accuracy: 82.37%\n",
      "\n",
      "Epoch 13/20\n",
      "Train loss: 0.46711 | Train accuracy: 86.26%\n"
     ]
    },
    {
     "name": "stderr",
     "output_type": "stream",
     "text": []
    },
    {
     "name": "stdout",
     "output_type": "stream",
     "text": [
      "Test loss: 0.58709 | Test accuracy: 84.83%\n",
      "\n",
      "Epoch 14/20\n",
      "Train loss: 0.43088 | Train accuracy: 87.70%\n"
     ]
    },
    {
     "name": "stderr",
     "output_type": "stream",
     "text": []
    },
    {
     "name": "stdout",
     "output_type": "stream",
     "text": [
      "Test loss: 0.57984 | Test accuracy: 84.98%\n",
      "\n",
      "Epoch 15/20\n",
      "Train loss: 0.39922 | Train accuracy: 88.55%\n"
     ]
    },
    {
     "name": "stderr",
     "output_type": "stream",
     "text": []
    },
    {
     "name": "stdout",
     "output_type": "stream",
     "text": [
      "Test loss: 0.60072 | Test accuracy: 84.24%\n",
      "\n",
      "Epoch 16/20\n",
      "Train loss: 0.38225 | Train accuracy: 88.41%\n"
     ]
    },
    {
     "name": "stderr",
     "output_type": "stream",
     "text": []
    },
    {
     "name": "stdout",
     "output_type": "stream",
     "text": [
      "Test loss: 0.69485 | Test accuracy: 81.41%\n",
      "\n",
      "Epoch 17/20\n",
      "Train loss: 0.38034 | Train accuracy: 88.63%\n"
     ]
    },
    {
     "name": "stderr",
     "output_type": "stream",
     "text": []
    },
    {
     "name": "stdout",
     "output_type": "stream",
     "text": [
      "Test loss: 0.54592 | Test accuracy: 85.23%\n",
      "\n",
      "Epoch 18/20\n",
      "Train loss: 0.40429 | Train accuracy: 87.44%\n"
     ]
    },
    {
     "name": "stderr",
     "output_type": "stream",
     "text": []
    },
    {
     "name": "stdout",
     "output_type": "stream",
     "text": [
      "Test loss: 0.61599 | Test accuracy: 83.63%\n",
      "\n",
      "Epoch 19/20\n",
      "Train loss: 0.40748 | Train accuracy: 88.35%\n"
     ]
    },
    {
     "name": "stderr",
     "output_type": "stream",
     "text": []
    },
    {
     "name": "stdout",
     "output_type": "stream",
     "text": [
      "Test loss: 0.63095 | Test accuracy: 83.11%\n",
      "\n",
      "Epoch 20/20\n",
      "Train loss: 0.36865 | Train accuracy: 88.55%\n"
     ]
    },
    {
     "name": "stderr",
     "output_type": "stream",
     "text": [
      "100%|██████████| 20/20 [01:54<00:00,  5.74s/it]\n",
      "Grid Search Progress:  59%|█████▉    | 16/27 [25:33<16:55, 92.36s/it]"
     ]
    },
    {
     "name": "stdout",
     "output_type": "stream",
     "text": [
      "Test loss: 0.58060 | Test accuracy: 84.62%\n",
      "Results: Train Acc: 88.55%, Test Acc: 84.62%\n",
      "Time: 0:01:54\n",
      "\n",
      "[17/27] Testing: E256_H16_D0.1_Ep20\n"
     ]
    },
    {
     "name": "stderr",
     "output_type": "stream",
     "text": []
    },
    {
     "name": "stdout",
     "output_type": "stream",
     "text": [
      "\n",
      "Epoch 1/20\n",
      "Train loss: 1.67855 | Train accuracy: 50.95%\n"
     ]
    },
    {
     "name": "stderr",
     "output_type": "stream",
     "text": []
    },
    {
     "name": "stdout",
     "output_type": "stream",
     "text": [
      "Test loss: 1.16994 | Test accuracy: 64.87%\n",
      "\n",
      "Epoch 2/20\n",
      "Train loss: 0.89724 | Train accuracy: 74.30%\n"
     ]
    },
    {
     "name": "stderr",
     "output_type": "stream",
     "text": []
    },
    {
     "name": "stdout",
     "output_type": "stream",
     "text": [
      "Test loss: 0.87711 | Test accuracy: 77.53%\n",
      "\n",
      "Epoch 3/20\n",
      "Train loss: 0.73653 | Train accuracy: 78.64%\n"
     ]
    },
    {
     "name": "stderr",
     "output_type": "stream",
     "text": []
    },
    {
     "name": "stdout",
     "output_type": "stream",
     "text": [
      "Test loss: 0.85231 | Test accuracy: 77.06%\n",
      "\n",
      "Epoch 4/20\n",
      "Train loss: 0.65920 | Train accuracy: 81.24%\n"
     ]
    },
    {
     "name": "stderr",
     "output_type": "stream",
     "text": []
    },
    {
     "name": "stdout",
     "output_type": "stream",
     "text": [
      "Test loss: 0.76508 | Test accuracy: 79.09%\n",
      "\n",
      "Epoch 5/20\n",
      "Train loss: 0.61292 | Train accuracy: 82.43%\n"
     ]
    },
    {
     "name": "stderr",
     "output_type": "stream",
     "text": []
    },
    {
     "name": "stdout",
     "output_type": "stream",
     "text": [
      "Test loss: 0.74039 | Test accuracy: 79.84%\n",
      "\n",
      "Epoch 6/20\n",
      "Train loss: 0.59439 | Train accuracy: 82.18%\n"
     ]
    },
    {
     "name": "stderr",
     "output_type": "stream",
     "text": []
    },
    {
     "name": "stdout",
     "output_type": "stream",
     "text": [
      "Test loss: 0.70241 | Test accuracy: 79.85%\n",
      "\n",
      "Epoch 7/20\n",
      "Train loss: 0.55861 | Train accuracy: 83.47%\n"
     ]
    },
    {
     "name": "stderr",
     "output_type": "stream",
     "text": []
    },
    {
     "name": "stdout",
     "output_type": "stream",
     "text": [
      "Test loss: 0.72246 | Test accuracy: 79.32%\n",
      "\n",
      "Epoch 8/20\n",
      "Train loss: 0.52422 | Train accuracy: 84.32%\n"
     ]
    },
    {
     "name": "stderr",
     "output_type": "stream",
     "text": []
    },
    {
     "name": "stdout",
     "output_type": "stream",
     "text": [
      "Test loss: 0.67466 | Test accuracy: 82.45%\n",
      "\n",
      "Epoch 9/20\n",
      "Train loss: 0.51198 | Train accuracy: 84.75%\n"
     ]
    },
    {
     "name": "stderr",
     "output_type": "stream",
     "text": []
    },
    {
     "name": "stdout",
     "output_type": "stream",
     "text": [
      "Test loss: 0.64564 | Test accuracy: 82.48%\n",
      "\n",
      "Epoch 10/20\n",
      "Train loss: 0.49146 | Train accuracy: 85.48%\n"
     ]
    },
    {
     "name": "stderr",
     "output_type": "stream",
     "text": []
    },
    {
     "name": "stdout",
     "output_type": "stream",
     "text": [
      "Test loss: 0.61839 | Test accuracy: 83.62%\n",
      "\n",
      "Epoch 11/20\n",
      "Train loss: 0.45819 | Train accuracy: 86.11%\n"
     ]
    },
    {
     "name": "stderr",
     "output_type": "stream",
     "text": []
    },
    {
     "name": "stdout",
     "output_type": "stream",
     "text": [
      "Test loss: 0.61092 | Test accuracy: 83.12%\n",
      "\n",
      "Epoch 12/20\n",
      "Train loss: 0.46742 | Train accuracy: 86.36%\n"
     ]
    },
    {
     "name": "stderr",
     "output_type": "stream",
     "text": []
    },
    {
     "name": "stdout",
     "output_type": "stream",
     "text": [
      "Test loss: 0.62437 | Test accuracy: 83.52%\n",
      "\n",
      "Epoch 13/20\n",
      "Train loss: 0.44421 | Train accuracy: 86.99%\n"
     ]
    },
    {
     "name": "stderr",
     "output_type": "stream",
     "text": []
    },
    {
     "name": "stdout",
     "output_type": "stream",
     "text": [
      "Test loss: 0.73496 | Test accuracy: 80.67%\n",
      "\n",
      "Epoch 14/20\n",
      "Train loss: 0.41876 | Train accuracy: 87.43%\n"
     ]
    },
    {
     "name": "stderr",
     "output_type": "stream",
     "text": []
    },
    {
     "name": "stdout",
     "output_type": "stream",
     "text": [
      "Test loss: 0.56055 | Test accuracy: 85.85%\n",
      "\n",
      "Epoch 15/20\n",
      "Train loss: 0.42796 | Train accuracy: 87.22%\n"
     ]
    },
    {
     "name": "stderr",
     "output_type": "stream",
     "text": []
    },
    {
     "name": "stdout",
     "output_type": "stream",
     "text": [
      "Test loss: 0.67324 | Test accuracy: 81.86%\n",
      "\n",
      "Epoch 16/20\n",
      "Train loss: 0.40906 | Train accuracy: 87.84%\n"
     ]
    },
    {
     "name": "stderr",
     "output_type": "stream",
     "text": []
    },
    {
     "name": "stdout",
     "output_type": "stream",
     "text": [
      "Test loss: 0.59615 | Test accuracy: 84.52%\n",
      "\n",
      "Epoch 17/20\n",
      "Train loss: 0.37789 | Train accuracy: 88.72%\n"
     ]
    },
    {
     "name": "stderr",
     "output_type": "stream",
     "text": []
    },
    {
     "name": "stdout",
     "output_type": "stream",
     "text": [
      "Test loss: 0.57688 | Test accuracy: 84.90%\n",
      "\n",
      "Epoch 18/20\n",
      "Train loss: 0.40039 | Train accuracy: 88.18%\n"
     ]
    },
    {
     "name": "stderr",
     "output_type": "stream",
     "text": []
    },
    {
     "name": "stdout",
     "output_type": "stream",
     "text": [
      "Test loss: 0.63002 | Test accuracy: 84.79%\n",
      "\n",
      "Epoch 19/20\n",
      "Train loss: 0.37488 | Train accuracy: 88.68%\n"
     ]
    },
    {
     "name": "stderr",
     "output_type": "stream",
     "text": []
    },
    {
     "name": "stdout",
     "output_type": "stream",
     "text": [
      "Test loss: 0.56708 | Test accuracy: 84.87%\n",
      "\n",
      "Epoch 20/20\n",
      "Train loss: 0.38031 | Train accuracy: 88.10%\n"
     ]
    },
    {
     "name": "stderr",
     "output_type": "stream",
     "text": [
      "100%|██████████| 20/20 [01:55<00:00,  5.78s/it]\n",
      "Grid Search Progress:  63%|██████▎   | 17/27 [27:29<16:33, 99.33s/it]"
     ]
    },
    {
     "name": "stdout",
     "output_type": "stream",
     "text": [
      "Test loss: 0.64120 | Test accuracy: 84.02%\n",
      "Results: Train Acc: 88.10%, Test Acc: 84.02%\n",
      "Time: 0:01:55\n",
      "\n",
      "[18/27] Testing: E256_H16_D0.2_Ep20\n"
     ]
    },
    {
     "name": "stderr",
     "output_type": "stream",
     "text": []
    },
    {
     "name": "stdout",
     "output_type": "stream",
     "text": [
      "\n",
      "Epoch 1/20\n",
      "Train loss: 1.82456 | Train accuracy: 45.30%\n"
     ]
    },
    {
     "name": "stderr",
     "output_type": "stream",
     "text": []
    },
    {
     "name": "stdout",
     "output_type": "stream",
     "text": [
      "Test loss: 1.37845 | Test accuracy: 53.16%\n",
      "\n",
      "Epoch 2/20\n",
      "Train loss: 0.94286 | Train accuracy: 71.33%\n"
     ]
    },
    {
     "name": "stderr",
     "output_type": "stream",
     "text": []
    },
    {
     "name": "stdout",
     "output_type": "stream",
     "text": [
      "Test loss: 1.04904 | Test accuracy: 67.46%\n",
      "\n",
      "Epoch 3/20\n",
      "Train loss: 0.74197 | Train accuracy: 78.39%\n"
     ]
    },
    {
     "name": "stderr",
     "output_type": "stream",
     "text": []
    },
    {
     "name": "stdout",
     "output_type": "stream",
     "text": [
      "Test loss: 0.78308 | Test accuracy: 77.92%\n",
      "\n",
      "Epoch 4/20\n",
      "Train loss: 0.67332 | Train accuracy: 81.08%\n"
     ]
    },
    {
     "name": "stderr",
     "output_type": "stream",
     "text": []
    },
    {
     "name": "stdout",
     "output_type": "stream",
     "text": [
      "Test loss: 0.77887 | Test accuracy: 75.85%\n",
      "\n",
      "Epoch 5/20\n",
      "Train loss: 0.61109 | Train accuracy: 82.58%\n"
     ]
    },
    {
     "name": "stderr",
     "output_type": "stream",
     "text": []
    },
    {
     "name": "stdout",
     "output_type": "stream",
     "text": [
      "Test loss: 0.81828 | Test accuracy: 75.57%\n",
      "\n",
      "Epoch 6/20\n",
      "Train loss: 0.56301 | Train accuracy: 83.53%\n"
     ]
    },
    {
     "name": "stderr",
     "output_type": "stream",
     "text": []
    },
    {
     "name": "stdout",
     "output_type": "stream",
     "text": [
      "Test loss: 0.64862 | Test accuracy: 81.15%\n",
      "\n",
      "Epoch 7/20\n",
      "Train loss: 0.53305 | Train accuracy: 84.02%\n"
     ]
    },
    {
     "name": "stderr",
     "output_type": "stream",
     "text": []
    },
    {
     "name": "stdout",
     "output_type": "stream",
     "text": [
      "Test loss: 0.76491 | Test accuracy: 77.39%\n",
      "\n",
      "Epoch 8/20\n",
      "Train loss: 0.50305 | Train accuracy: 85.41%\n"
     ]
    },
    {
     "name": "stderr",
     "output_type": "stream",
     "text": []
    },
    {
     "name": "stdout",
     "output_type": "stream",
     "text": [
      "Test loss: 0.62672 | Test accuracy: 81.78%\n",
      "\n",
      "Epoch 9/20\n",
      "Train loss: 0.48646 | Train accuracy: 85.42%\n"
     ]
    },
    {
     "name": "stderr",
     "output_type": "stream",
     "text": []
    },
    {
     "name": "stdout",
     "output_type": "stream",
     "text": [
      "Test loss: 0.62699 | Test accuracy: 83.23%\n",
      "\n",
      "Epoch 10/20\n",
      "Train loss: 0.46101 | Train accuracy: 86.00%\n"
     ]
    },
    {
     "name": "stderr",
     "output_type": "stream",
     "text": []
    },
    {
     "name": "stdout",
     "output_type": "stream",
     "text": [
      "Test loss: 0.67746 | Test accuracy: 82.10%\n",
      "\n",
      "Epoch 11/20\n",
      "Train loss: 0.46618 | Train accuracy: 86.18%\n"
     ]
    },
    {
     "name": "stderr",
     "output_type": "stream",
     "text": []
    },
    {
     "name": "stdout",
     "output_type": "stream",
     "text": [
      "Test loss: 0.65155 | Test accuracy: 81.72%\n",
      "\n",
      "Epoch 12/20\n",
      "Train loss: 0.43468 | Train accuracy: 86.59%\n"
     ]
    },
    {
     "name": "stderr",
     "output_type": "stream",
     "text": []
    },
    {
     "name": "stdout",
     "output_type": "stream",
     "text": [
      "Test loss: 0.60018 | Test accuracy: 84.45%\n",
      "\n",
      "Epoch 13/20\n",
      "Train loss: 0.40015 | Train accuracy: 87.83%\n"
     ]
    },
    {
     "name": "stderr",
     "output_type": "stream",
     "text": []
    },
    {
     "name": "stdout",
     "output_type": "stream",
     "text": [
      "Test loss: 0.60421 | Test accuracy: 83.77%\n",
      "\n",
      "Epoch 14/20\n",
      "Train loss: 0.38964 | Train accuracy: 88.15%\n"
     ]
    },
    {
     "name": "stderr",
     "output_type": "stream",
     "text": []
    },
    {
     "name": "stdout",
     "output_type": "stream",
     "text": [
      "Test loss: 0.56766 | Test accuracy: 85.44%\n",
      "\n",
      "Epoch 15/20\n",
      "Train loss: 0.40458 | Train accuracy: 87.75%\n"
     ]
    },
    {
     "name": "stderr",
     "output_type": "stream",
     "text": []
    },
    {
     "name": "stdout",
     "output_type": "stream",
     "text": [
      "Test loss: 0.70199 | Test accuracy: 81.41%\n",
      "\n",
      "Epoch 16/20\n",
      "Train loss: 0.40313 | Train accuracy: 88.03%\n"
     ]
    },
    {
     "name": "stderr",
     "output_type": "stream",
     "text": []
    },
    {
     "name": "stdout",
     "output_type": "stream",
     "text": [
      "Test loss: 0.64858 | Test accuracy: 81.40%\n",
      "\n",
      "Epoch 17/20\n",
      "Train loss: 0.37669 | Train accuracy: 88.77%\n"
     ]
    },
    {
     "name": "stderr",
     "output_type": "stream",
     "text": []
    },
    {
     "name": "stdout",
     "output_type": "stream",
     "text": [
      "Test loss: 0.56724 | Test accuracy: 84.55%\n",
      "\n",
      "Epoch 18/20\n",
      "Train loss: 0.36761 | Train accuracy: 88.93%\n"
     ]
    },
    {
     "name": "stderr",
     "output_type": "stream",
     "text": []
    },
    {
     "name": "stdout",
     "output_type": "stream",
     "text": [
      "Test loss: 0.58631 | Test accuracy: 84.72%\n",
      "\n",
      "Epoch 19/20\n",
      "Train loss: 0.36304 | Train accuracy: 88.89%\n"
     ]
    },
    {
     "name": "stderr",
     "output_type": "stream",
     "text": []
    },
    {
     "name": "stdout",
     "output_type": "stream",
     "text": [
      "Test loss: 0.56007 | Test accuracy: 85.82%\n",
      "\n",
      "Epoch 20/20\n",
      "Train loss: 0.34263 | Train accuracy: 89.22%\n"
     ]
    },
    {
     "name": "stderr",
     "output_type": "stream",
     "text": [
      "100%|██████████| 20/20 [01:52<00:00,  5.64s/it]\n",
      "Grid Search Progress:  67%|██████▋   | 18/27 [29:22<15:30, 103.39s/it]"
     ]
    },
    {
     "name": "stdout",
     "output_type": "stream",
     "text": [
      "Test loss: 0.59748 | Test accuracy: 85.36%\n",
      "Results: Train Acc: 89.22%, Test Acc: 85.36%\n",
      "Time: 0:01:52\n",
      "\n",
      "[19/27] Testing: E512_H4_D0.0_Ep20\n"
     ]
    },
    {
     "name": "stderr",
     "output_type": "stream",
     "text": []
    },
    {
     "name": "stdout",
     "output_type": "stream",
     "text": [
      "\n",
      "Epoch 1/20\n",
      "Train loss: 1.46715 | Train accuracy: 57.49%\n"
     ]
    },
    {
     "name": "stderr",
     "output_type": "stream",
     "text": []
    },
    {
     "name": "stdout",
     "output_type": "stream",
     "text": [
      "Test loss: 1.14235 | Test accuracy: 62.89%\n",
      "\n",
      "Epoch 2/20\n",
      "Train loss: 0.93900 | Train accuracy: 73.06%\n"
     ]
    },
    {
     "name": "stderr",
     "output_type": "stream",
     "text": []
    },
    {
     "name": "stdout",
     "output_type": "stream",
     "text": [
      "Test loss: 0.85784 | Test accuracy: 76.34%\n",
      "\n",
      "Epoch 3/20\n",
      "Train loss: 0.83623 | Train accuracy: 76.22%\n"
     ]
    },
    {
     "name": "stderr",
     "output_type": "stream",
     "text": []
    },
    {
     "name": "stdout",
     "output_type": "stream",
     "text": [
      "Test loss: 1.11589 | Test accuracy: 66.13%\n",
      "\n",
      "Epoch 4/20\n",
      "Train loss: 0.76860 | Train accuracy: 77.70%\n"
     ]
    },
    {
     "name": "stderr",
     "output_type": "stream",
     "text": []
    },
    {
     "name": "stdout",
     "output_type": "stream",
     "text": [
      "Test loss: 0.79694 | Test accuracy: 77.63%\n",
      "\n",
      "Epoch 5/20\n",
      "Train loss: 0.78210 | Train accuracy: 77.93%\n"
     ]
    },
    {
     "name": "stderr",
     "output_type": "stream",
     "text": []
    },
    {
     "name": "stdout",
     "output_type": "stream",
     "text": [
      "Test loss: 0.92271 | Test accuracy: 72.13%\n",
      "\n",
      "Epoch 6/20\n",
      "Train loss: 0.70334 | Train accuracy: 80.03%\n"
     ]
    },
    {
     "name": "stderr",
     "output_type": "stream",
     "text": []
    },
    {
     "name": "stdout",
     "output_type": "stream",
     "text": [
      "Test loss: 0.82827 | Test accuracy: 76.09%\n",
      "\n",
      "Epoch 7/20\n",
      "Train loss: 0.66817 | Train accuracy: 79.98%\n"
     ]
    },
    {
     "name": "stderr",
     "output_type": "stream",
     "text": []
    },
    {
     "name": "stdout",
     "output_type": "stream",
     "text": [
      "Test loss: 0.74314 | Test accuracy: 79.14%\n",
      "\n",
      "Epoch 8/20\n",
      "Train loss: 0.66129 | Train accuracy: 80.65%\n"
     ]
    },
    {
     "name": "stderr",
     "output_type": "stream",
     "text": []
    },
    {
     "name": "stdout",
     "output_type": "stream",
     "text": [
      "Test loss: 0.82084 | Test accuracy: 75.35%\n",
      "\n",
      "Epoch 9/20\n",
      "Train loss: 0.63676 | Train accuracy: 82.00%\n"
     ]
    },
    {
     "name": "stderr",
     "output_type": "stream",
     "text": []
    },
    {
     "name": "stdout",
     "output_type": "stream",
     "text": [
      "Test loss: 0.71912 | Test accuracy: 79.31%\n",
      "\n",
      "Epoch 10/20\n",
      "Train loss: 0.63086 | Train accuracy: 81.84%\n"
     ]
    },
    {
     "name": "stderr",
     "output_type": "stream",
     "text": []
    },
    {
     "name": "stdout",
     "output_type": "stream",
     "text": [
      "Test loss: 0.67741 | Test accuracy: 80.13%\n",
      "\n",
      "Epoch 11/20\n",
      "Train loss: 0.64506 | Train accuracy: 81.68%\n"
     ]
    },
    {
     "name": "stderr",
     "output_type": "stream",
     "text": []
    },
    {
     "name": "stdout",
     "output_type": "stream",
     "text": [
      "Test loss: 0.82830 | Test accuracy: 77.36%\n",
      "\n",
      "Epoch 12/20\n",
      "Train loss: 0.61028 | Train accuracy: 82.33%\n"
     ]
    },
    {
     "name": "stderr",
     "output_type": "stream",
     "text": []
    },
    {
     "name": "stdout",
     "output_type": "stream",
     "text": [
      "Test loss: 0.77504 | Test accuracy: 77.79%\n",
      "\n",
      "Epoch 13/20\n",
      "Train loss: 0.61203 | Train accuracy: 82.38%\n"
     ]
    },
    {
     "name": "stderr",
     "output_type": "stream",
     "text": []
    },
    {
     "name": "stdout",
     "output_type": "stream",
     "text": [
      "Test loss: 0.69856 | Test accuracy: 79.36%\n",
      "\n",
      "Epoch 14/20\n",
      "Train loss: 0.58511 | Train accuracy: 82.91%\n"
     ]
    },
    {
     "name": "stderr",
     "output_type": "stream",
     "text": []
    },
    {
     "name": "stdout",
     "output_type": "stream",
     "text": [
      "Test loss: 0.72365 | Test accuracy: 78.79%\n",
      "\n",
      "Epoch 15/20\n",
      "Train loss: 0.57679 | Train accuracy: 82.88%\n"
     ]
    },
    {
     "name": "stderr",
     "output_type": "stream",
     "text": []
    },
    {
     "name": "stdout",
     "output_type": "stream",
     "text": [
      "Test loss: 0.75506 | Test accuracy: 76.73%\n",
      "\n",
      "Epoch 16/20\n",
      "Train loss: 0.56391 | Train accuracy: 83.36%\n"
     ]
    },
    {
     "name": "stderr",
     "output_type": "stream",
     "text": []
    },
    {
     "name": "stdout",
     "output_type": "stream",
     "text": [
      "Test loss: 0.74089 | Test accuracy: 79.68%\n",
      "\n",
      "Epoch 17/20\n",
      "Train loss: 0.55982 | Train accuracy: 83.61%\n"
     ]
    },
    {
     "name": "stderr",
     "output_type": "stream",
     "text": []
    },
    {
     "name": "stdout",
     "output_type": "stream",
     "text": [
      "Test loss: 0.70419 | Test accuracy: 80.59%\n",
      "\n",
      "Epoch 18/20\n",
      "Train loss: 0.54785 | Train accuracy: 83.87%\n"
     ]
    },
    {
     "name": "stderr",
     "output_type": "stream",
     "text": []
    },
    {
     "name": "stdout",
     "output_type": "stream",
     "text": [
      "Test loss: 0.73377 | Test accuracy: 79.17%\n",
      "\n",
      "Epoch 19/20\n",
      "Train loss: 0.54937 | Train accuracy: 83.67%\n"
     ]
    },
    {
     "name": "stderr",
     "output_type": "stream",
     "text": []
    },
    {
     "name": "stdout",
     "output_type": "stream",
     "text": [
      "Test loss: 0.70619 | Test accuracy: 79.92%\n",
      "\n",
      "Epoch 20/20\n",
      "Train loss: 0.54841 | Train accuracy: 83.65%\n"
     ]
    },
    {
     "name": "stderr",
     "output_type": "stream",
     "text": [
      "100%|██████████| 20/20 [02:04<00:00,  6.20s/it]\n",
      "Grid Search Progress:  70%|███████   | 19/27 [31:26<14:36, 109.61s/it]"
     ]
    },
    {
     "name": "stdout",
     "output_type": "stream",
     "text": [
      "Test loss: 0.63827 | Test accuracy: 82.43%\n",
      "Results: Train Acc: 83.65%, Test Acc: 82.43%\n",
      "Time: 0:02:04\n",
      "\n",
      "[20/27] Testing: E512_H4_D0.1_Ep20\n"
     ]
    },
    {
     "name": "stderr",
     "output_type": "stream",
     "text": []
    },
    {
     "name": "stdout",
     "output_type": "stream",
     "text": [
      "\n",
      "Epoch 1/20\n",
      "Train loss: 1.41173 | Train accuracy: 59.17%\n"
     ]
    },
    {
     "name": "stderr",
     "output_type": "stream",
     "text": []
    },
    {
     "name": "stdout",
     "output_type": "stream",
     "text": [
      "Test loss: 1.45731 | Test accuracy: 54.06%\n",
      "\n",
      "Epoch 2/20\n",
      "Train loss: 1.02209 | Train accuracy: 70.67%\n"
     ]
    },
    {
     "name": "stderr",
     "output_type": "stream",
     "text": []
    },
    {
     "name": "stdout",
     "output_type": "stream",
     "text": [
      "Test loss: 1.03502 | Test accuracy: 69.04%\n",
      "\n",
      "Epoch 3/20\n",
      "Train loss: 0.92857 | Train accuracy: 73.38%\n"
     ]
    },
    {
     "name": "stderr",
     "output_type": "stream",
     "text": []
    },
    {
     "name": "stdout",
     "output_type": "stream",
     "text": [
      "Test loss: 1.13223 | Test accuracy: 67.64%\n",
      "\n",
      "Epoch 4/20\n",
      "Train loss: 0.84531 | Train accuracy: 75.90%\n"
     ]
    },
    {
     "name": "stderr",
     "output_type": "stream",
     "text": []
    },
    {
     "name": "stdout",
     "output_type": "stream",
     "text": [
      "Test loss: 0.86185 | Test accuracy: 75.18%\n",
      "\n",
      "Epoch 5/20\n",
      "Train loss: 0.79362 | Train accuracy: 77.31%\n"
     ]
    },
    {
     "name": "stderr",
     "output_type": "stream",
     "text": []
    },
    {
     "name": "stdout",
     "output_type": "stream",
     "text": [
      "Test loss: 0.90658 | Test accuracy: 75.29%\n",
      "\n",
      "Epoch 6/20\n",
      "Train loss: 0.78096 | Train accuracy: 77.86%\n"
     ]
    },
    {
     "name": "stderr",
     "output_type": "stream",
     "text": []
    },
    {
     "name": "stdout",
     "output_type": "stream",
     "text": [
      "Test loss: 0.94758 | Test accuracy: 73.22%\n",
      "\n",
      "Epoch 7/20\n",
      "Train loss: 0.73990 | Train accuracy: 78.47%\n"
     ]
    },
    {
     "name": "stderr",
     "output_type": "stream",
     "text": []
    },
    {
     "name": "stdout",
     "output_type": "stream",
     "text": [
      "Test loss: 0.89178 | Test accuracy: 74.29%\n",
      "\n",
      "Epoch 8/20\n",
      "Train loss: 0.71997 | Train accuracy: 78.89%\n"
     ]
    },
    {
     "name": "stderr",
     "output_type": "stream",
     "text": []
    },
    {
     "name": "stdout",
     "output_type": "stream",
     "text": [
      "Test loss: 0.76151 | Test accuracy: 79.39%\n",
      "\n",
      "Epoch 9/20\n",
      "Train loss: 0.68151 | Train accuracy: 79.72%\n"
     ]
    },
    {
     "name": "stderr",
     "output_type": "stream",
     "text": []
    },
    {
     "name": "stdout",
     "output_type": "stream",
     "text": [
      "Test loss: 0.83099 | Test accuracy: 77.77%\n",
      "\n",
      "Epoch 10/20\n",
      "Train loss: 0.67684 | Train accuracy: 80.33%\n"
     ]
    },
    {
     "name": "stderr",
     "output_type": "stream",
     "text": []
    },
    {
     "name": "stdout",
     "output_type": "stream",
     "text": [
      "Test loss: 0.77734 | Test accuracy: 77.85%\n",
      "\n",
      "Epoch 11/20\n",
      "Train loss: 0.65781 | Train accuracy: 80.68%\n"
     ]
    },
    {
     "name": "stderr",
     "output_type": "stream",
     "text": []
    },
    {
     "name": "stdout",
     "output_type": "stream",
     "text": [
      "Test loss: 0.78107 | Test accuracy: 77.64%\n",
      "\n",
      "Epoch 12/20\n",
      "Train loss: 0.64284 | Train accuracy: 81.03%\n"
     ]
    },
    {
     "name": "stderr",
     "output_type": "stream",
     "text": []
    },
    {
     "name": "stdout",
     "output_type": "stream",
     "text": [
      "Test loss: 0.81700 | Test accuracy: 75.48%\n",
      "\n",
      "Epoch 13/20\n",
      "Train loss: 0.61229 | Train accuracy: 81.68%\n"
     ]
    },
    {
     "name": "stderr",
     "output_type": "stream",
     "text": []
    },
    {
     "name": "stdout",
     "output_type": "stream",
     "text": [
      "Test loss: 0.81714 | Test accuracy: 78.85%\n",
      "\n",
      "Epoch 14/20\n",
      "Train loss: 0.60821 | Train accuracy: 81.49%\n"
     ]
    },
    {
     "name": "stderr",
     "output_type": "stream",
     "text": []
    },
    {
     "name": "stdout",
     "output_type": "stream",
     "text": [
      "Test loss: 0.71919 | Test accuracy: 79.94%\n",
      "\n",
      "Epoch 15/20\n",
      "Train loss: 0.58580 | Train accuracy: 82.54%\n"
     ]
    },
    {
     "name": "stderr",
     "output_type": "stream",
     "text": []
    },
    {
     "name": "stdout",
     "output_type": "stream",
     "text": [
      "Test loss: 0.70925 | Test accuracy: 80.70%\n",
      "\n",
      "Epoch 16/20\n",
      "Train loss: 0.57207 | Train accuracy: 82.53%\n"
     ]
    },
    {
     "name": "stderr",
     "output_type": "stream",
     "text": []
    },
    {
     "name": "stdout",
     "output_type": "stream",
     "text": [
      "Test loss: 0.85871 | Test accuracy: 75.82%\n",
      "\n",
      "Epoch 17/20\n",
      "Train loss: 0.58511 | Train accuracy: 81.65%\n"
     ]
    },
    {
     "name": "stderr",
     "output_type": "stream",
     "text": []
    },
    {
     "name": "stdout",
     "output_type": "stream",
     "text": [
      "Test loss: 0.98483 | Test accuracy: 73.92%\n",
      "\n",
      "Epoch 18/20\n",
      "Train loss: 0.60600 | Train accuracy: 82.01%\n"
     ]
    },
    {
     "name": "stderr",
     "output_type": "stream",
     "text": []
    },
    {
     "name": "stdout",
     "output_type": "stream",
     "text": [
      "Test loss: 0.86158 | Test accuracy: 75.05%\n",
      "\n",
      "Epoch 19/20\n",
      "Train loss: 0.57805 | Train accuracy: 83.06%\n"
     ]
    },
    {
     "name": "stderr",
     "output_type": "stream",
     "text": []
    },
    {
     "name": "stdout",
     "output_type": "stream",
     "text": [
      "Test loss: 0.65237 | Test accuracy: 82.35%\n",
      "\n",
      "Epoch 20/20\n",
      "Train loss: 0.55846 | Train accuracy: 83.35%\n"
     ]
    },
    {
     "name": "stderr",
     "output_type": "stream",
     "text": [
      "100%|██████████| 20/20 [02:06<00:00,  6.33s/it]\n",
      "Grid Search Progress:  74%|███████▍  | 20/27 [33:32<13:22, 114.71s/it]"
     ]
    },
    {
     "name": "stdout",
     "output_type": "stream",
     "text": [
      "Test loss: 0.81810 | Test accuracy: 76.29%\n",
      "Results: Train Acc: 83.35%, Test Acc: 76.29%\n",
      "Time: 0:02:06\n",
      "\n",
      "[21/27] Testing: E512_H4_D0.2_Ep20\n"
     ]
    },
    {
     "name": "stderr",
     "output_type": "stream",
     "text": []
    },
    {
     "name": "stdout",
     "output_type": "stream",
     "text": [
      "\n",
      "Epoch 1/20\n",
      "Train loss: 1.49203 | Train accuracy: 56.45%\n"
     ]
    },
    {
     "name": "stderr",
     "output_type": "stream",
     "text": []
    },
    {
     "name": "stdout",
     "output_type": "stream",
     "text": [
      "Test loss: 1.24148 | Test accuracy: 63.79%\n",
      "\n",
      "Epoch 2/20\n",
      "Train loss: 0.99305 | Train accuracy: 72.35%\n"
     ]
    },
    {
     "name": "stderr",
     "output_type": "stream",
     "text": []
    },
    {
     "name": "stdout",
     "output_type": "stream",
     "text": [
      "Test loss: 1.04776 | Test accuracy: 70.94%\n",
      "\n",
      "Epoch 3/20\n",
      "Train loss: 0.85251 | Train accuracy: 76.14%\n"
     ]
    },
    {
     "name": "stderr",
     "output_type": "stream",
     "text": []
    },
    {
     "name": "stdout",
     "output_type": "stream",
     "text": [
      "Test loss: 0.93033 | Test accuracy: 73.03%\n",
      "\n",
      "Epoch 4/20\n",
      "Train loss: 0.80820 | Train accuracy: 77.58%\n"
     ]
    },
    {
     "name": "stderr",
     "output_type": "stream",
     "text": []
    },
    {
     "name": "stdout",
     "output_type": "stream",
     "text": [
      "Test loss: 0.90355 | Test accuracy: 76.22%\n",
      "\n",
      "Epoch 5/20\n",
      "Train loss: 0.74603 | Train accuracy: 78.30%\n"
     ]
    },
    {
     "name": "stderr",
     "output_type": "stream",
     "text": []
    },
    {
     "name": "stdout",
     "output_type": "stream",
     "text": [
      "Test loss: 0.90209 | Test accuracy: 75.72%\n",
      "\n",
      "Epoch 6/20\n",
      "Train loss: 0.70502 | Train accuracy: 79.73%\n"
     ]
    },
    {
     "name": "stderr",
     "output_type": "stream",
     "text": []
    },
    {
     "name": "stdout",
     "output_type": "stream",
     "text": [
      "Test loss: 0.95553 | Test accuracy: 71.27%\n",
      "\n",
      "Epoch 7/20\n",
      "Train loss: 0.68453 | Train accuracy: 80.16%\n"
     ]
    },
    {
     "name": "stderr",
     "output_type": "stream",
     "text": []
    },
    {
     "name": "stdout",
     "output_type": "stream",
     "text": [
      "Test loss: 0.79032 | Test accuracy: 77.85%\n",
      "\n",
      "Epoch 8/20\n",
      "Train loss: 0.67340 | Train accuracy: 80.71%\n"
     ]
    },
    {
     "name": "stderr",
     "output_type": "stream",
     "text": []
    },
    {
     "name": "stdout",
     "output_type": "stream",
     "text": [
      "Test loss: 0.74847 | Test accuracy: 79.25%\n",
      "\n",
      "Epoch 9/20\n",
      "Train loss: 0.63199 | Train accuracy: 81.20%\n"
     ]
    },
    {
     "name": "stderr",
     "output_type": "stream",
     "text": []
    },
    {
     "name": "stdout",
     "output_type": "stream",
     "text": [
      "Test loss: 0.79913 | Test accuracy: 77.95%\n",
      "\n",
      "Epoch 10/20\n",
      "Train loss: 0.63021 | Train accuracy: 81.69%\n"
     ]
    },
    {
     "name": "stderr",
     "output_type": "stream",
     "text": []
    },
    {
     "name": "stdout",
     "output_type": "stream",
     "text": [
      "Test loss: 0.80443 | Test accuracy: 76.95%\n",
      "\n",
      "Epoch 11/20\n",
      "Train loss: 0.61395 | Train accuracy: 81.59%\n"
     ]
    },
    {
     "name": "stderr",
     "output_type": "stream",
     "text": []
    },
    {
     "name": "stdout",
     "output_type": "stream",
     "text": [
      "Test loss: 0.86944 | Test accuracy: 72.02%\n",
      "\n",
      "Epoch 12/20\n",
      "Train loss: 0.59136 | Train accuracy: 82.01%\n"
     ]
    },
    {
     "name": "stderr",
     "output_type": "stream",
     "text": []
    },
    {
     "name": "stdout",
     "output_type": "stream",
     "text": [
      "Test loss: 0.81386 | Test accuracy: 77.44%\n",
      "\n",
      "Epoch 13/20\n",
      "Train loss: 0.59388 | Train accuracy: 82.08%\n"
     ]
    },
    {
     "name": "stderr",
     "output_type": "stream",
     "text": []
    },
    {
     "name": "stdout",
     "output_type": "stream",
     "text": [
      "Test loss: 0.91396 | Test accuracy: 74.35%\n",
      "\n",
      "Epoch 14/20\n",
      "Train loss: 0.60703 | Train accuracy: 81.99%\n"
     ]
    },
    {
     "name": "stderr",
     "output_type": "stream",
     "text": []
    },
    {
     "name": "stdout",
     "output_type": "stream",
     "text": [
      "Test loss: 0.74935 | Test accuracy: 79.09%\n",
      "\n",
      "Epoch 15/20\n",
      "Train loss: 0.57972 | Train accuracy: 82.18%\n"
     ]
    },
    {
     "name": "stderr",
     "output_type": "stream",
     "text": []
    },
    {
     "name": "stdout",
     "output_type": "stream",
     "text": [
      "Test loss: 0.84852 | Test accuracy: 77.93%\n",
      "\n",
      "Epoch 16/20\n",
      "Train loss: 0.55798 | Train accuracy: 83.35%\n"
     ]
    },
    {
     "name": "stderr",
     "output_type": "stream",
     "text": []
    },
    {
     "name": "stdout",
     "output_type": "stream",
     "text": [
      "Test loss: 0.71721 | Test accuracy: 79.79%\n",
      "\n",
      "Epoch 17/20\n",
      "Train loss: 0.55985 | Train accuracy: 83.41%\n"
     ]
    },
    {
     "name": "stderr",
     "output_type": "stream",
     "text": []
    },
    {
     "name": "stdout",
     "output_type": "stream",
     "text": [
      "Test loss: 0.68059 | Test accuracy: 81.73%\n",
      "\n",
      "Epoch 18/20\n",
      "Train loss: 0.54937 | Train accuracy: 83.31%\n"
     ]
    },
    {
     "name": "stderr",
     "output_type": "stream",
     "text": []
    },
    {
     "name": "stdout",
     "output_type": "stream",
     "text": [
      "Test loss: 0.81103 | Test accuracy: 76.35%\n",
      "\n",
      "Epoch 19/20\n",
      "Train loss: 0.55207 | Train accuracy: 83.56%\n"
     ]
    },
    {
     "name": "stderr",
     "output_type": "stream",
     "text": []
    },
    {
     "name": "stdout",
     "output_type": "stream",
     "text": [
      "Test loss: 0.69306 | Test accuracy: 80.21%\n",
      "\n",
      "Epoch 20/20\n",
      "Train loss: 0.53311 | Train accuracy: 84.13%\n"
     ]
    },
    {
     "name": "stderr",
     "output_type": "stream",
     "text": [
      "100%|██████████| 20/20 [02:09<00:00,  6.48s/it]\n",
      "Grid Search Progress:  78%|███████▊  | 21/27 [35:42<11:55, 119.19s/it]"
     ]
    },
    {
     "name": "stdout",
     "output_type": "stream",
     "text": [
      "Test loss: 0.73218 | Test accuracy: 79.54%\n",
      "Results: Train Acc: 84.13%, Test Acc: 79.54%\n",
      "Time: 0:02:09\n",
      "\n",
      "[22/27] Testing: E512_H8_D0.0_Ep20\n"
     ]
    },
    {
     "name": "stderr",
     "output_type": "stream",
     "text": []
    },
    {
     "name": "stdout",
     "output_type": "stream",
     "text": [
      "\n",
      "Epoch 1/20\n",
      "Train loss: 1.48381 | Train accuracy: 57.40%\n"
     ]
    },
    {
     "name": "stderr",
     "output_type": "stream",
     "text": []
    },
    {
     "name": "stdout",
     "output_type": "stream",
     "text": [
      "Test loss: 1.30639 | Test accuracy: 61.87%\n",
      "\n",
      "Epoch 2/20\n",
      "Train loss: 0.89139 | Train accuracy: 74.64%\n"
     ]
    },
    {
     "name": "stderr",
     "output_type": "stream",
     "text": []
    },
    {
     "name": "stdout",
     "output_type": "stream",
     "text": [
      "Test loss: 0.91892 | Test accuracy: 73.51%\n",
      "\n",
      "Epoch 3/20\n",
      "Train loss: 0.79845 | Train accuracy: 76.99%\n"
     ]
    },
    {
     "name": "stderr",
     "output_type": "stream",
     "text": []
    },
    {
     "name": "stdout",
     "output_type": "stream",
     "text": [
      "Test loss: 0.89755 | Test accuracy: 73.91%\n",
      "\n",
      "Epoch 4/20\n",
      "Train loss: 0.72984 | Train accuracy: 79.24%\n"
     ]
    },
    {
     "name": "stderr",
     "output_type": "stream",
     "text": []
    },
    {
     "name": "stdout",
     "output_type": "stream",
     "text": [
      "Test loss: 0.84246 | Test accuracy: 75.55%\n",
      "\n",
      "Epoch 5/20\n",
      "Train loss: 0.69667 | Train accuracy: 79.72%\n"
     ]
    },
    {
     "name": "stderr",
     "output_type": "stream",
     "text": []
    },
    {
     "name": "stdout",
     "output_type": "stream",
     "text": [
      "Test loss: 0.80954 | Test accuracy: 76.38%\n",
      "\n",
      "Epoch 6/20\n",
      "Train loss: 0.65441 | Train accuracy: 80.83%\n"
     ]
    },
    {
     "name": "stderr",
     "output_type": "stream",
     "text": []
    },
    {
     "name": "stdout",
     "output_type": "stream",
     "text": [
      "Test loss: 0.80141 | Test accuracy: 77.06%\n",
      "\n",
      "Epoch 7/20\n",
      "Train loss: 0.60832 | Train accuracy: 82.14%\n"
     ]
    },
    {
     "name": "stderr",
     "output_type": "stream",
     "text": []
    },
    {
     "name": "stdout",
     "output_type": "stream",
     "text": [
      "Test loss: 0.74516 | Test accuracy: 80.06%\n",
      "\n",
      "Epoch 8/20\n",
      "Train loss: 0.59666 | Train accuracy: 82.29%\n"
     ]
    },
    {
     "name": "stderr",
     "output_type": "stream",
     "text": []
    },
    {
     "name": "stdout",
     "output_type": "stream",
     "text": [
      "Test loss: 0.70745 | Test accuracy: 81.10%\n",
      "\n",
      "Epoch 9/20\n",
      "Train loss: 0.56975 | Train accuracy: 82.79%\n"
     ]
    },
    {
     "name": "stderr",
     "output_type": "stream",
     "text": []
    },
    {
     "name": "stdout",
     "output_type": "stream",
     "text": [
      "Test loss: 0.70562 | Test accuracy: 81.40%\n",
      "\n",
      "Epoch 10/20\n",
      "Train loss: 0.54681 | Train accuracy: 83.39%\n"
     ]
    },
    {
     "name": "stderr",
     "output_type": "stream",
     "text": []
    },
    {
     "name": "stdout",
     "output_type": "stream",
     "text": [
      "Test loss: 0.68251 | Test accuracy: 79.30%\n",
      "\n",
      "Epoch 11/20\n",
      "Train loss: 0.51168 | Train accuracy: 84.39%\n"
     ]
    },
    {
     "name": "stderr",
     "output_type": "stream",
     "text": []
    },
    {
     "name": "stdout",
     "output_type": "stream",
     "text": [
      "Test loss: 0.72778 | Test accuracy: 78.61%\n",
      "\n",
      "Epoch 12/20\n",
      "Train loss: 0.52886 | Train accuracy: 84.37%\n"
     ]
    },
    {
     "name": "stderr",
     "output_type": "stream",
     "text": []
    },
    {
     "name": "stdout",
     "output_type": "stream",
     "text": [
      "Test loss: 0.69221 | Test accuracy: 81.56%\n",
      "\n",
      "Epoch 13/20\n",
      "Train loss: 0.49297 | Train accuracy: 85.06%\n"
     ]
    },
    {
     "name": "stderr",
     "output_type": "stream",
     "text": []
    },
    {
     "name": "stdout",
     "output_type": "stream",
     "text": [
      "Test loss: 0.63810 | Test accuracy: 81.61%\n",
      "\n",
      "Epoch 14/20\n",
      "Train loss: 0.51177 | Train accuracy: 84.83%\n"
     ]
    },
    {
     "name": "stderr",
     "output_type": "stream",
     "text": []
    },
    {
     "name": "stdout",
     "output_type": "stream",
     "text": [
      "Test loss: 0.63300 | Test accuracy: 82.80%\n",
      "\n",
      "Epoch 15/20\n",
      "Train loss: 0.49424 | Train accuracy: 84.82%\n"
     ]
    },
    {
     "name": "stderr",
     "output_type": "stream",
     "text": []
    },
    {
     "name": "stdout",
     "output_type": "stream",
     "text": [
      "Test loss: 0.60117 | Test accuracy: 83.07%\n",
      "\n",
      "Epoch 16/20\n",
      "Train loss: 0.46227 | Train accuracy: 86.03%\n"
     ]
    },
    {
     "name": "stderr",
     "output_type": "stream",
     "text": []
    },
    {
     "name": "stdout",
     "output_type": "stream",
     "text": [
      "Test loss: 0.64495 | Test accuracy: 81.10%\n",
      "\n",
      "Epoch 17/20\n",
      "Train loss: 0.47912 | Train accuracy: 85.43%\n"
     ]
    },
    {
     "name": "stderr",
     "output_type": "stream",
     "text": []
    },
    {
     "name": "stdout",
     "output_type": "stream",
     "text": [
      "Test loss: 0.64199 | Test accuracy: 82.74%\n",
      "\n",
      "Epoch 18/20\n",
      "Train loss: 0.44242 | Train accuracy: 86.75%\n"
     ]
    },
    {
     "name": "stderr",
     "output_type": "stream",
     "text": []
    },
    {
     "name": "stdout",
     "output_type": "stream",
     "text": [
      "Test loss: 0.71319 | Test accuracy: 80.48%\n",
      "\n",
      "Epoch 19/20\n",
      "Train loss: 0.45403 | Train accuracy: 85.82%\n"
     ]
    },
    {
     "name": "stderr",
     "output_type": "stream",
     "text": []
    },
    {
     "name": "stdout",
     "output_type": "stream",
     "text": [
      "Test loss: 0.73734 | Test accuracy: 79.16%\n",
      "\n",
      "Epoch 20/20\n",
      "Train loss: 0.46900 | Train accuracy: 85.76%\n"
     ]
    },
    {
     "name": "stderr",
     "output_type": "stream",
     "text": [
      "100%|██████████| 20/20 [02:26<00:00,  7.34s/it]\n",
      "Grid Search Progress:  81%|████████▏ | 22/27 [38:09<10:37, 127.48s/it]"
     ]
    },
    {
     "name": "stdout",
     "output_type": "stream",
     "text": [
      "Test loss: 0.64348 | Test accuracy: 82.18%\n",
      "Results: Train Acc: 85.76%, Test Acc: 82.18%\n",
      "Time: 0:02:26\n",
      "\n",
      "[23/27] Testing: E512_H8_D0.1_Ep20\n"
     ]
    },
    {
     "name": "stderr",
     "output_type": "stream",
     "text": []
    },
    {
     "name": "stdout",
     "output_type": "stream",
     "text": [
      "\n",
      "Epoch 1/20\n",
      "Train loss: 1.48694 | Train accuracy: 56.35%\n"
     ]
    },
    {
     "name": "stderr",
     "output_type": "stream",
     "text": []
    },
    {
     "name": "stdout",
     "output_type": "stream",
     "text": [
      "Test loss: 1.11153 | Test accuracy: 68.47%\n",
      "\n",
      "Epoch 2/20\n",
      "Train loss: 0.97383 | Train accuracy: 72.12%\n"
     ]
    },
    {
     "name": "stderr",
     "output_type": "stream",
     "text": []
    },
    {
     "name": "stdout",
     "output_type": "stream",
     "text": [
      "Test loss: 1.06847 | Test accuracy: 70.32%\n",
      "\n",
      "Epoch 3/20\n",
      "Train loss: 0.80987 | Train accuracy: 76.91%\n"
     ]
    },
    {
     "name": "stderr",
     "output_type": "stream",
     "text": []
    },
    {
     "name": "stdout",
     "output_type": "stream",
     "text": [
      "Test loss: 0.99439 | Test accuracy: 72.31%\n",
      "\n",
      "Epoch 4/20\n",
      "Train loss: 0.75311 | Train accuracy: 78.11%\n"
     ]
    },
    {
     "name": "stderr",
     "output_type": "stream",
     "text": []
    },
    {
     "name": "stdout",
     "output_type": "stream",
     "text": [
      "Test loss: 0.87490 | Test accuracy: 77.41%\n",
      "\n",
      "Epoch 5/20\n",
      "Train loss: 0.68885 | Train accuracy: 79.97%\n"
     ]
    },
    {
     "name": "stderr",
     "output_type": "stream",
     "text": []
    },
    {
     "name": "stdout",
     "output_type": "stream",
     "text": [
      "Test loss: 0.80069 | Test accuracy: 77.74%\n",
      "\n",
      "Epoch 6/20\n",
      "Train loss: 0.65382 | Train accuracy: 81.01%\n"
     ]
    },
    {
     "name": "stderr",
     "output_type": "stream",
     "text": []
    },
    {
     "name": "stdout",
     "output_type": "stream",
     "text": [
      "Test loss: 0.69905 | Test accuracy: 81.02%\n",
      "\n",
      "Epoch 7/20\n",
      "Train loss: 0.62847 | Train accuracy: 81.44%\n"
     ]
    },
    {
     "name": "stderr",
     "output_type": "stream",
     "text": []
    },
    {
     "name": "stdout",
     "output_type": "stream",
     "text": [
      "Test loss: 0.79910 | Test accuracy: 77.88%\n",
      "\n",
      "Epoch 8/20\n",
      "Train loss: 0.64858 | Train accuracy: 80.78%\n"
     ]
    },
    {
     "name": "stderr",
     "output_type": "stream",
     "text": []
    },
    {
     "name": "stdout",
     "output_type": "stream",
     "text": [
      "Test loss: 0.66082 | Test accuracy: 82.02%\n",
      "\n",
      "Epoch 9/20\n",
      "Train loss: 0.56246 | Train accuracy: 83.52%\n"
     ]
    },
    {
     "name": "stderr",
     "output_type": "stream",
     "text": []
    },
    {
     "name": "stdout",
     "output_type": "stream",
     "text": [
      "Test loss: 0.78358 | Test accuracy: 79.70%\n",
      "\n",
      "Epoch 10/20\n",
      "Train loss: 0.56381 | Train accuracy: 83.15%\n"
     ]
    },
    {
     "name": "stderr",
     "output_type": "stream",
     "text": []
    },
    {
     "name": "stdout",
     "output_type": "stream",
     "text": [
      "Test loss: 0.80991 | Test accuracy: 76.26%\n",
      "\n",
      "Epoch 11/20\n",
      "Train loss: 0.54519 | Train accuracy: 83.62%\n"
     ]
    },
    {
     "name": "stderr",
     "output_type": "stream",
     "text": []
    },
    {
     "name": "stdout",
     "output_type": "stream",
     "text": [
      "Test loss: 0.78102 | Test accuracy: 78.17%\n",
      "\n",
      "Epoch 12/20\n",
      "Train loss: 0.55595 | Train accuracy: 83.17%\n"
     ]
    },
    {
     "name": "stderr",
     "output_type": "stream",
     "text": []
    },
    {
     "name": "stdout",
     "output_type": "stream",
     "text": [
      "Test loss: 0.73097 | Test accuracy: 80.92%\n",
      "\n",
      "Epoch 13/20\n",
      "Train loss: 0.54809 | Train accuracy: 83.95%\n"
     ]
    },
    {
     "name": "stderr",
     "output_type": "stream",
     "text": []
    },
    {
     "name": "stdout",
     "output_type": "stream",
     "text": [
      "Test loss: 0.69318 | Test accuracy: 79.94%\n",
      "\n",
      "Epoch 14/20\n",
      "Train loss: 0.50123 | Train accuracy: 84.66%\n"
     ]
    },
    {
     "name": "stderr",
     "output_type": "stream",
     "text": []
    },
    {
     "name": "stdout",
     "output_type": "stream",
     "text": [
      "Test loss: 0.67782 | Test accuracy: 81.45%\n",
      "\n",
      "Epoch 15/20\n",
      "Train loss: 0.50056 | Train accuracy: 84.65%\n"
     ]
    },
    {
     "name": "stderr",
     "output_type": "stream",
     "text": []
    },
    {
     "name": "stdout",
     "output_type": "stream",
     "text": [
      "Test loss: 0.66685 | Test accuracy: 83.05%\n",
      "\n",
      "Epoch 16/20\n",
      "Train loss: 0.48510 | Train accuracy: 84.99%\n"
     ]
    },
    {
     "name": "stderr",
     "output_type": "stream",
     "text": []
    },
    {
     "name": "stdout",
     "output_type": "stream",
     "text": [
      "Test loss: 0.71663 | Test accuracy: 81.40%\n",
      "\n",
      "Epoch 17/20\n",
      "Train loss: 0.47704 | Train accuracy: 85.08%\n"
     ]
    },
    {
     "name": "stderr",
     "output_type": "stream",
     "text": []
    },
    {
     "name": "stdout",
     "output_type": "stream",
     "text": [
      "Test loss: 0.67242 | Test accuracy: 83.47%\n",
      "\n",
      "Epoch 18/20\n",
      "Train loss: 0.48008 | Train accuracy: 85.16%\n"
     ]
    },
    {
     "name": "stderr",
     "output_type": "stream",
     "text": []
    },
    {
     "name": "stdout",
     "output_type": "stream",
     "text": [
      "Test loss: 0.72466 | Test accuracy: 81.75%\n",
      "\n",
      "Epoch 19/20\n",
      "Train loss: 0.48863 | Train accuracy: 85.03%\n"
     ]
    },
    {
     "name": "stderr",
     "output_type": "stream",
     "text": []
    },
    {
     "name": "stdout",
     "output_type": "stream",
     "text": [
      "Test loss: 0.64252 | Test accuracy: 82.31%\n",
      "\n",
      "Epoch 20/20\n",
      "Train loss: 0.45439 | Train accuracy: 85.87%\n"
     ]
    },
    {
     "name": "stderr",
     "output_type": "stream",
     "text": [
      "100%|██████████| 20/20 [02:27<00:00,  7.37s/it]\n",
      "Grid Search Progress:  85%|████████▌ | 23/27 [40:36<08:53, 133.49s/it]"
     ]
    },
    {
     "name": "stdout",
     "output_type": "stream",
     "text": [
      "Test loss: 0.64742 | Test accuracy: 82.37%\n",
      "Results: Train Acc: 85.87%, Test Acc: 82.37%\n",
      "Time: 0:02:27\n",
      "\n",
      "[24/27] Testing: E512_H8_D0.2_Ep20\n"
     ]
    },
    {
     "name": "stderr",
     "output_type": "stream",
     "text": []
    },
    {
     "name": "stdout",
     "output_type": "stream",
     "text": [
      "\n",
      "Epoch 1/20\n",
      "Train loss: 1.51065 | Train accuracy: 55.45%\n"
     ]
    },
    {
     "name": "stderr",
     "output_type": "stream",
     "text": []
    },
    {
     "name": "stdout",
     "output_type": "stream",
     "text": [
      "Test loss: 1.11198 | Test accuracy: 61.17%\n",
      "\n",
      "Epoch 2/20\n"
     ]
    },
    {
     "name": "stderr",
     "output_type": "stream",
     "text": [
      "  5%|▌         | 1/20 [00:10<03:23, 10.69s/it]\n",
      "Grid Search Progress:  85%|████████▌ | 23/27 [40:47<07:05, 106.41s/it]\n"
     ]
    },
    {
     "ename": "KeyboardInterrupt",
     "evalue": "",
     "output_type": "error",
     "traceback": [
      "\u001b[31m---------------------------------------------------------------------------\u001b[39m",
      "\u001b[31mKeyboardInterrupt\u001b[39m                         Traceback (most recent call last)",
      "\u001b[36mCell\u001b[39m\u001b[36m \u001b[39m\u001b[32mIn[110]\u001b[39m\u001b[32m, line 173\u001b[39m\n\u001b[32m    166\u001b[39m epochs_list=[\u001b[32m20\u001b[39m]\n\u001b[32m    167\u001b[39m \u001b[38;5;66;03m# embed_dims = [128]\u001b[39;00m\n\u001b[32m    168\u001b[39m \u001b[38;5;66;03m# num_heads_list = [2, 4]\u001b[39;00m\n\u001b[32m    169\u001b[39m \u001b[38;5;66;03m# p_drops = [0.1]\u001b[39;00m\n\u001b[32m    170\u001b[39m \u001b[38;5;66;03m# epochs_list = [5]\u001b[39;00m\n\u001b[32m    171\u001b[39m \n\u001b[32m    172\u001b[39m \u001b[38;5;66;03m# Run grid search\u001b[39;00m\n\u001b[32m--> \u001b[39m\u001b[32m173\u001b[39m results_df, best_model = \u001b[43mgrid_search_attention_model\u001b[49m\u001b[43m(\u001b[49m\n\u001b[32m    174\u001b[39m \u001b[43m    \u001b[49m\u001b[43mtrain_dataloader\u001b[49m\u001b[43m=\u001b[49m\u001b[43mtrain_dataloader\u001b[49m\u001b[43m,\u001b[49m\n\u001b[32m    175\u001b[39m \u001b[43m    \u001b[49m\u001b[43mtest_dataloader\u001b[49m\u001b[43m=\u001b[49m\u001b[43mtest_dataloader\u001b[49m\u001b[43m,\u001b[49m\n\u001b[32m    176\u001b[39m \u001b[43m    \u001b[49m\u001b[43mnum_classes\u001b[49m\u001b[43m=\u001b[49m\u001b[43mNUM_CLASSES\u001b[49m\u001b[43m,\u001b[49m\n\u001b[32m    177\u001b[39m \u001b[43m    \u001b[49m\u001b[43mdevice\u001b[49m\u001b[43m=\u001b[49m\u001b[43mdevice\u001b[49m\u001b[43m,\u001b[49m\n\u001b[32m    178\u001b[39m \u001b[43m    \u001b[49m\u001b[43membed_dims\u001b[49m\u001b[43m=\u001b[49m\u001b[43membed_dims\u001b[49m\u001b[43m,\u001b[49m\n\u001b[32m    179\u001b[39m \u001b[43m    \u001b[49m\u001b[43mnum_heads_list\u001b[49m\u001b[43m=\u001b[49m\u001b[43mnum_heads_list\u001b[49m\u001b[43m,\u001b[49m\n\u001b[32m    180\u001b[39m \u001b[43m    \u001b[49m\u001b[43mp_drops\u001b[49m\u001b[43m=\u001b[49m\u001b[43mp_drops\u001b[49m\u001b[43m,\u001b[49m\n\u001b[32m    181\u001b[39m \u001b[43m    \u001b[49m\u001b[43mepochs_list\u001b[49m\u001b[43m=\u001b[49m\u001b[43mepochs_list\u001b[49m\n\u001b[32m    182\u001b[39m \u001b[43m)\u001b[49m\n\u001b[32m    184\u001b[39m \u001b[38;5;66;03m# # Train best model for more epochs if desired\u001b[39;00m\n\u001b[32m    185\u001b[39m \u001b[38;5;66;03m# print(\"\\nTraining best model for more epochs...\")\u001b[39;00m\n\u001b[32m    186\u001b[39m best_config = results_df.iloc[\u001b[32m0\u001b[39m]\n",
      "\u001b[36mCell\u001b[39m\u001b[36m \u001b[39m\u001b[32mIn[110]\u001b[39m\u001b[32m, line 59\u001b[39m, in \u001b[36mgrid_search_attention_model\u001b[39m\u001b[34m(train_dataloader, test_dataloader, num_classes, device, embed_dims, num_heads_list, p_drops, epochs_list, save_best, results_dir)\u001b[39m\n\u001b[32m     57\u001b[39m \u001b[38;5;66;03m# Train and time the model\u001b[39;00m\n\u001b[32m     58\u001b[39m start_time = time.time()\n\u001b[32m---> \u001b[39m\u001b[32m59\u001b[39m train_accs, test_accs, train_losses, test_losses = \u001b[43mtrain_model\u001b[49m\u001b[43m(\u001b[49m\u001b[43mmodel\u001b[49m\u001b[43m,\u001b[49m\u001b[43m \u001b[49m\u001b[43mepochs\u001b[49m\u001b[43m)\u001b[49m\n\u001b[32m     60\u001b[39m training_time = time.time() - start_time\n\u001b[32m     62\u001b[39m \u001b[38;5;66;03m# Get final metrics\u001b[39;00m\n",
      "\u001b[36mCell\u001b[39m\u001b[36m \u001b[39m\u001b[32mIn[101]\u001b[39m\u001b[32m, line 10\u001b[39m, in \u001b[36mtrain_model\u001b[39m\u001b[34m(model, epochs)\u001b[39m\n\u001b[32m      7\u001b[39m \u001b[38;5;28mprint\u001b[39m(\u001b[33mf\u001b[39m\u001b[33m\"\u001b[39m\u001b[38;5;130;01m\\n\u001b[39;00m\u001b[33mEpoch \u001b[39m\u001b[38;5;132;01m{\u001b[39;00mepoch+\u001b[32m1\u001b[39m\u001b[38;5;132;01m}\u001b[39;00m\u001b[33m/\u001b[39m\u001b[38;5;132;01m{\u001b[39;00mepochs\u001b[38;5;132;01m}\u001b[39;00m\u001b[33m\"\u001b[39m)\n\u001b[32m      9\u001b[39m \u001b[38;5;66;03m# Train step\u001b[39;00m\n\u001b[32m---> \u001b[39m\u001b[32m10\u001b[39m train_loss, train_acc = \u001b[43mtrain_step\u001b[49m\u001b[43m(\u001b[49m\n\u001b[32m     11\u001b[39m \u001b[43m    \u001b[49m\u001b[43mmodel\u001b[49m\u001b[43m=\u001b[49m\u001b[43mmodel\u001b[49m\u001b[43m,\u001b[49m\n\u001b[32m     12\u001b[39m \u001b[43m    \u001b[49m\u001b[43mdata_loader\u001b[49m\u001b[43m=\u001b[49m\u001b[43mtrain_dataloader\u001b[49m\u001b[43m,\u001b[49m\n\u001b[32m     13\u001b[39m \u001b[43m    \u001b[49m\u001b[43mloss_fn\u001b[49m\u001b[43m=\u001b[49m\u001b[43mloss_fn\u001b[49m\u001b[43m,\u001b[49m\n\u001b[32m     14\u001b[39m \u001b[43m    \u001b[49m\u001b[43moptimiser\u001b[49m\u001b[43m=\u001b[49m\u001b[43moptimiser\u001b[49m\u001b[43m,\u001b[49m\n\u001b[32m     15\u001b[39m \u001b[43m    \u001b[49m\u001b[43maccuracy_fn\u001b[49m\u001b[43m=\u001b[49m\u001b[43maccuracy_fn\u001b[49m\u001b[43m,\u001b[49m\n\u001b[32m     16\u001b[39m \u001b[43m    \u001b[49m\u001b[43mdevice\u001b[49m\u001b[43m=\u001b[49m\u001b[43mdevice\u001b[49m\n\u001b[32m     17\u001b[39m \u001b[43m\u001b[49m\u001b[43m)\u001b[49m\n\u001b[32m     19\u001b[39m \u001b[38;5;66;03m# Test step\u001b[39;00m\n\u001b[32m     20\u001b[39m test_loss, test_acc = test_step(\n\u001b[32m     21\u001b[39m     model=model,\n\u001b[32m     22\u001b[39m     data_loader=test_dataloader,\n\u001b[32m   (...)\u001b[39m\u001b[32m     25\u001b[39m     device=device\n\u001b[32m     26\u001b[39m )\n",
      "\u001b[36mCell\u001b[39m\u001b[36m \u001b[39m\u001b[32mIn[99]\u001b[39m\u001b[32m, line 41\u001b[39m, in \u001b[36mtrain_step\u001b[39m\u001b[34m(model, data_loader, loss_fn, optimiser, accuracy_fn, device)\u001b[39m\n\u001b[32m     38\u001b[39m     loss.backward()\n\u001b[32m     40\u001b[39m     \u001b[38;5;66;03m# Update\u001b[39;00m\n\u001b[32m---> \u001b[39m\u001b[32m41\u001b[39m     \u001b[43moptimiser\u001b[49m\u001b[43m.\u001b[49m\u001b[43mstep\u001b[49m\u001b[43m(\u001b[49m\u001b[43m)\u001b[49m\n\u001b[32m     43\u001b[39m     \u001b[38;5;66;03m# if batch % 400 == 0:\u001b[39;00m\n\u001b[32m     44\u001b[39m     \u001b[38;5;66;03m#     print(f\"TRAIN: Processed {batch * len(X)}/{len(data_loader.dataset)} samples\")\u001b[39;00m\n\u001b[32m     46\u001b[39m \u001b[38;5;28;01mexcept\u001b[39;00m \u001b[38;5;167;01mException\u001b[39;00m \u001b[38;5;28;01mas\u001b[39;00m e:\n",
      "\u001b[36mFile \u001b[39m\u001b[32mc:\\Users\\snevi\\OneDrive\\Documents\\coding\\AI\\deep_learning\\venv311\\Lib\\site-packages\\torch\\optim\\optimizer.py:487\u001b[39m, in \u001b[36mOptimizer.profile_hook_step.<locals>.wrapper\u001b[39m\u001b[34m(*args, **kwargs)\u001b[39m\n\u001b[32m    482\u001b[39m         \u001b[38;5;28;01melse\u001b[39;00m:\n\u001b[32m    483\u001b[39m             \u001b[38;5;28;01mraise\u001b[39;00m \u001b[38;5;167;01mRuntimeError\u001b[39;00m(\n\u001b[32m    484\u001b[39m                 \u001b[33mf\u001b[39m\u001b[33m\"\u001b[39m\u001b[38;5;132;01m{\u001b[39;00mfunc\u001b[38;5;132;01m}\u001b[39;00m\u001b[33m must return None or a tuple of (new_args, new_kwargs), but got \u001b[39m\u001b[38;5;132;01m{\u001b[39;00mresult\u001b[38;5;132;01m}\u001b[39;00m\u001b[33m.\u001b[39m\u001b[33m\"\u001b[39m\n\u001b[32m    485\u001b[39m             )\n\u001b[32m--> \u001b[39m\u001b[32m487\u001b[39m out = \u001b[43mfunc\u001b[49m\u001b[43m(\u001b[49m\u001b[43m*\u001b[49m\u001b[43margs\u001b[49m\u001b[43m,\u001b[49m\u001b[43m \u001b[49m\u001b[43m*\u001b[49m\u001b[43m*\u001b[49m\u001b[43mkwargs\u001b[49m\u001b[43m)\u001b[49m\n\u001b[32m    488\u001b[39m \u001b[38;5;28mself\u001b[39m._optimizer_step_code()\n\u001b[32m    490\u001b[39m \u001b[38;5;66;03m# call optimizer step post hooks\u001b[39;00m\n",
      "\u001b[36mFile \u001b[39m\u001b[32mc:\\Users\\snevi\\OneDrive\\Documents\\coding\\AI\\deep_learning\\venv311\\Lib\\site-packages\\torch\\optim\\optimizer.py:91\u001b[39m, in \u001b[36m_use_grad_for_differentiable.<locals>._use_grad\u001b[39m\u001b[34m(self, *args, **kwargs)\u001b[39m\n\u001b[32m     89\u001b[39m     torch.set_grad_enabled(\u001b[38;5;28mself\u001b[39m.defaults[\u001b[33m\"\u001b[39m\u001b[33mdifferentiable\u001b[39m\u001b[33m\"\u001b[39m])\n\u001b[32m     90\u001b[39m     torch._dynamo.graph_break()\n\u001b[32m---> \u001b[39m\u001b[32m91\u001b[39m     ret = \u001b[43mfunc\u001b[49m\u001b[43m(\u001b[49m\u001b[38;5;28;43mself\u001b[39;49m\u001b[43m,\u001b[49m\u001b[43m \u001b[49m\u001b[43m*\u001b[49m\u001b[43margs\u001b[49m\u001b[43m,\u001b[49m\u001b[43m \u001b[49m\u001b[43m*\u001b[49m\u001b[43m*\u001b[49m\u001b[43mkwargs\u001b[49m\u001b[43m)\u001b[49m\n\u001b[32m     92\u001b[39m \u001b[38;5;28;01mfinally\u001b[39;00m:\n\u001b[32m     93\u001b[39m     torch._dynamo.graph_break()\n",
      "\u001b[36mFile \u001b[39m\u001b[32mc:\\Users\\snevi\\OneDrive\\Documents\\coding\\AI\\deep_learning\\venv311\\Lib\\site-packages\\torch\\optim\\adam.py:223\u001b[39m, in \u001b[36mAdam.step\u001b[39m\u001b[34m(self, closure)\u001b[39m\n\u001b[32m    211\u001b[39m     beta1, beta2 = group[\u001b[33m\"\u001b[39m\u001b[33mbetas\u001b[39m\u001b[33m\"\u001b[39m]\n\u001b[32m    213\u001b[39m     has_complex = \u001b[38;5;28mself\u001b[39m._init_group(\n\u001b[32m    214\u001b[39m         group,\n\u001b[32m    215\u001b[39m         params_with_grad,\n\u001b[32m   (...)\u001b[39m\u001b[32m    220\u001b[39m         state_steps,\n\u001b[32m    221\u001b[39m     )\n\u001b[32m--> \u001b[39m\u001b[32m223\u001b[39m     \u001b[43madam\u001b[49m\u001b[43m(\u001b[49m\n\u001b[32m    224\u001b[39m \u001b[43m        \u001b[49m\u001b[43mparams_with_grad\u001b[49m\u001b[43m,\u001b[49m\n\u001b[32m    225\u001b[39m \u001b[43m        \u001b[49m\u001b[43mgrads\u001b[49m\u001b[43m,\u001b[49m\n\u001b[32m    226\u001b[39m \u001b[43m        \u001b[49m\u001b[43mexp_avgs\u001b[49m\u001b[43m,\u001b[49m\n\u001b[32m    227\u001b[39m \u001b[43m        \u001b[49m\u001b[43mexp_avg_sqs\u001b[49m\u001b[43m,\u001b[49m\n\u001b[32m    228\u001b[39m \u001b[43m        \u001b[49m\u001b[43mmax_exp_avg_sqs\u001b[49m\u001b[43m,\u001b[49m\n\u001b[32m    229\u001b[39m \u001b[43m        \u001b[49m\u001b[43mstate_steps\u001b[49m\u001b[43m,\u001b[49m\n\u001b[32m    230\u001b[39m \u001b[43m        \u001b[49m\u001b[43mamsgrad\u001b[49m\u001b[43m=\u001b[49m\u001b[43mgroup\u001b[49m\u001b[43m[\u001b[49m\u001b[33;43m\"\u001b[39;49m\u001b[33;43mamsgrad\u001b[39;49m\u001b[33;43m\"\u001b[39;49m\u001b[43m]\u001b[49m\u001b[43m,\u001b[49m\n\u001b[32m    231\u001b[39m \u001b[43m        \u001b[49m\u001b[43mhas_complex\u001b[49m\u001b[43m=\u001b[49m\u001b[43mhas_complex\u001b[49m\u001b[43m,\u001b[49m\n\u001b[32m    232\u001b[39m \u001b[43m        \u001b[49m\u001b[43mbeta1\u001b[49m\u001b[43m=\u001b[49m\u001b[43mbeta1\u001b[49m\u001b[43m,\u001b[49m\n\u001b[32m    233\u001b[39m \u001b[43m        \u001b[49m\u001b[43mbeta2\u001b[49m\u001b[43m=\u001b[49m\u001b[43mbeta2\u001b[49m\u001b[43m,\u001b[49m\n\u001b[32m    234\u001b[39m \u001b[43m        \u001b[49m\u001b[43mlr\u001b[49m\u001b[43m=\u001b[49m\u001b[43mgroup\u001b[49m\u001b[43m[\u001b[49m\u001b[33;43m\"\u001b[39;49m\u001b[33;43mlr\u001b[39;49m\u001b[33;43m\"\u001b[39;49m\u001b[43m]\u001b[49m\u001b[43m,\u001b[49m\n\u001b[32m    235\u001b[39m \u001b[43m        \u001b[49m\u001b[43mweight_decay\u001b[49m\u001b[43m=\u001b[49m\u001b[43mgroup\u001b[49m\u001b[43m[\u001b[49m\u001b[33;43m\"\u001b[39;49m\u001b[33;43mweight_decay\u001b[39;49m\u001b[33;43m\"\u001b[39;49m\u001b[43m]\u001b[49m\u001b[43m,\u001b[49m\n\u001b[32m    236\u001b[39m \u001b[43m        \u001b[49m\u001b[43meps\u001b[49m\u001b[43m=\u001b[49m\u001b[43mgroup\u001b[49m\u001b[43m[\u001b[49m\u001b[33;43m\"\u001b[39;49m\u001b[33;43meps\u001b[39;49m\u001b[33;43m\"\u001b[39;49m\u001b[43m]\u001b[49m\u001b[43m,\u001b[49m\n\u001b[32m    237\u001b[39m \u001b[43m        \u001b[49m\u001b[43mmaximize\u001b[49m\u001b[43m=\u001b[49m\u001b[43mgroup\u001b[49m\u001b[43m[\u001b[49m\u001b[33;43m\"\u001b[39;49m\u001b[33;43mmaximize\u001b[39;49m\u001b[33;43m\"\u001b[39;49m\u001b[43m]\u001b[49m\u001b[43m,\u001b[49m\n\u001b[32m    238\u001b[39m \u001b[43m        \u001b[49m\u001b[43mforeach\u001b[49m\u001b[43m=\u001b[49m\u001b[43mgroup\u001b[49m\u001b[43m[\u001b[49m\u001b[33;43m\"\u001b[39;49m\u001b[33;43mforeach\u001b[39;49m\u001b[33;43m\"\u001b[39;49m\u001b[43m]\u001b[49m\u001b[43m,\u001b[49m\n\u001b[32m    239\u001b[39m \u001b[43m        \u001b[49m\u001b[43mcapturable\u001b[49m\u001b[43m=\u001b[49m\u001b[43mgroup\u001b[49m\u001b[43m[\u001b[49m\u001b[33;43m\"\u001b[39;49m\u001b[33;43mcapturable\u001b[39;49m\u001b[33;43m\"\u001b[39;49m\u001b[43m]\u001b[49m\u001b[43m,\u001b[49m\n\u001b[32m    240\u001b[39m \u001b[43m        \u001b[49m\u001b[43mdifferentiable\u001b[49m\u001b[43m=\u001b[49m\u001b[43mgroup\u001b[49m\u001b[43m[\u001b[49m\u001b[33;43m\"\u001b[39;49m\u001b[33;43mdifferentiable\u001b[39;49m\u001b[33;43m\"\u001b[39;49m\u001b[43m]\u001b[49m\u001b[43m,\u001b[49m\n\u001b[32m    241\u001b[39m \u001b[43m        \u001b[49m\u001b[43mfused\u001b[49m\u001b[43m=\u001b[49m\u001b[43mgroup\u001b[49m\u001b[43m[\u001b[49m\u001b[33;43m\"\u001b[39;49m\u001b[33;43mfused\u001b[39;49m\u001b[33;43m\"\u001b[39;49m\u001b[43m]\u001b[49m\u001b[43m,\u001b[49m\n\u001b[32m    242\u001b[39m \u001b[43m        \u001b[49m\u001b[43mgrad_scale\u001b[49m\u001b[43m=\u001b[49m\u001b[38;5;28;43mgetattr\u001b[39;49m\u001b[43m(\u001b[49m\u001b[38;5;28;43mself\u001b[39;49m\u001b[43m,\u001b[49m\u001b[43m \u001b[49m\u001b[33;43m\"\u001b[39;49m\u001b[33;43mgrad_scale\u001b[39;49m\u001b[33;43m\"\u001b[39;49m\u001b[43m,\u001b[49m\u001b[43m \u001b[49m\u001b[38;5;28;43;01mNone\u001b[39;49;00m\u001b[43m)\u001b[49m\u001b[43m,\u001b[49m\n\u001b[32m    243\u001b[39m \u001b[43m        \u001b[49m\u001b[43mfound_inf\u001b[49m\u001b[43m=\u001b[49m\u001b[38;5;28;43mgetattr\u001b[39;49m\u001b[43m(\u001b[49m\u001b[38;5;28;43mself\u001b[39;49m\u001b[43m,\u001b[49m\u001b[43m \u001b[49m\u001b[33;43m\"\u001b[39;49m\u001b[33;43mfound_inf\u001b[39;49m\u001b[33;43m\"\u001b[39;49m\u001b[43m,\u001b[49m\u001b[43m \u001b[49m\u001b[38;5;28;43;01mNone\u001b[39;49;00m\u001b[43m)\u001b[49m\u001b[43m,\u001b[49m\n\u001b[32m    244\u001b[39m \u001b[43m    \u001b[49m\u001b[43m)\u001b[49m\n\u001b[32m    246\u001b[39m \u001b[38;5;28;01mreturn\u001b[39;00m loss\n",
      "\u001b[36mFile \u001b[39m\u001b[32mc:\\Users\\snevi\\OneDrive\\Documents\\coding\\AI\\deep_learning\\venv311\\Lib\\site-packages\\torch\\optim\\optimizer.py:154\u001b[39m, in \u001b[36m_disable_dynamo_if_unsupported.<locals>.wrapper.<locals>.maybe_fallback\u001b[39m\u001b[34m(*args, **kwargs)\u001b[39m\n\u001b[32m    152\u001b[39m     \u001b[38;5;28;01mreturn\u001b[39;00m disabled_func(*args, **kwargs)\n\u001b[32m    153\u001b[39m \u001b[38;5;28;01melse\u001b[39;00m:\n\u001b[32m--> \u001b[39m\u001b[32m154\u001b[39m     \u001b[38;5;28;01mreturn\u001b[39;00m \u001b[43mfunc\u001b[49m\u001b[43m(\u001b[49m\u001b[43m*\u001b[49m\u001b[43margs\u001b[49m\u001b[43m,\u001b[49m\u001b[43m \u001b[49m\u001b[43m*\u001b[49m\u001b[43m*\u001b[49m\u001b[43mkwargs\u001b[49m\u001b[43m)\u001b[49m\n",
      "\u001b[36mFile \u001b[39m\u001b[32mc:\\Users\\snevi\\OneDrive\\Documents\\coding\\AI\\deep_learning\\venv311\\Lib\\site-packages\\torch\\optim\\adam.py:784\u001b[39m, in \u001b[36madam\u001b[39m\u001b[34m(params, grads, exp_avgs, exp_avg_sqs, max_exp_avg_sqs, state_steps, foreach, capturable, differentiable, fused, grad_scale, found_inf, has_complex, amsgrad, beta1, beta2, lr, weight_decay, eps, maximize)\u001b[39m\n\u001b[32m    781\u001b[39m \u001b[38;5;28;01melse\u001b[39;00m:\n\u001b[32m    782\u001b[39m     func = _single_tensor_adam\n\u001b[32m--> \u001b[39m\u001b[32m784\u001b[39m \u001b[43mfunc\u001b[49m\u001b[43m(\u001b[49m\n\u001b[32m    785\u001b[39m \u001b[43m    \u001b[49m\u001b[43mparams\u001b[49m\u001b[43m,\u001b[49m\n\u001b[32m    786\u001b[39m \u001b[43m    \u001b[49m\u001b[43mgrads\u001b[49m\u001b[43m,\u001b[49m\n\u001b[32m    787\u001b[39m \u001b[43m    \u001b[49m\u001b[43mexp_avgs\u001b[49m\u001b[43m,\u001b[49m\n\u001b[32m    788\u001b[39m \u001b[43m    \u001b[49m\u001b[43mexp_avg_sqs\u001b[49m\u001b[43m,\u001b[49m\n\u001b[32m    789\u001b[39m \u001b[43m    \u001b[49m\u001b[43mmax_exp_avg_sqs\u001b[49m\u001b[43m,\u001b[49m\n\u001b[32m    790\u001b[39m \u001b[43m    \u001b[49m\u001b[43mstate_steps\u001b[49m\u001b[43m,\u001b[49m\n\u001b[32m    791\u001b[39m \u001b[43m    \u001b[49m\u001b[43mamsgrad\u001b[49m\u001b[43m=\u001b[49m\u001b[43mamsgrad\u001b[49m\u001b[43m,\u001b[49m\n\u001b[32m    792\u001b[39m \u001b[43m    \u001b[49m\u001b[43mhas_complex\u001b[49m\u001b[43m=\u001b[49m\u001b[43mhas_complex\u001b[49m\u001b[43m,\u001b[49m\n\u001b[32m    793\u001b[39m \u001b[43m    \u001b[49m\u001b[43mbeta1\u001b[49m\u001b[43m=\u001b[49m\u001b[43mbeta1\u001b[49m\u001b[43m,\u001b[49m\n\u001b[32m    794\u001b[39m \u001b[43m    \u001b[49m\u001b[43mbeta2\u001b[49m\u001b[43m=\u001b[49m\u001b[43mbeta2\u001b[49m\u001b[43m,\u001b[49m\n\u001b[32m    795\u001b[39m \u001b[43m    \u001b[49m\u001b[43mlr\u001b[49m\u001b[43m=\u001b[49m\u001b[43mlr\u001b[49m\u001b[43m,\u001b[49m\n\u001b[32m    796\u001b[39m \u001b[43m    \u001b[49m\u001b[43mweight_decay\u001b[49m\u001b[43m=\u001b[49m\u001b[43mweight_decay\u001b[49m\u001b[43m,\u001b[49m\n\u001b[32m    797\u001b[39m \u001b[43m    \u001b[49m\u001b[43meps\u001b[49m\u001b[43m=\u001b[49m\u001b[43meps\u001b[49m\u001b[43m,\u001b[49m\n\u001b[32m    798\u001b[39m \u001b[43m    \u001b[49m\u001b[43mmaximize\u001b[49m\u001b[43m=\u001b[49m\u001b[43mmaximize\u001b[49m\u001b[43m,\u001b[49m\n\u001b[32m    799\u001b[39m \u001b[43m    \u001b[49m\u001b[43mcapturable\u001b[49m\u001b[43m=\u001b[49m\u001b[43mcapturable\u001b[49m\u001b[43m,\u001b[49m\n\u001b[32m    800\u001b[39m \u001b[43m    \u001b[49m\u001b[43mdifferentiable\u001b[49m\u001b[43m=\u001b[49m\u001b[43mdifferentiable\u001b[49m\u001b[43m,\u001b[49m\n\u001b[32m    801\u001b[39m \u001b[43m    \u001b[49m\u001b[43mgrad_scale\u001b[49m\u001b[43m=\u001b[49m\u001b[43mgrad_scale\u001b[49m\u001b[43m,\u001b[49m\n\u001b[32m    802\u001b[39m \u001b[43m    \u001b[49m\u001b[43mfound_inf\u001b[49m\u001b[43m=\u001b[49m\u001b[43mfound_inf\u001b[49m\u001b[43m,\u001b[49m\n\u001b[32m    803\u001b[39m \u001b[43m\u001b[49m\u001b[43m)\u001b[49m\n",
      "\u001b[36mFile \u001b[39m\u001b[32mc:\\Users\\snevi\\OneDrive\\Documents\\coding\\AI\\deep_learning\\venv311\\Lib\\site-packages\\torch\\optim\\adam.py:543\u001b[39m, in \u001b[36m_multi_tensor_adam\u001b[39m\u001b[34m(params, grads, exp_avgs, exp_avg_sqs, max_exp_avg_sqs, state_steps, grad_scale, found_inf, amsgrad, has_complex, beta1, beta2, lr, weight_decay, eps, maximize, capturable, differentiable)\u001b[39m\n\u001b[32m    540\u001b[39m torch._foreach_lerp_(device_exp_avgs, device_grads, \u001b[32m1\u001b[39m - beta1)\n\u001b[32m    542\u001b[39m torch._foreach_mul_(device_exp_avg_sqs, beta2)\n\u001b[32m--> \u001b[39m\u001b[32m543\u001b[39m \u001b[43mtorch\u001b[49m\u001b[43m.\u001b[49m\u001b[43m_foreach_addcmul_\u001b[49m\u001b[43m(\u001b[49m\n\u001b[32m    544\u001b[39m \u001b[43m    \u001b[49m\u001b[43mdevice_exp_avg_sqs\u001b[49m\u001b[43m,\u001b[49m\u001b[43m \u001b[49m\u001b[43mdevice_grads\u001b[49m\u001b[43m,\u001b[49m\u001b[43m \u001b[49m\u001b[43mdevice_grads\u001b[49m\u001b[43m,\u001b[49m\u001b[43m \u001b[49m\u001b[32;43m1\u001b[39;49m\u001b[43m \u001b[49m\u001b[43m-\u001b[49m\u001b[43m \u001b[49m\u001b[43mbeta2\u001b[49m\n\u001b[32m    545\u001b[39m \u001b[43m\u001b[49m\u001b[43m)\u001b[49m\n\u001b[32m    547\u001b[39m \u001b[38;5;66;03m# Delete the local intermediate since it won't be used anymore to save on peak memory\u001b[39;00m\n\u001b[32m    548\u001b[39m \u001b[38;5;28;01mdel\u001b[39;00m device_grads\n",
      "\u001b[31mKeyboardInterrupt\u001b[39m: "
     ]
    }
   ],
   "source": [
    "def grid_search_attention_model(\n",
    "    train_dataloader, \n",
    "    test_dataloader, \n",
    "    num_classes,\n",
    "    device,\n",
    "    embed_dims=[64, 128, 256, 512],\n",
    "    num_heads_list=[4, 8, 16],\n",
    "    p_drops=[0.0, 0.1, 0.2],\n",
    "    epochs_list=[20],\n",
    "    save_best=True,\n",
    "    results_dir=\"grid_search_results\"\n",
    "):\n",
    "    \"\"\"\n",
    "    Perform grid search for MultiHeadClassifier with pandas DataFrame tracking.\n",
    "    Results are sorted by test accuracy.\n",
    "    \"\"\"\n",
    "    \n",
    "    print(\"Starting grid search for MultiHeadClassifier...\")\n",
    "    \n",
    "    # Create directory for results if it doesn't exist\n",
    "    if save_best and not os.path.exists(results_dir):\n",
    "        os.makedirs(results_dir)\n",
    "    \n",
    "    # Generate all parameter combinations\n",
    "    param_combinations = list(itertools.product(embed_dims, num_heads_list, p_drops, epochs_list))\n",
    "    \n",
    "    # Filter out invalid combinations (embed_dim must be divisible by num_heads)\n",
    "    valid_combinations = [(ed, nh, pd, ep) for ed, nh, pd, ep in param_combinations if ed % nh == 0]\n",
    "    \n",
    "    print(f\"Total valid parameter combinations: {len(valid_combinations)}\")\n",
    "    \n",
    "    # Initialize results DataFrame\n",
    "    results_df = pd.DataFrame(columns=[\n",
    "        'embed_dim', 'num_heads', 'p_drop', 'epochs',\n",
    "        'train_acc', 'test_acc', 'train_loss', 'test_loss', \n",
    "        'time_seconds', 'model_name'\n",
    "    ])\n",
    "    \n",
    "    best_test_acc = 0\n",
    "    best_model = None\n",
    "    \n",
    "    # Loop through combinations\n",
    "    for i, (embed_dim, num_heads, p_drop, epochs) in enumerate(tqdm(valid_combinations, desc=\"Grid Search Progress\")):\n",
    "        # Create model name\n",
    "        model_name = f\"E{embed_dim}_H{num_heads}_D{p_drop}_Ep{epochs}\"\n",
    "        \n",
    "        print(f\"\\n[{i+1}/{len(valid_combinations)}] Testing: {model_name}\")\n",
    "        \n",
    "        # Initialize model\n",
    "        model = MultiHeadClassifier(\n",
    "            num_classes=num_classes,\n",
    "            embed_dim=embed_dim,\n",
    "            num_heads=num_heads,\n",
    "            p_drop=p_drop\n",
    "        ).to(device)\n",
    "        \n",
    "        # Train and time the model\n",
    "        start_time = time.time()\n",
    "        train_accs, test_accs, train_losses, test_losses = train_model(model, epochs,verbose=False)\n",
    "        training_time = time.time() - start_time\n",
    "        \n",
    "        # Get final metrics\n",
    "        final_train_acc = train_accs[-1]\n",
    "        final_test_acc = test_accs[-1]\n",
    "        final_train_loss = train_losses[-1]\n",
    "        final_test_loss = test_losses[-1]\n",
    "        \n",
    "        # Add results to DataFrame\n",
    "        new_row = pd.DataFrame([{\n",
    "            'embed_dim': embed_dim,\n",
    "            'num_heads': num_heads,\n",
    "            'p_drop': p_drop,\n",
    "            'epochs': epochs,\n",
    "            'train_acc': final_train_acc,\n",
    "            'test_acc': final_test_acc,\n",
    "            'train_loss': final_train_loss,\n",
    "            'test_loss': final_test_loss,\n",
    "            'time_seconds': training_time,\n",
    "            'model_name': model_name\n",
    "        }])\n",
    "        \n",
    "        results_df = pd.concat([results_df, new_row], ignore_index=True)\n",
    "        \n",
    "        # Save intermediate results\n",
    "        if save_best:\n",
    "            results_df.to_csv(f\"{results_dir}/grid_search_results.csv\", index=False)\n",
    "        \n",
    "        # Check if this is the best model\n",
    "        if final_test_acc > best_test_acc:\n",
    "            best_test_acc = final_test_acc\n",
    "            best_model = copy.deepcopy(model)\n",
    "            \n",
    "            # Save best model\n",
    "            if save_best:\n",
    "                torch.save(model.state_dict(), f\"{results_dir}/best_model.pt\")\n",
    "                \n",
    "        # Print summary\n",
    "        print(f\"Results: Train Acc: {final_train_acc:.2f}%, Test Acc: {final_test_acc:.2f}%\")\n",
    "        print(f\"Time: {timedelta(seconds=int(training_time))}\")\n",
    "        \n",
    "        # Sort and save updated results\n",
    "        results_df = results_df.sort_values(by='test_acc', ascending=False).reset_index(drop=True)\n",
    "        if save_best:\n",
    "            results_df.to_csv(f\"{results_dir}/grid_search_results_sorted.csv\", index=False)\n",
    "    \n",
    "    # Final summary\n",
    "    print(\"\\n\" + \"=\"*50)\n",
    "    print(\"Grid Search Complete!\")\n",
    "    print(\"=\"*50)\n",
    "    \n",
    "    # Display top 5 models\n",
    "    print(\"\\nTop 5 Models by Test Accuracy:\")\n",
    "    display(results_df.head(5))\n",
    "    \n",
    "    # Visualize results\n",
    "    plot_grid_search_results(results_df)\n",
    "    \n",
    "    return results_df, best_model\n",
    "\n",
    "def plot_grid_search_results(results_df):\n",
    "    \"\"\"Plot grid search results from DataFrame\"\"\"\n",
    "    import matplotlib.pyplot as plt\n",
    "    import seaborn as sns\n",
    "    \n",
    "    plt.figure(figsize=(15, 10))\n",
    "    \n",
    "    # Create subplots\n",
    "    fig, axs = plt.subplots(2, 2, figsize=(16, 12))\n",
    "    \n",
    "    # Plot 1: Embed Dim vs Test Accuracy\n",
    "    sns.barplot(x='embed_dim', y='test_acc', data=results_df, ax=axs[0, 0], \n",
    "                order=sorted(results_df['embed_dim'].unique()))\n",
    "    axs[0, 0].set_title('Embedding Dimension vs Test Accuracy')\n",
    "    axs[0, 0].set_xlabel('Embedding Dimension')\n",
    "    axs[0, 0].set_ylabel('Test Accuracy (%)')\n",
    "    \n",
    "    # Plot 2: Num Heads vs Test Accuracy\n",
    "    sns.barplot(x='num_heads', y='test_acc', data=results_df, ax=axs[0, 1],\n",
    "                order=sorted(results_df['num_heads'].unique()))\n",
    "    axs[0, 1].set_title('Number of Attention Heads vs Test Accuracy')\n",
    "    axs[0, 1].set_xlabel('Number of Attention Heads')\n",
    "    axs[0, 1].set_ylabel('Test Accuracy (%)')\n",
    "    \n",
    "    # Plot 3: Dropout vs Test Accuracy\n",
    "    sns.barplot(x='p_drop', y='test_acc', data=results_df, ax=axs[1, 0],\n",
    "                order=sorted(results_df['p_drop'].unique()))\n",
    "    axs[1, 0].set_title('Dropout Rate vs Test Accuracy')\n",
    "    axs[1, 0].set_xlabel('Dropout Rate')\n",
    "    axs[1, 0].set_ylabel('Test Accuracy (%)')\n",
    "    \n",
    "    # Plot 4: Top 5 Models\n",
    "    top5 = results_df.head(5)\n",
    "    sns.barplot(x='model_name', y='test_acc', data=top5, ax=axs[1, 1])\n",
    "    axs[1, 1].set_title('Top 5 Models by Test Accuracy')\n",
    "    axs[1, 1].set_xlabel('Model Configuration')\n",
    "    axs[1, 1].set_ylabel('Test Accuracy (%)')\n",
    "    axs[1, 1].set_xticklabels(axs[1, 1].get_xticklabels(), rotation=45, ha='right')\n",
    "    \n",
    "    plt.tight_layout()\n",
    "    plt.savefig('grid_search_results.png', dpi=300, bbox_inches='tight')\n",
    "    plt.show()\n",
    "\n",
    "embed_dims=[128, 256, 512]\n",
    "num_heads_list=[4, 8, 16]\n",
    "p_drops=[0.0, 0.1, 0.2]\n",
    "epochs_list=[20]\n",
    "# embed_dims = [128]\n",
    "# num_heads_list = [2, 4]\n",
    "# p_drops = [0.1]\n",
    "# epochs_list = [5]\n",
    "\n",
    "# Run grid search\n",
    "results_df, best_model = grid_search_attention_model(\n",
    "    train_dataloader=train_dataloader,\n",
    "    test_dataloader=test_dataloader,\n",
    "    num_classes=NUM_CLASSES,\n",
    "    device=device,\n",
    "    embed_dims=embed_dims,\n",
    "    num_heads_list=num_heads_list,\n",
    "    p_drops=p_drops,\n",
    "    epochs_list=epochs_list\n",
    ")\n",
    "\n",
    "# # Train best model for more epochs if desired\n",
    "# print(\"\\nTraining best model for more epochs...\")\n",
    "best_config = results_df.iloc[0]\n",
    "\n",
    "final_model = MultiHeadClassifier(\n",
    "    num_classes=NUM_CLASSES,\n",
    "    embed_dim=int(best_config['embed_dim']),\n",
    "    num_heads=int(best_config['num_heads']),\n",
    "    p_drop=float(best_config['p_drop'])\n",
    ").to(device)\n",
    "\n",
    "train_accs, test_accs, train_losses, test_losses = train_model(final_model, epochs=best_config['epochs'])\n",
    "\n",
    "# Plot results\n",
    "plot_acc_losses(\n",
    "    model_name=f\"Best Model: {best_config['model_name']}\",\n",
    "    train_accs=train_accs,\n",
    "    test_accs=test_accs,\n",
    "    train_losses=train_losses,\n",
    "    test_losses=test_losses,\n",
    "    epochs=best_config['epochs']\n",
    ")"
   ]
  },
  {
   "cell_type": "code",
   "execution_count": null,
   "id": "5f711d1e",
   "metadata": {},
   "outputs": [],
   "source": []
  }
 ],
 "metadata": {
  "kernelspec": {
   "display_name": "venv311",
   "language": "python",
   "name": "python3"
  },
  "language_info": {
   "codemirror_mode": {
    "name": "ipython",
    "version": 3
   },
   "file_extension": ".py",
   "mimetype": "text/x-python",
   "name": "python",
   "nbconvert_exporter": "python",
   "pygments_lexer": "ipython3",
   "version": "3.11.0"
  }
 },
 "nbformat": 4,
 "nbformat_minor": 5
}
